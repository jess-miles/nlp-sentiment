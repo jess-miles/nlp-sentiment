{
 "cells": [
  {
   "cell_type": "markdown",
   "metadata": {},
   "source": [
    "## OVERVIEW OF OSEMiN"
   ]
  },
  {
   "cell_type": "markdown",
   "metadata": {},
   "source": [
    "<img src='https://raw.githubusercontent.com/jirvingphd/fsds_100719_cohort_notes/master/images/OSEMN.png' width=800>\n",
    "\n",
    "<center><a href=\"https://www.kdnuggets.com/2018/02/data-science-command-line-book-exploring-data.html\"> \n",
    "    </a></center>\n",
    "\n",
    "\n",
    "> <font size=2em>The Data Science Process we'll be using during this section--OSEMiN (pronounced \"OH-sum\", rhymes with \"possum\").  This is the most straightforward of the Data Science Processes discussed so far.  **Note that during this process, just like the others, the stages often blur together.***  It is completely acceptable (and ***often a best practice!) to float back and forth** between stages as you learn new things about your problem, dataset, requirements, etc.  \n",
    "It's quite common to get to the modeling step and realize that you need to scrub your data a bit more or engineer a different feature and jump back to the \"Scrub\" stage, or go all the way back to the \"Obtain\" stage when you realize your current data isn't sufficient to solve this problem. \n",
    "As with any of these frameworks, *OSEMiN is meant to be treated as guidelines, not law. \n",
    "</font>\n",
    "\n",
    "\n",
    "### OSEMN DETAILS\n",
    "\n",
    "**OBTAIN**\n",
    "\n",
    "- This step involves understanding stakeholder requirements, gathering information on the problem, and finally sourcing data that we think will be necessary for solving this problem. \n",
    "\n",
    "**SCRUB**\n",
    "\n",
    "- During this stage, we'll focus on preprocessing our data.  Important steps such as identifying and removing null values, dealing with outliers, normalizing data, and feature engineering/feature selection are handled around this stage.  The line with this stage really blurs with the _Explore_ stage, as it is common to only realize that certain columns require cleaning or preprocessing as a result of the visualzations and explorations done during Step 3.  \n",
    "\n",
    "- Note that although technically, categorical data should be one-hot encoded during this step, in practice, it's usually done after data exploration.  This is because it is much less time-consuming to visualize and explore a few columns containing categorical data than it is to explore many different dummy columns that have been one-hot encoded. \n",
    "\n",
    "**EXPLORE**\n",
    "\n",
    "- This step focuses on getting to know the dataset you're working with. As mentioned above, this step tends to blend with the _Scrub_ step mentioned above.  During this step, you'll create visualizations to really get a feel for your dataset.  You'll focus on things such as understanding the distribution of different columns, checking for multicollinearity, and other tasks liek that.  If your project is a classification task, you may check the balance of the different classes in your dataset.  If your problem is a regression task, you may check that the dataset meets the assumptions necessary for a regression task.  \n",
    "\n",
    "- At the end of this step, you should have a dataset ready for modeling that you've thoroughly explored and are extremely familiar with.  \n",
    "\n",
    "**MODEL**\n",
    "\n",
    "- This step, as with the last two frameworks, is also pretty self-explanatory. It consists of building and tuning models using all the tools you have in your data science toolbox.  In practice, this often means defining a threshold for success, selecting machine learning algorithms to test on the project, and tuning the ones that show promise to try and increase your results.  As with the other stages, it is both common and accepted to realize something, jump back to a previous stage like _Scrub_ or _Explore_, and make some changes to see how it affects the model.  \n",
    "\n",
    "**iNTERPRET**\n",
    "\n",
    "- During this step, you'll interpret the results of your model(s), and communicate results to stakeholders.  As with the other frameworks, communication is incredibily important! During this stage, you may come to realize that further investigation is needed, or more data.  That's totally fine--figure out what's needed, go get it, and start the process over! If your results are satisfactory to all stakeholders involved, you may also go from this stage right into productionizing your model and automating processes necessary to support it.  \n",
    "\n",
    "\n",
    "\n"
   ]
  },
  {
   "cell_type": "markdown",
   "metadata": {},
   "source": [
    "## PROCESS CHECKLIST\n"
   ]
  },
  {
   "cell_type": "markdown",
   "metadata": {},
   "source": [
    "> Keep in mind that it is normal to jump between the OSEMN phases and some of them will blend together, like SCRUB and EXPLORE."
   ]
  },
  {
   "cell_type": "markdown",
   "metadata": {},
   "source": [
    "1. **[OBTAIN](#OBTAIN)**\n",
    "    - Import data, inspect, check for datatypes to convert and null values\n",
    "    - Display header and info.\n",
    "    - Drop any unneeded columns, if known (`df.drop(['col1','col2'],axis=1,inplace=True`)\n",
    "    <br><br>\n",
    "\n",
    "\n",
    "2. **[SCRUB](#SCRUB)**\n",
    "    - Recast data types, identify outliers, check for multicollinearity, normalize data**\n",
    "    - Check and cast data types\n",
    "        - [ ] Check for #'s that are store as objects (`df.info()`,`df.describe()`)\n",
    "            - when converting to #'s, look for odd values (like many 0's), or strings that can't be converted.\n",
    "            - Decide how to deal weird/null values (`df.unique()`, `df.isna().sum()`)\n",
    "            - `df.fillna(subset=['col_with_nulls'],'fill_value')`, `df.replace()`\n",
    "        - [ ] Check for categorical variables stored as integers.\n",
    "            - May be easier to tell when you make a scatter plotm or `pd.plotting.scatter_matrix()`\n",
    "            \n",
    "    - [ ] Check for missing values  (df.isna().sum())\n",
    "        - Can drop rows or colums\n",
    "        - For missing numeric data with median or bin/convert to categorical\n",
    "        - For missing categorical data: make NaN own category OR replace with most common category\n",
    "    - [ ] Check for multicollinearity\n",
    "        - Use seaborn to make correlation matrix plot \n",
    "        - Good rule of thumb is anything over 0.75 corr is high, remove the variable that has the most correl with the largest # of variables\n",
    "    - [ ] Normalize data (may want to do after some exploring)\n",
    "        - Most popular is Z-scoring (but won't fix skew) \n",
    "        - Can log-transform to fix skewed data\n",
    "    \n",
    "    \n",
    "3. **[EXPLORE](#EXPLORE)**\n",
    "    - [ ] Check distributions, outliers, etc**\n",
    "    - [ ] Check scales, ranges (df.describe())\n",
    "    - [ ] Check histograms to get an idea of distributions (df.hist()) and data transformations to perform.\n",
    "        - Can also do kernel density estimates\n",
    "    - [ ] Use scatter plots to check for linearity and possible categorical variables (`df.plot(\"x\",\"y\")`)\n",
    "        - categoricals will look like vertical lines\n",
    "    - [ ] Use `pd.plotting.scatter_matrix(df)` to visualize possible relationships\n",
    "    - [ ] Check for linearity.\n",
    "   \n",
    "   \n",
    "4. **[MODEL](#MODEL)**\n",
    "\n",
    "    - **Fit an initial model:** \n",
    "        - Run an initial model and get results\n",
    "\n",
    "    - **Holdout validation / Train/test split**\n",
    "        - use sklearn `train_test_split`\n",
    "    \n",
    "    \n",
    "5. **[iNTERPRET](#iNTERPRET)**\n",
    "    - **Assessing the model:**\n",
    "        - Assess parameters (slope,intercept)\n",
    "        - Check if the model explains the variation in the data (RMSE, F, R_square)\n",
    "        - *Are the coeffs, slopes, intercepts in appropriate units?*\n",
    "        - *Whats the impact of collinearity? Can we ignore?*\n",
    "        <br><br>\n",
    "    - **Revise the fitted model**\n",
    "        - Multicollinearity is big issue for lin regression and cannot fully remove it\n",
    "        - Use the predictive ability of model to test it (like R2 and RMSE)\n",
    "        - Check for missed non-linearity\n",
    "        \n",
    "       \n",
    "6. **Interpret final model and draw >=3 conclusions and recommendations from dataset**"
   ]
  },
  {
   "cell_type": "markdown",
   "metadata": {
    "ExecuteTime": {
     "end_time": "2020-01-29T18:00:23.504059Z",
     "start_time": "2020-01-29T18:00:23.498461Z"
    }
   },
   "source": [
    "<div style=\"display:block;border-bottom:solid red 3px;padding:1.4em;color:red;font-size:30pt;display:inline-block;line-height:1.5em;\">\n",
    "DELETE THIS CELL AND EVERYTHING ABOVE FROM YOUR FINAL NOTEBOOK\n",
    "</div>"
   ]
  },
  {
   "cell_type": "markdown",
   "metadata": {},
   "source": [
    "# Final Project Submission"
   ]
  },
  {
   "cell_type": "markdown",
   "metadata": {},
   "source": [
    "Please fill out:\n",
    "* Student name: \n",
    "* Student pace: self paced / part time / full time:\n",
    "* Scheduled project review date/time: \n",
    "* Instructor name: \n",
    "* Blog post URL:\n",
    "* Video of 5-min Non-Technical Presentation:"
   ]
  },
  {
   "cell_type": "markdown",
   "metadata": {},
   "source": [
    "## TABLE OF CONTENTS "
   ]
  },
  {
   "cell_type": "markdown",
   "metadata": {},
   "source": [
    "*Click to jump to matching Markdown Header.*<br><br>\n",
    " \n",
    "- **[Introduction](#INTRODUCTION)<br>**\n",
    "- **[OBTAIN](#OBTAIN)**<br>\n",
    "- **[SCRUB](#SCRUB)**<br>\n",
    "- **[EXPLORE](#EXPLORE)**<br>\n",
    "- **[MODEL](#MODEL)**<br>\n",
    "- **[iNTERPRET](#iNTERPRET)**<br>\n",
    "- **[Conclusions/Recommendations](#CONCLUSIONS-&-RECOMMENDATIONS)<br>**\n",
    "___"
   ]
  },
  {
   "cell_type": "markdown",
   "metadata": {},
   "source": [
    "# INTRODUCTION"
   ]
  },
  {
   "cell_type": "markdown",
   "metadata": {},
   "source": [
    "## Business Problem\n",
    "\n",
    "Social media presence is an important part of a modern brand's marketing strategy. But these platforms not only allow brands to broadcast their messages directly to consumers, they also allow consumers to voice their feedback and opinions about the brands candidly, and in a public forum. This translates to a responsibility on one hand, but also an opportunity on the other hand, for companies to listen to and respond to feedback from customers.\n",
    "\n",
    "Many companies use the Net Promoter Score (NPS) as a measure of customer satisfaction and loyalty. However, NPS survey response rates can be low (15%-20% is considered decent) and non-response bias makes the resulting scores unreliable. NPS is also usually just a single question asking how likely a customer is to recommend the company's product to someone else; they may not provide the mechanism for the respondent to give specific feedback about what lead to their answer. Analysis of other channels where customers provide feedback, such as Twitter, could supplement frequently sparse NPS data.\n",
    "\n",
    "If technology could take a first pass on determining the sentiment of tweets, large companies would have a better chance at winnowing constructive, actionable feedback from trolling or irrelevant comments.\n",
    "\n",
    "***\n",
    "Questions to consider:\n",
    "* What are the business's pain points related to this project?\n",
    "* How did you pick the data analysis question(s) that you did?\n",
    "* Why are these questions important from a business perspective?\n",
    "***\n",
    "\n"
   ]
  },
  {
   "cell_type": "markdown",
   "metadata": {},
   "source": [
    "When two brands are in competition with each other for business, each seeks to understand how consumers feel about their products and company versus others. Knowing what customers like best about your products and company can inform strategies to keep those best-loved qualities around, as well as understanding what your niches are. Likewise, knowing what customers do not like about your products will illuminate areas where change may be needed, especially if your competitor does well in those areas.\n",
    "\n",
    "Customers may provide feedback directly to you, but the ability to analyze what they say to others on public platforms such as Twitter may provide helpful insights from people who would not normally reach out.\n",
    "\n",
    "In this analysis, I will build a model to predict the positive or negative sentiment related to different technology products and brands which are in competition. The goal is to provide information to both companies regarding what customers like and dislike most about their products and brands.\n",
    "\n",
    "I will use a dataset consisting of tweets that appear to have been collected during a SXSW event. Both Apple and Google had corporate presences in the forms of talks and pop-up stores, as well as apps that attendees used during the event. \n",
    "\n",
    "The tweets were coded by humans, who were asked to classify them based on emotion related to brands and products. Here is the brief overview from [data.world]:(https://data.world/crowdflower/brands-and-product-emotions)\n",
    "\n",
    ">Contributors evaluated tweets about multiple brands and products. The crowd was asked if the tweet expressed positive, negative, or no emotion towards a brand and/or product. If some emotion was expressed they were also asked to say which brand or product was the target of that emotion. \n",
    "\n",
    "I will focus on "
   ]
  },
  {
   "cell_type": "markdown",
   "metadata": {},
   "source": [
    "# OBTAIN"
   ]
  },
  {
   "cell_type": "markdown",
   "metadata": {},
   "source": [
    "## Data Understanding\n",
    "\n",
    "This data comes from [CrowdFlower](https://data.world/crowdflower/brands-and-product-emotions). It consists of a corpus of tweets which humans were asked to label according to whether they were related to a particular brand or product, and whether a positive, negative, or no emotion was expressed. Tweets about brands or products were labeled with the specific brand or product.\n",
    "***\n",
    "Questions to consider:\n",
    "* Where did the data come from, and how do they relate to the data analysis questions?\n",
    "* What do the data represent? Who is in the sample and what variables are included?\n",
    "* What is the target variable?\n",
    "* What are the properties of the variables you intend to use?\n",
    "***\n"
   ]
  },
  {
   "cell_type": "code",
   "execution_count": 433,
   "metadata": {
    "ExecuteTime": {
     "end_time": "2021-06-17T20:31:40.791937Z",
     "start_time": "2021-06-17T20:31:40.663597Z"
    }
   },
   "outputs": [],
   "source": [
    "import pandas as pd\n",
    "import numpy as np\n",
    "import seaborn as sns\n",
    "import matplotlib.pyplot as plt\n",
    "import re\n",
    "import html\n",
    "import string\n",
    "import joblib\n",
    "from chardet.universaldetector import UniversalDetector\n",
    "\n",
    "import nltk\n",
    "from nltk.probability import FreqDist\n",
    "from nltk.tokenize import TweetTokenizer, word_tokenize, wordpunct_tokenize\n",
    "from nltk.corpus import stopwords\n",
    "from nltk.stem.wordnet import WordNetLemmatizer\n",
    "from nltk.stem.porter import PorterStemmer\n",
    "\n",
    "from wordcloud import WordCloud\n",
    "\n",
    "import spacy\n",
    "\n",
    "from sklearn import metrics\n",
    "from sklearn.model_selection import train_test_split, GridSearchCV\n",
    "from sklearn.dummy import DummyClassifier\n",
    "from sklearn.pipeline import Pipeline\n",
    "from sklearn.feature_extraction.text import TfidfTransformer, CountVectorizer\n",
    "from sklearn.ensemble import RandomForestClassifier\n",
    "from sklearn.naive_bayes import MultinomialNB\n",
    "from sklearn.linear_model import LogisticRegression\n",
    "\n",
    "%matplotlib inline"
   ]
  },
  {
   "cell_type": "code",
   "execution_count": 166,
   "metadata": {
    "ExecuteTime": {
     "end_time": "2021-06-16T23:32:01.103796Z",
     "start_time": "2021-06-16T23:32:00.984001Z"
    }
   },
   "outputs": [],
   "source": [
    "#nltk.download('punkt')"
   ]
  },
  {
   "cell_type": "code",
   "execution_count": 167,
   "metadata": {
    "ExecuteTime": {
     "end_time": "2021-06-16T23:32:01.303852Z",
     "start_time": "2021-06-16T23:32:01.120056Z"
    }
   },
   "outputs": [],
   "source": [
    "pd.set_option(\"display.max_colwidth\",150)"
   ]
  },
  {
   "cell_type": "code",
   "execution_count": 168,
   "metadata": {
    "ExecuteTime": {
     "end_time": "2021-06-16T23:32:06.397727Z",
     "start_time": "2021-06-16T23:32:01.323632Z"
    }
   },
   "outputs": [
    {
     "name": "stdout",
     "output_type": "stream",
     "text": [
      "{'encoding': 'Windows-1254', 'confidence': 0.43036719349968755, 'language': 'Turkish'}\n"
     ]
    }
   ],
   "source": [
    "# try to detect chatacter encoding of the file\n",
    "detector = UniversalDetector()\n",
    "\n",
    "for line in open('data/judge-1377884607_tweet_product_company.csv', 'r+b').readlines():\n",
    "    #print(line)\n",
    "    detector.feed(line)\n",
    "    if detector.done: break\n",
    "        \n",
    "detector.close()\n",
    "print(detector.result)\n"
   ]
  },
  {
   "cell_type": "markdown",
   "metadata": {},
   "source": [
    "That wasn't especially helpful. I tried cp1254 codec and it was not successful."
   ]
  },
  {
   "cell_type": "code",
   "execution_count": 169,
   "metadata": {
    "ExecuteTime": {
     "end_time": "2021-06-16T23:32:06.524516Z",
     "start_time": "2021-06-16T23:32:06.401182Z"
    },
    "scrolled": false
   },
   "outputs": [
    {
     "data": {
      "text/html": [
       "<div>\n",
       "<style scoped>\n",
       "    .dataframe tbody tr th:only-of-type {\n",
       "        vertical-align: middle;\n",
       "    }\n",
       "\n",
       "    .dataframe tbody tr th {\n",
       "        vertical-align: top;\n",
       "    }\n",
       "\n",
       "    .dataframe thead th {\n",
       "        text-align: right;\n",
       "    }\n",
       "</style>\n",
       "<table border=\"1\" class=\"dataframe\">\n",
       "  <thead>\n",
       "    <tr style=\"text-align: right;\">\n",
       "      <th></th>\n",
       "      <th>tweet_text</th>\n",
       "      <th>emotion_in_tweet_is_directed_at</th>\n",
       "      <th>is_there_an_emotion_directed_at_a_brand_or_product</th>\n",
       "    </tr>\n",
       "  </thead>\n",
       "  <tbody>\n",
       "    <tr>\n",
       "      <th>0</th>\n",
       "      <td>.@wesley83 I have a 3G iPhone. After 3 hrs tweeting at #RISE_Austin, it was dead!  I need to upgrade. Plugin stations at #SXSW.</td>\n",
       "      <td>iPhone</td>\n",
       "      <td>Negative emotion</td>\n",
       "    </tr>\n",
       "    <tr>\n",
       "      <th>1</th>\n",
       "      <td>@jessedee Know about @fludapp ? Awesome iPad/iPhone app that you'll likely appreciate for its design. Also, they're giving free Ts at #SXSW</td>\n",
       "      <td>iPad or iPhone App</td>\n",
       "      <td>Positive emotion</td>\n",
       "    </tr>\n",
       "    <tr>\n",
       "      <th>2</th>\n",
       "      <td>@swonderlin Can not wait for #iPad 2 also. They should sale them down at #SXSW.</td>\n",
       "      <td>iPad</td>\n",
       "      <td>Positive emotion</td>\n",
       "    </tr>\n",
       "    <tr>\n",
       "      <th>3</th>\n",
       "      <td>@sxsw I hope this year's festival isn't as crashy as this year's iPhone app. #sxsw</td>\n",
       "      <td>iPad or iPhone App</td>\n",
       "      <td>Negative emotion</td>\n",
       "    </tr>\n",
       "    <tr>\n",
       "      <th>4</th>\n",
       "      <td>@sxtxstate great stuff on Fri #SXSW: Marissa Mayer (Google), Tim O'Reilly (tech books/conferences) &amp;amp; Matt Mullenweg (Wordpress)</td>\n",
       "      <td>Google</td>\n",
       "      <td>Positive emotion</td>\n",
       "    </tr>\n",
       "  </tbody>\n",
       "</table>\n",
       "</div>"
      ],
      "text/plain": [
       "                                                                                                                                    tweet_text  \\\n",
       "0              .@wesley83 I have a 3G iPhone. After 3 hrs tweeting at #RISE_Austin, it was dead!  I need to upgrade. Plugin stations at #SXSW.   \n",
       "1  @jessedee Know about @fludapp ? Awesome iPad/iPhone app that you'll likely appreciate for its design. Also, they're giving free Ts at #SXSW   \n",
       "2                                                              @swonderlin Can not wait for #iPad 2 also. They should sale them down at #SXSW.   \n",
       "3                                                           @sxsw I hope this year's festival isn't as crashy as this year's iPhone app. #sxsw   \n",
       "4          @sxtxstate great stuff on Fri #SXSW: Marissa Mayer (Google), Tim O'Reilly (tech books/conferences) &amp; Matt Mullenweg (Wordpress)   \n",
       "\n",
       "  emotion_in_tweet_is_directed_at  \\\n",
       "0                          iPhone   \n",
       "1              iPad or iPhone App   \n",
       "2                            iPad   \n",
       "3              iPad or iPhone App   \n",
       "4                          Google   \n",
       "\n",
       "  is_there_an_emotion_directed_at_a_brand_or_product  \n",
       "0                                   Negative emotion  \n",
       "1                                   Positive emotion  \n",
       "2                                   Positive emotion  \n",
       "3                                   Negative emotion  \n",
       "4                                   Positive emotion  "
      ]
     },
     "execution_count": 169,
     "metadata": {},
     "output_type": "execute_result"
    }
   ],
   "source": [
    "# read in data. Had to switch to latin_1 encoding because encountered errors\n",
    "# with default UTF-8 and windows 1254\n",
    "\n",
    "df = pd.read_csv('data/judge-1377884607_tweet_product_company.csv',\n",
    "                encoding='latin_1')\n",
    "df.head()"
   ]
  },
  {
   "cell_type": "code",
   "execution_count": 170,
   "metadata": {
    "ExecuteTime": {
     "end_time": "2021-06-16T23:32:06.671002Z",
     "start_time": "2021-06-16T23:32:06.527870Z"
    },
    "scrolled": true
   },
   "outputs": [
    {
     "name": "stdout",
     "output_type": "stream",
     "text": [
      "<class 'pandas.core.frame.DataFrame'>\n",
      "RangeIndex: 9093 entries, 0 to 9092\n",
      "Data columns (total 3 columns):\n",
      " #   Column                                              Non-Null Count  Dtype \n",
      "---  ------                                              --------------  ----- \n",
      " 0   tweet_text                                          9092 non-null   object\n",
      " 1   emotion_in_tweet_is_directed_at                     3291 non-null   object\n",
      " 2   is_there_an_emotion_directed_at_a_brand_or_product  9093 non-null   object\n",
      "dtypes: object(3)\n",
      "memory usage: 213.2+ KB\n"
     ]
    }
   ],
   "source": [
    "df.info()"
   ]
  },
  {
   "cell_type": "code",
   "execution_count": 171,
   "metadata": {
    "ExecuteTime": {
     "end_time": "2021-06-16T23:32:06.787451Z",
     "start_time": "2021-06-16T23:32:06.674522Z"
    }
   },
   "outputs": [
    {
     "data": {
      "text/html": [
       "<div>\n",
       "<style scoped>\n",
       "    .dataframe tbody tr th:only-of-type {\n",
       "        vertical-align: middle;\n",
       "    }\n",
       "\n",
       "    .dataframe tbody tr th {\n",
       "        vertical-align: top;\n",
       "    }\n",
       "\n",
       "    .dataframe thead th {\n",
       "        text-align: right;\n",
       "    }\n",
       "</style>\n",
       "<table border=\"1\" class=\"dataframe\">\n",
       "  <thead>\n",
       "    <tr style=\"text-align: right;\">\n",
       "      <th></th>\n",
       "      <th>tweet_text</th>\n",
       "      <th>emotion_in_tweet_is_directed_at</th>\n",
       "      <th>is_there_an_emotion_directed_at_a_brand_or_product</th>\n",
       "    </tr>\n",
       "  </thead>\n",
       "  <tbody>\n",
       "    <tr>\n",
       "      <th>6</th>\n",
       "      <td>NaN</td>\n",
       "      <td>NaN</td>\n",
       "      <td>No emotion toward brand or product</td>\n",
       "    </tr>\n",
       "  </tbody>\n",
       "</table>\n",
       "</div>"
      ],
      "text/plain": [
       "  tweet_text emotion_in_tweet_is_directed_at  \\\n",
       "6        NaN                             NaN   \n",
       "\n",
       "  is_there_an_emotion_directed_at_a_brand_or_product  \n",
       "6                 No emotion toward brand or product  "
      ]
     },
     "execution_count": 171,
     "metadata": {},
     "output_type": "execute_result"
    }
   ],
   "source": [
    "# check out the one null in the tweet_text column\n",
    "df.loc[df['tweet_text'].isna()]"
   ]
  },
  {
   "cell_type": "code",
   "execution_count": 172,
   "metadata": {
    "ExecuteTime": {
     "end_time": "2021-06-16T23:32:06.877744Z",
     "start_time": "2021-06-16T23:32:06.791076Z"
    },
    "scrolled": true
   },
   "outputs": [
    {
     "name": "stdout",
     "output_type": "stream",
     "text": [
      "<class 'pandas.core.frame.DataFrame'>\n",
      "Int64Index: 9092 entries, 0 to 9092\n",
      "Data columns (total 3 columns):\n",
      " #   Column                                              Non-Null Count  Dtype \n",
      "---  ------                                              --------------  ----- \n",
      " 0   tweet_text                                          9092 non-null   object\n",
      " 1   emotion_in_tweet_is_directed_at                     3291 non-null   object\n",
      " 2   is_there_an_emotion_directed_at_a_brand_or_product  9092 non-null   object\n",
      "dtypes: object(3)\n",
      "memory usage: 284.1+ KB\n"
     ]
    }
   ],
   "source": [
    "# verified it's blank in the source CSV as well. Going to drop it.\n",
    "df.dropna(subset=['tweet_text'], inplace=True)\n",
    "df.info()"
   ]
  },
  {
   "cell_type": "code",
   "execution_count": 173,
   "metadata": {
    "ExecuteTime": {
     "end_time": "2021-06-16T23:32:06.989226Z",
     "start_time": "2021-06-16T23:32:06.884656Z"
    },
    "scrolled": true
   },
   "outputs": [
    {
     "name": "stdout",
     "output_type": "stream",
     "text": [
      "<class 'pandas.core.frame.DataFrame'>\n",
      "Int64Index: 9092 entries, 0 to 9092\n",
      "Data columns (total 3 columns):\n",
      " #   Column      Non-Null Count  Dtype \n",
      "---  ------      --------------  ----- \n",
      " 0   tweet_text  9092 non-null   object\n",
      " 1   product     3291 non-null   object\n",
      " 2   emotion     9092 non-null   object\n",
      "dtypes: object(3)\n",
      "memory usage: 284.1+ KB\n"
     ]
    }
   ],
   "source": [
    "# rename the columns to be less verbose\n",
    "col_dict = {'emotion_in_tweet_is_directed_at':'product',\n",
    "           'is_there_an_emotion_directed_at_a_brand_or_product':'emotion'}\n",
    "df.rename(columns=col_dict, inplace=True)\n",
    "df.info()"
   ]
  },
  {
   "cell_type": "code",
   "execution_count": 174,
   "metadata": {
    "ExecuteTime": {
     "end_time": "2021-06-16T23:32:07.080562Z",
     "start_time": "2021-06-16T23:32:06.999100Z"
    },
    "scrolled": true
   },
   "outputs": [
    {
     "data": {
      "text/html": [
       "<div>\n",
       "<style scoped>\n",
       "    .dataframe tbody tr th:only-of-type {\n",
       "        vertical-align: middle;\n",
       "    }\n",
       "\n",
       "    .dataframe tbody tr th {\n",
       "        vertical-align: top;\n",
       "    }\n",
       "\n",
       "    .dataframe thead th {\n",
       "        text-align: right;\n",
       "    }\n",
       "</style>\n",
       "<table border=\"1\" class=\"dataframe\">\n",
       "  <thead>\n",
       "    <tr style=\"text-align: right;\">\n",
       "      <th></th>\n",
       "      <th></th>\n",
       "      <th>tweet_text</th>\n",
       "    </tr>\n",
       "    <tr>\n",
       "      <th>emotion</th>\n",
       "      <th>product</th>\n",
       "      <th></th>\n",
       "    </tr>\n",
       "  </thead>\n",
       "  <tbody>\n",
       "    <tr>\n",
       "      <th rowspan=\"6\" valign=\"top\">I can't tell</th>\n",
       "      <th>Apple</th>\n",
       "      <td>2</td>\n",
       "    </tr>\n",
       "    <tr>\n",
       "      <th>Google</th>\n",
       "      <td>1</td>\n",
       "    </tr>\n",
       "    <tr>\n",
       "      <th>Other Google product or service</th>\n",
       "      <td>1</td>\n",
       "    </tr>\n",
       "    <tr>\n",
       "      <th>iPad</th>\n",
       "      <td>4</td>\n",
       "    </tr>\n",
       "    <tr>\n",
       "      <th>iPhone</th>\n",
       "      <td>1</td>\n",
       "    </tr>\n",
       "    <tr>\n",
       "      <th>NaN</th>\n",
       "      <td>147</td>\n",
       "    </tr>\n",
       "    <tr>\n",
       "      <th rowspan=\"10\" valign=\"top\">Negative emotion</th>\n",
       "      <th>Android</th>\n",
       "      <td>8</td>\n",
       "    </tr>\n",
       "    <tr>\n",
       "      <th>Android App</th>\n",
       "      <td>8</td>\n",
       "    </tr>\n",
       "    <tr>\n",
       "      <th>Apple</th>\n",
       "      <td>95</td>\n",
       "    </tr>\n",
       "    <tr>\n",
       "      <th>Google</th>\n",
       "      <td>68</td>\n",
       "    </tr>\n",
       "    <tr>\n",
       "      <th>Other Apple product or service</th>\n",
       "      <td>2</td>\n",
       "    </tr>\n",
       "    <tr>\n",
       "      <th>Other Google product or service</th>\n",
       "      <td>47</td>\n",
       "    </tr>\n",
       "    <tr>\n",
       "      <th>iPad</th>\n",
       "      <td>125</td>\n",
       "    </tr>\n",
       "    <tr>\n",
       "      <th>iPad or iPhone App</th>\n",
       "      <td>63</td>\n",
       "    </tr>\n",
       "    <tr>\n",
       "      <th>iPhone</th>\n",
       "      <td>103</td>\n",
       "    </tr>\n",
       "    <tr>\n",
       "      <th>NaN</th>\n",
       "      <td>51</td>\n",
       "    </tr>\n",
       "    <tr>\n",
       "      <th rowspan=\"10\" valign=\"top\">No emotion toward brand or product</th>\n",
       "      <th>Android</th>\n",
       "      <td>1</td>\n",
       "    </tr>\n",
       "    <tr>\n",
       "      <th>Android App</th>\n",
       "      <td>1</td>\n",
       "    </tr>\n",
       "    <tr>\n",
       "      <th>Apple</th>\n",
       "      <td>21</td>\n",
       "    </tr>\n",
       "    <tr>\n",
       "      <th>Google</th>\n",
       "      <td>15</td>\n",
       "    </tr>\n",
       "    <tr>\n",
       "      <th>Other Apple product or service</th>\n",
       "      <td>1</td>\n",
       "    </tr>\n",
       "    <tr>\n",
       "      <th>Other Google product or service</th>\n",
       "      <td>9</td>\n",
       "    </tr>\n",
       "    <tr>\n",
       "      <th>iPad</th>\n",
       "      <td>24</td>\n",
       "    </tr>\n",
       "    <tr>\n",
       "      <th>iPad or iPhone App</th>\n",
       "      <td>10</td>\n",
       "    </tr>\n",
       "    <tr>\n",
       "      <th>iPhone</th>\n",
       "      <td>9</td>\n",
       "    </tr>\n",
       "    <tr>\n",
       "      <th>NaN</th>\n",
       "      <td>5297</td>\n",
       "    </tr>\n",
       "    <tr>\n",
       "      <th rowspan=\"10\" valign=\"top\">Positive emotion</th>\n",
       "      <th>Android</th>\n",
       "      <td>69</td>\n",
       "    </tr>\n",
       "    <tr>\n",
       "      <th>Android App</th>\n",
       "      <td>72</td>\n",
       "    </tr>\n",
       "    <tr>\n",
       "      <th>Apple</th>\n",
       "      <td>543</td>\n",
       "    </tr>\n",
       "    <tr>\n",
       "      <th>Google</th>\n",
       "      <td>346</td>\n",
       "    </tr>\n",
       "    <tr>\n",
       "      <th>Other Apple product or service</th>\n",
       "      <td>32</td>\n",
       "    </tr>\n",
       "    <tr>\n",
       "      <th>Other Google product or service</th>\n",
       "      <td>236</td>\n",
       "    </tr>\n",
       "    <tr>\n",
       "      <th>iPad</th>\n",
       "      <td>793</td>\n",
       "    </tr>\n",
       "    <tr>\n",
       "      <th>iPad or iPhone App</th>\n",
       "      <td>397</td>\n",
       "    </tr>\n",
       "    <tr>\n",
       "      <th>iPhone</th>\n",
       "      <td>184</td>\n",
       "    </tr>\n",
       "    <tr>\n",
       "      <th>NaN</th>\n",
       "      <td>306</td>\n",
       "    </tr>\n",
       "  </tbody>\n",
       "</table>\n",
       "</div>"
      ],
      "text/plain": [
       "                                                                    tweet_text\n",
       "emotion                            product                                    \n",
       "I can't tell                       Apple                                     2\n",
       "                                   Google                                    1\n",
       "                                   Other Google product or service           1\n",
       "                                   iPad                                      4\n",
       "                                   iPhone                                    1\n",
       "                                   NaN                                     147\n",
       "Negative emotion                   Android                                   8\n",
       "                                   Android App                               8\n",
       "                                   Apple                                    95\n",
       "                                   Google                                   68\n",
       "                                   Other Apple product or service            2\n",
       "                                   Other Google product or service          47\n",
       "                                   iPad                                    125\n",
       "                                   iPad or iPhone App                       63\n",
       "                                   iPhone                                  103\n",
       "                                   NaN                                      51\n",
       "No emotion toward brand or product Android                                   1\n",
       "                                   Android App                               1\n",
       "                                   Apple                                    21\n",
       "                                   Google                                   15\n",
       "                                   Other Apple product or service            1\n",
       "                                   Other Google product or service           9\n",
       "                                   iPad                                     24\n",
       "                                   iPad or iPhone App                       10\n",
       "                                   iPhone                                    9\n",
       "                                   NaN                                    5297\n",
       "Positive emotion                   Android                                  69\n",
       "                                   Android App                              72\n",
       "                                   Apple                                   543\n",
       "                                   Google                                  346\n",
       "                                   Other Apple product or service           32\n",
       "                                   Other Google product or service         236\n",
       "                                   iPad                                    793\n",
       "                                   iPad or iPhone App                      397\n",
       "                                   iPhone                                  184\n",
       "                                   NaN                                     306"
      ]
     },
     "execution_count": 174,
     "metadata": {},
     "output_type": "execute_result"
    }
   ],
   "source": [
    "# what are the values in the product column? How do they match up to emotions?\n",
    "df.groupby(by=['emotion', 'product'], dropna=False).count()"
   ]
  },
  {
   "cell_type": "code",
   "execution_count": 175,
   "metadata": {
    "ExecuteTime": {
     "end_time": "2021-06-16T23:32:07.180327Z",
     "start_time": "2021-06-16T23:32:07.083457Z"
    },
    "scrolled": false
   },
   "outputs": [
    {
     "data": {
      "text/plain": [
       "array(['Thanks to @mention for publishing the news of @mention new medical Apps at the #sxswi conf. blog {link} #sxsw #sxswh',\n",
       "       '\\x89ÛÏ@mention &quot;Apple has opened a pop-up store in Austin so the nerds in town for #SXSW can get their new iPads. {link} #wow',\n",
       "       'Just what America needs. RT @mention Google to Launch Major New Social Network Called Circles, Possibly Today {link} #sxsw',\n",
       "       'The queue at the Apple Store in Austin is FOUR blocks long. Crazy stuff! #sxsw',\n",
       "       \"Hope it's better than wave RT @mention Buzz is: Google's previewing a social networking platform at #SXSW: {link}\",\n",
       "       'SYD #SXSW crew your iPhone extra juice pods have been procured.',\n",
       "       'Why Barry Diller thinks iPad only content is nuts @mention #SXSW {link}',\n",
       "       'Gave into extreme temptation at #SXSW and bought an iPad 2... #impulse',\n",
       "       'Catch 22\\x89Û_ I mean iPad 2 at #SXSW : {link}',\n",
       "       'Forgot my iPhone for #sxsw. Android only. Knife to a gun fight',\n",
       "       'Kawasaki: key to enchantment = trustworthiness of Zappos + likeability of Richard Branson + product of Apple #sxsw #mccannsxsw #mrmworldwide',\n",
       "       'Google no lanzara ningun producto en South by SouthWest #sxsw 2011 {link}',\n",
       "       'Comprando mi iPad 2 en el #SXSW (@mention Apple Store, SXSW w/ 62 others) {link}',\n",
       "       'I can now say that Google got me drunk #sxsw #h4ckers',\n",
       "       'ipad is a slow resting heartrate  #tapworthy #sxsw #gsdm about leisure vs quick results on iphone',\n",
       "       'Walked by the mobile Apple store in austin.  Line was insane. #sxsw',\n",
       "       'This Waze vs Google discussion is one of the best I have seen at #sxsw. We need more competitors going head to head here.',\n",
       "       'Wow folks, make sure that iPhone ringer is turned ALL the way up when u have to be up pre-sunrise for a flight. #internalalarmclockFTW #sxsw',\n",
       "       \"Let's see: Google announcing Circles, Obama in Austin, #SXSW donates proceeds to Japan. Ho hum\",\n",
       "       \"@mention :) Maybe not *entirely* HD (Flip? iPhone? Other XL2 footage?) -- but certainly your concerts at #SXSW. It's gonna be grand.\",\n",
       "       '@mention @mention @mention #Platformer CI di venues #SXSW pake 3 app 4sq API,D cnth : Tweetdeck etc (via : iPhone, Android, iPad and PC)',\n",
       "       \"Google's @mention &quot;credit card cos. know with 98% accuracy 2 yrs before that you're going to get divorced&quot; {link} #sxsw\",\n",
       "       '@mention @mention be sure to check out the @mention jukebox app running party music for #SXSW. With the @mention API.  {link}',\n",
       "       'Hijacked @mention iPhone since mine is DOA. Muahahahahhaahahaa. #SXSW partay time. Thx @mention for dinner',\n",
       "       'Apple is &quot;the classiest, fascist company in America,&quot; says @mention #sxsw',\n",
       "       \"I'd take #sxsw hashtags over scheen, ipad/ipad2, tv or sports tweets any day, but for those needing a filter\\x89Û_ {link}\",\n",
       "       'The iPad 2 is the also a cartoonishly large digital camera. #SXSW #CStejas {link}',\n",
       "       'O no,not again {link} Google Circles Juwan Howard #sxsw',\n",
       "       \"I just realized my iPhone's gonna go nuts with Foursquare and Gowalla updates. #SXSW\",\n",
       "       \"At the Team Android party. Can't find it on Gowalla or Foursquare, so um, there you go. #sxsw\",\n",
       "       \"Just buy an iPad 2 at #SXSW? Give it the finger. Better yet, give it four of 'em :: {link}\",\n",
       "       'Vai comeÌ¤ar a palestra do  @mention ex-chief evangelist of Apple #sxsw',\n",
       "       'Man gets arrested at #sxsw for not having an iPhone.  {link}',\n",
       "       'iPhone crashed in front of #sxsw Apple pop-up. #bestworstthingever',\n",
       "       'Did... what my mom might call The Big at #SXSW. Power plant, CNN, Google, and offchain set by Trombone Shorty at PBS. So sad missed Rye Rey',\n",
       "       'William Patry, google, says most authors dont care about copyright, they care about income. #sxsw but what models?',\n",
       "       'Any blackberry apps for #sxsw ?? Pls let @mention and I know...cheers...will have iphone too...:-)',\n",
       "       'ipadi alacagimiz yer belli oldu:  Apple to Open Pop-Up Shop at Austin #SXSW {link} via @mention @mention',\n",
       "       'Saw a bunch of security guards playing with iPads at the apple store after hours last night #sxsw {link}',\n",
       "       'My #agnerd confession, using laptop, iPad and blackberry to follow #SXSW from afar to see #agchat rock it',\n",
       "       \"I'm bummed that I missed the Team Android party at #SXSW... Oh well, CTIA is right around the corner... Boom, roasted...\",\n",
       "       'Next up: designing interfaces for iPad. Or should I hit up &quot;Your Brand is Obsolete&quot;? #SXSW',\n",
       "       'Thank goodness for these two hour breaks where I have turn off my iPhone, or my battery would be TOAST!  #sxsw',\n",
       "       'Temp store #sxsw  @mention Apple Store, SXSW {link}',\n",
       "       'I wish the apple store employees cheering for all the people in line at the pop up apple store would cheer me on while I do timesheets #SXSW',\n",
       "       \"I won't be at #sxsw and I won't be in line to buy iPad 2.0 tomorrow. #notwinning.\",\n",
       "       'Looks like the line for the Apple pop-up store on Congress Ave is already down to the end of the block..  #SXSW #SteveJobsWins',\n",
       "       \"Good place to test it. Will it be edgy enough? @mention Q2 - Google's check in offers? Testing at #sxsw {link} #smccolumbus\",\n",
       "       \"Hope there's time left for Poked Liked and retweeted and Google love story (social vs search). #sxsw\",\n",
       "       \"#SXSW haven't trend this time because of the tsunami..the iPad 2 did though.\",\n",
       "       '#UXdes @mention is glad there are no standard #iPad navigation tools. She might be the only one! #SXSW',\n",
       "       '#sxsw: @mention We think we control our identities on Facebook, but as Google becomes an AI our profile will be built of what we do',\n",
       "       \"#SXSW. Peep the awesome product video - @mention can't compete with these games. - {link} - CC @mention  @mention\",\n",
       "       \"Google doesn't place any value on your domain extension. They are all equal. #SXSW #qagb\",\n",
       "       'Reports of @mention introducing a new social media platform at #SXSW were premature, but hopefully not overly optimistic {link}',\n",
       "       \"Google's Facebook-killer &quot;Circles&quot; to be unveiled today at #SXSW? {link}\",\n",
       "       '@mention FourSquare is pushing their 3.0 iPhone/Android app heavily here at #sxsw. Wish they gave your webOS client equal billing.',\n",
       "       'Liveblog from #SXSW: Can indie #iPhone game development survive? {link} #games',\n",
       "       'is walking around #SXSW while staring down at my iPhone 4... Just like everyone else.',\n",
       "       'Google might launching a social network called Circles at #SXSW ... of course {link}',\n",
       "       '&quot;Google products need to be condensed&quot;,  #Merissa #Mayor at #SXSW Conference 2011 {link}',\n",
       "       '#Apple, #Google, #Intel and Others Go Gaga for the Go Game | Fast Company {link} #SXSW #SocialMedia #createyourownadventure',\n",
       "       \"Bet on a GoogleBuzz-like #fail. People don't care about privacy, else they'd quitted FB/TW already RT @mention Google Circles will be __ #sxsw\",\n",
       "       'I am neither at #SXSW nor buying an iPad 2 today. I feel like my geek cred is basically gone.',\n",
       "       'funny! iphone correction? RT @mention Dashing off to learn a thing or two about longhorn journalism #SXSW',\n",
       "       \"Diller: Why would you do product only for the iPad or any one form factor in today's multichannel, multi platform world? #SXSW #KetchSX\",\n",
       "       \"+1 \\x89ÛÏ@mention +1 RT @mention Petricone says Google TV is just a browser. I don't think that's correct. #SXSW\\x89Û\\x9d\",\n",
       "       '@mention is biyt.ly for email, like google voice for email #loveit #sxsw #startupbus',\n",
       "       \"the panelist from Texas Observer called the iPad a lean back device #SXSW #in #newsapp #i'mconfused\",\n",
       "       'I agree with @mention on their @mention concerns, but your #sxsw #microformats panelist is just condescending and rude.',\n",
       "       'I would give my Apple stock to be more like @mention {link} #SXSW',\n",
       "       'need to give my iPhone &amp; liver a rest. #SXSW',\n",
       "       'I feel like my iPhone: Always on, always doing something, running out of battery fast. #sxsw',\n",
       "       'LOL. #Apple erects temporary Apple Store in #Austin for #SXSW to sell #iPad 2. {link}',\n",
       "       'Line a mile long outside. Lucky to get in just to sit on the floor -Your Mom Has An iPad. I miss the old days at #sxsw before 40% + growth!',\n",
       "       'Barry Diller interview at #SXSW was pretty high level. Does not understand the Daily on iPad. All company valuations are high.',\n",
       "       'Hi, if came out here for #sxsw and in line at the temp apple store to buy an ipad2 for the fuck home. #douchebloggers',\n",
       "       'Nuts.  \\x89ÛÏ@mention @mention (via @mention #sxsw ipad store sold out of everything except 64gig wifi only white\\x89Û\\x9d',\n",
       "       'DANG RT @mention Confirmed! Apple store 2 week popup in Austin for #SXSW {link} (via @mention who gave us no credit! )',\n",
       "       'Do the Humpty hump!  Google ACLU Party like its 1986! #SXSW',\n",
       "       'This iphone game presentation is being delivered on a windows laptop.  #amusing #sxsw',\n",
       "       'another one? holy social fragmentation&gt;Google to Launch New Social Network Called Circles, Possibly 2day at #sxsw {link} @mention',\n",
       "       \"Ok. Someone's trying to tell me something: For the 2nd day in a row I got to the #sxsw Apple store right as it closed.\",\n",
       "       'Google/Bing search smackdown panel is in a giant room with not enough chairs. Hope you have a search for &quot;floor-sitting!&quot; #SXSW',\n",
       "       \"Always wanted this! RT @mention Sound of My Voice was shot exploiting Apple &amp; Best Buy's 14-day return policy on iMacs. Brilliant. #sxsw\",\n",
       "       'It is also limited in its abilities. Its a balance. RT @mention @mention An iPad is cheaper than most laptops. #newsapps #sxsw',\n",
       "       'Anyone who was going to buy a new iPad should donate to #Japan #tsunami victims instead. #sxsw',\n",
       "       \"At home today. @mention at #sxsw: &quot;apple comes up with cool technology no one's ever heard of because they don't go to conferences&quot;\",\n",
       "       'The hive of innovation but yet every booth at the #SXSW trade show had the exact same promotional idea: iPad 2 Raffle!',\n",
       "       \"Yikes. Google is launching 'Circles' today at #sxsw? {link}\",\n",
       "       'RT @mention @mention to Launch Social Network Called Circles, Possibly Today {link} #sxsw via: @mention - This should be interesting ^ JL',\n",
       "       \"The session #designingforkids is changing my mind about my future kid's relationship with the iPhone. #sapient #sxsw\",\n",
       "       \"RT @mention #sxsw @mention #devops: @mention &quot;The Internets is Mean/Our Systems Are Complex; go Google 'How complex systems fail by doctor&quot;\",\n",
       "       'RT @mention #sxsw: @mention We think we control our identities on Facebook, but as Google becomes an AI our profile will be built of what we do',\n",
       "       'standing on a long line surrounded by unemployed techies from brooklyn!  am i at #sxsw or at the apple store on 5th ave waiting for ipad?!',\n",
       "       'RT @mention another one? holy social fragmentation&gt;Google to Launch New Social Network Called Circles, Possibly 2day at #sxsw {link} @mention',\n",
       "       'RT @mention Apple, Google, Intel ... Go Gaga for The Go Game by @mention @mention  {link} (cc @mention @iangogame) #LI #SXSW',\n",
       "       \"RT @mention Best thing I've heard this weekend at #SXSW &quot;I gave my iPad 2 money to #Japan relief. I don't ne... {link}\",\n",
       "       'RT @mention Demo of Google Hotpot at #bettersearch panel: still pull search, but personalized. Not yet serendipitous? #SXSW',\n",
       "       \"RT @mention Design for iPad is like design 101. Will someone give a talk and assume that we didn't all ditch our prev experience #sxsw\",\n",
       "       'RT @mention Gary Vaynerchuck lÌ_gger ner winelibrary.tv och slÌ_pper i stÌ_llet Iphone-appen Daily Grape. #thankyoueconomy #sxsw #swesxsw',\n",
       "       'RT @mention Google is announcing a social network &quot;Circles&quot; (via #SXSW tweets). Interesting. Myopia will cause Buzz jokes. But...',\n",
       "       'TR @mention Google (tries again) to launch a new social network called Circles: {link} #sxsw {link}',\n",
       "       'RT @mention Has spontaniety in life been replaced by technology? When your iPhone battery dies you go home. Great ? At #busy #sxsw',\n",
       "       'RT @mention Hmm....only 9? #SXSW right-brain #mwrc11 left-brain?? :) RT @mention @mention at #SXSW 9 out of 10 attendees have Mac or iPad',\n",
       "       'RT @mention my biggest mistake since South By Southwest last year? writin a book bout iPhone photography instead of makin a photography iPhone app #SXSW',\n",
       "       'RT @mention Official #SXSW App \\x89Û÷SXSW GO\\x89Ûª bit.ly/hmiiGa #android #iphone #ipad',\n",
       "       'RT @mention Reactions to Google Circles news so far range from &quot;not again&quot; to &quot;please rescue me from the Facebook.&quot; #sxsw',\n",
       "       'RT @mention RT @mention @mention @mention Austin street closures during SXSW in Google Map form: {link} #sxsw #austin',\n",
       "       'RT @mention Selfishness as seen through brands: Mac versus Apple. Apple wins: they are masters at being self-referential  #sxsw',\n",
       "       \"RT @mention So many Google products. isn't it time to  transition them down the chain and into  features? But features of what product? #SXSW\",\n",
       "       'OH @mention the Apple Pop-Up Store: &quot;Oh... you have the old one.&quot; #crazytimes #sxsw',\n",
       "       'RT @mention The iPad 1 is so March 11, 2011 4:59PM PST. #sxsw',\n",
       "       'RT @mention Well damn, Apple setting up a &quot;pop-up&quot; shop at #SXSW {link}',\n",
       "       'RT @mention Win an #OpenBeta6 iPad @mention this #sxsw panel {link}  today @mention 11! #usguys cc @mention  #DgtlTribe #sxswbuffalo',\n",
       "       'I think google circles was an effect of crop `circle` #SXSW #randomly',\n",
       "       'How can google load those maps so fast, yet I can barely post a tweet haha #sxsw',\n",
       "       'Finally got my #SXSW schedule on my #google calendar. #coudbeeasier',\n",
       "       \"Killer thought from @mention - if you are not paying for a service, it's probably you that is being sold (ref Google, TV ads etc)#sxsw #psfk\",\n",
       "       'Google should put those engineers formerly behind real estate listings into renewing the Google Checkout project. #SXSW',\n",
       "       'Checking out Mistakes I Made Building Netflix for the iPhone at #SXSW.\\n{link} #netflixiphone',\n",
       "       'curious how iPad 2 sales went in Austin, TX where a lot of potential iPad 2 buyers are attending #SXSW',\n",
       "       'Anyone know status of iPad 2s in Austin pop-up store? Sold out? Getting more? #ipad2 #sxsw',\n",
       "       \"The new iPad is like fight club, you don't talk about fight club   #SXSW\",\n",
       "       \"@mention Picked up mophie juice boost pack for iPhone. This chick -and wknd- calls for ample juice #SXSW // 'hight-tech energy drink'\",\n",
       "       'Original products for 1 device is nuts. #sxsw. Eg the iPad',\n",
       "       'Google Maps car just drove by. Might leave a distorted view of Austin. #sxsw',\n",
       "       'Google maps used to provide common reference points and printed for fast paced on the ground reactions #arabspring #SXSW',\n",
       "       'Google Circles - looking forward to this. sadly no launch at #SXSW',\n",
       "       \"At the airport playing my fav game:  &quot;Are You Going to #SXSW?&quot; Wearing denim on denim? You're going.  Charging 3+ Apple products? You too.\",\n",
       "       '@mention RWW: Google Circles will be ______    #sxsw {link}',\n",
       "       \"#sxsw it's absolutely hysterical watching people take photos w an iPad!!\",\n",
       "       'Regardless of keyword - Google thinks local. #mobilesearch #SXSW #SXSWi',\n",
       "       \"How to design for baby boomers: DON'T. John McRee on #iPad design #sxsw #yourmom\",\n",
       "       'Line for Source Code is even longer than for iPad 2. Take that, Apple. #sxsw',\n",
       "       'After #SXSW I will never again take a fully charged IPhone for granted; 24/7 pics edit tweet 4square apps =zap!',\n",
       "       'Sitting at a bar listening to music w 3 ppl who r all nose down on iPhone. Waitress looks confused. #sxsw',\n",
       "       'Entrapment. Layer upon layer RT: @mention Google Circles will be ______ #sxsw&quot;',\n",
       "       \"I'll bet there's a lot of nerds at #SXSW using the #iPhone Light Saber app in barroom brawls instead of their fists.\",\n",
       "       'I really think that most of the iPad 2 stock went down to #SXSW.',\n",
       "       'Apple setting up a temporary store at #SXSW to sell the #iPad2. Crazy? Brilliant? Convenient? {link}  #apple #news #SXSWi',\n",
       "       \"This @mention article about #SXSW is so good I'm linking to it on an iPhone on a train, which is the opposite of easy: {link}\",\n",
       "       \"Like @mention I've now seen most of Austin in Google Streetview checking out apartments for #sxsw. Austin is not easy on the click.\",\n",
       "       '&quot;multiple approaches to monetization&quot; re: iPhone game dev &quot;but ads would cheapen our product&quot; ok, good luck with that #sxsw',\n",
       "       'iPhone battery maintenance is a fine art at #sxsw',\n",
       "       'Google actually does have an official death policy. One of only a few. via @mention #digitaldeath #sxsw',\n",
       "       '#SocialNetworks: #Google noch heute mit #Circles? #Facebook-Konkurrent! {link} via @mention und {link} #SXSW',\n",
       "       'In case our rabbits forgot theirs at home! Apple Opening Pop-Up Store In Austin For #SXSW {link}',\n",
       "       \"RT never use mine on the go RT @mention &quot;You're probably using your iPad on the go.&quot; #disagree #SXSW #uxdes\",\n",
       "       'Geez #sxsw people are eating this up. Another line outside the apple store for iPad 2 in austin {link}',\n",
       "       'From #SXSW: @mention says @mention playing with NFC for next gen devices. Nexus S now, iPhone 5 next?',\n",
       "       \"It's funny watching a room full of people hold their iPad in the air to take a photo. Like a room full of tablets staring you down. #SXSW\",\n",
       "       '@mention yeah, we have @mention , Google has nothing on us :) #SXSW',\n",
       "       '@mention Yes, the Google presentation was not exactly what I was expecting. #sxsw',\n",
       "       '&quot;Do you know what Apple is really good at? Making you feel bad about your Xmas present!&quot; - Seth Meyers on iPad2 #sxsw #doyoureallyneedthat?',\n",
       "       'How much you want to bet Apple is disproportionately stocking the #SXSW pop-up store with iPad 2? The influencer/hipsters thank you'],\n",
       "      dtype=object)"
      ]
     },
     "execution_count": 175,
     "metadata": {},
     "output_type": "execute_result"
    }
   ],
   "source": [
    "# let's get a sample of \"I can't tell\"\n",
    "df[df['emotion']==\"I can't tell\"]['tweet_text'].values"
   ]
  },
  {
   "cell_type": "code",
   "execution_count": 402,
   "metadata": {
    "ExecuteTime": {
     "end_time": "2021-06-17T19:04:53.523783Z",
     "start_time": "2021-06-17T19:04:53.288037Z"
    }
   },
   "outputs": [
    {
     "data": {
      "text/html": [
       "<div>\n",
       "<style scoped>\n",
       "    .dataframe tbody tr th:only-of-type {\n",
       "        vertical-align: middle;\n",
       "    }\n",
       "\n",
       "    .dataframe tbody tr th {\n",
       "        vertical-align: top;\n",
       "    }\n",
       "\n",
       "    .dataframe thead th {\n",
       "        text-align: right;\n",
       "    }\n",
       "</style>\n",
       "<table border=\"1\" class=\"dataframe\">\n",
       "  <thead>\n",
       "    <tr style=\"text-align: right;\">\n",
       "      <th></th>\n",
       "      <th>tweet_text</th>\n",
       "      <th>emotion</th>\n",
       "    </tr>\n",
       "  </thead>\n",
       "  <tbody>\n",
       "    <tr>\n",
       "      <th>45</th>\n",
       "      <td>Hand-Held Û÷HoboÛª: Drafthouse launches Û÷Hobo With a ShotgunÛª iPhone app #SXSW {link}</td>\n",
       "      <td>Positive emotion</td>\n",
       "    </tr>\n",
       "    <tr>\n",
       "      <th>111</th>\n",
       "      <td>Spark for #android is up for a #teamandroid award at #SXSW read about it here: {link}</td>\n",
       "      <td>Positive emotion</td>\n",
       "    </tr>\n",
       "    <tr>\n",
       "      <th>130</th>\n",
       "      <td>Does your #SmallBiz need reviews to play on Google Places...We got an App for that..{link}  #seo #sxsw</td>\n",
       "      <td>Positive emotion</td>\n",
       "    </tr>\n",
       "    <tr>\n",
       "      <th>156</th>\n",
       "      <td>@mention  #SXSW LonelyPlanet Austin guide for #iPhone is free for a limited time {link} #lp #travel</td>\n",
       "      <td>Positive emotion</td>\n",
       "    </tr>\n",
       "    <tr>\n",
       "      <th>336</th>\n",
       "      <td>First day at sxsw.  Fun final presentation on Google Doodles.  #GoogleDoodle #sxsw</td>\n",
       "      <td>Positive emotion</td>\n",
       "    </tr>\n",
       "    <tr>\n",
       "      <th>...</th>\n",
       "      <td>...</td>\n",
       "      <td>...</td>\n",
       "    </tr>\n",
       "    <tr>\n",
       "      <th>8897</th>\n",
       "      <td>@mention What's the wait time lookin like? The Apple Store up north is already sold out, any word on the #SXSW inventory?</td>\n",
       "      <td>Positive emotion</td>\n",
       "    </tr>\n",
       "    <tr>\n",
       "      <th>9010</th>\n",
       "      <td>apparently the line to get an iPad at the #sxsw store grew by 2 blocks to 5 blocks in the past 30 mins. WUT.</td>\n",
       "      <td>Positive emotion</td>\n",
       "    </tr>\n",
       "    <tr>\n",
       "      <th>9048</th>\n",
       "      <td>@mention you can buy my used iPad and I'll pick one up tomorrow ;-) #sxsw</td>\n",
       "      <td>Positive emotion</td>\n",
       "    </tr>\n",
       "    <tr>\n",
       "      <th>9051</th>\n",
       "      <td>@mention You could buy a new iPad 2 tmrw at the Apple pop-up store at #sxsw: {link}</td>\n",
       "      <td>Positive emotion</td>\n",
       "    </tr>\n",
       "    <tr>\n",
       "      <th>9053</th>\n",
       "      <td>Guys, if you ever plan on attending #SXSW, you need 4 things, skinny jeans, flannel shirt, beard and an iPad #imanoutcast...</td>\n",
       "      <td>Positive emotion</td>\n",
       "    </tr>\n",
       "  </tbody>\n",
       "</table>\n",
       "<p>306 rows × 2 columns</p>\n",
       "</div>"
      ],
      "text/plain": [
       "                                                                                                                        tweet_text  \\\n",
       "45                                     Hand-Held Û÷HoboÛª: Drafthouse launches Û÷Hobo With a ShotgunÛª iPhone app #SXSW {link}   \n",
       "111                                          Spark for #android is up for a #teamandroid award at #SXSW read about it here: {link}   \n",
       "130                         Does your #SmallBiz need reviews to play on Google Places...We got an App for that..{link}  #seo #sxsw   \n",
       "156                            @mention  #SXSW LonelyPlanet Austin guide for #iPhone is free for a limited time {link} #lp #travel   \n",
       "336                                             First day at sxsw.  Fun final presentation on Google Doodles.  #GoogleDoodle #sxsw   \n",
       "...                                                                                                                            ...   \n",
       "8897     @mention What's the wait time lookin like? The Apple Store up north is already sold out, any word on the #SXSW inventory?   \n",
       "9010                  apparently the line to get an iPad at the #sxsw store grew by 2 blocks to 5 blocks in the past 30 mins. WUT.   \n",
       "9048                                                     @mention you can buy my used iPad and I'll pick one up tomorrow ;-) #sxsw   \n",
       "9051                                           @mention You could buy a new iPad 2 tmrw at the Apple pop-up store at #sxsw: {link}   \n",
       "9053  Guys, if you ever plan on attending #SXSW, you need 4 things, skinny jeans, flannel shirt, beard and an iPad #imanoutcast...   \n",
       "\n",
       "               emotion  \n",
       "45    Positive emotion  \n",
       "111   Positive emotion  \n",
       "130   Positive emotion  \n",
       "156   Positive emotion  \n",
       "336   Positive emotion  \n",
       "...                ...  \n",
       "8897  Positive emotion  \n",
       "9010  Positive emotion  \n",
       "9048  Positive emotion  \n",
       "9051  Positive emotion  \n",
       "9053  Positive emotion  \n",
       "\n",
       "[306 rows x 2 columns]"
      ]
     },
     "execution_count": 402,
     "metadata": {},
     "output_type": "execute_result"
    }
   ],
   "source": [
    "# for tweets with positive sentiment but no product listed, what are those about?\n",
    "df.loc[(df['emotion']=='Positive emotion') & (df['product'].isna()), \n",
    "       ['tweet_text', 'emotion']]"
   ]
  },
  {
   "cell_type": "markdown",
   "metadata": {},
   "source": [
    "I'm going to put all of the tweets through tokenization and preprocessing. I will train my model on the tweets which are labeled positive or negative emotions, but I might want to use the \"no emotion\" and \"I can't tell\" labeled tweets to help confirm the results."
   ]
  },
  {
   "cell_type": "markdown",
   "metadata": {},
   "source": [
    "# SCRUB"
   ]
  },
  {
   "cell_type": "markdown",
   "metadata": {},
   "source": [
    "## Data Preparation\n",
    "\n",
    "Describe and justify the process for preparing the data for analysis.\n",
    "\n",
    "***\n",
    "Questions to consider:\n",
    "* Were there variables you dropped or created?\n",
    "* How did you address missing values or outliers?\n",
    "* Why are these choices appropriate given the data and the business problem?\n",
    "***"
   ]
  },
  {
   "cell_type": "code",
   "execution_count": 176,
   "metadata": {
    "ExecuteTime": {
     "end_time": "2021-06-16T23:32:07.277457Z",
     "start_time": "2021-06-16T23:32:07.183493Z"
    }
   },
   "outputs": [
    {
     "data": {
      "text/plain": [
       "0                .@wesley83 I have a 3G iPhone. After 3 hrs tweeting at #RISE_Austin, it was dead!  I need to upgrade. Plugin stations at #SXSW.\n",
       "1    @jessedee Know about @fludapp ? Awesome iPad/iPhone app that you'll likely appreciate for its design. Also, they're giving free Ts at #SXSW\n",
       "2                                                                @swonderlin Can not wait for #iPad 2 also. They should sale them down at #SXSW.\n",
       "3                                                             @sxsw I hope this year's festival isn't as crashy as this year's iPhone app. #sxsw\n",
       "4            @sxtxstate great stuff on Fri #SXSW: Marissa Mayer (Google), Tim O'Reilly (tech books/conferences) &amp; Matt Mullenweg (Wordpress)\n",
       "Name: cleaned, dtype: object"
      ]
     },
     "execution_count": 176,
     "metadata": {},
     "output_type": "execute_result"
    }
   ],
   "source": [
    "# Make a copy of the tweet text, so I can keep the original pristine\n",
    "df['cleaned'] = df['tweet_text']\n",
    "df['cleaned'].head()"
   ]
  },
  {
   "cell_type": "markdown",
   "metadata": {},
   "source": [
    "## Preprocess text as documents\n",
    "\n",
    "Before splitting into words, I'm going to do some text cleaning on the whole documents.\n",
    "\n",
    "I noticed when taking an initial look at the corpus that I have some existing placeholders which were probably added when anonymizing this dataset for the public:\n",
    "- @mention\n",
    "- {link}\n",
    "\n",
    "There are also still some @mentions and links/URLs which have not been anonymized. I'm going to let sklearn's TweetTokenizer remove the handles, which it has a setting for, but I'll need to manually remove the remaining links and URLs, or at least convert to a consistent placeholder so they don't turn into weird word fragments.\n",
    "\n",
    "Because these are tweets, I also have hashtags and metadata-like words such as 'RT' for re-tweet. I initially considered removing the hashtags, but decided to leave them in on the whole, since the particular hashtags used could contribute to a particular sentiment or emotion.\n",
    "\n",
    "I also have some characters with encoding that I can't replicate; they could be emojis but in some instances they look to be unicode apostrophes and quotation marks. I'll replace these, since I can't find any way to easily get them encoded correctly."
   ]
  },
  {
   "cell_type": "code",
   "execution_count": 178,
   "metadata": {
    "ExecuteTime": {
     "end_time": "2021-06-16T23:32:10.543819Z",
     "start_time": "2021-06-16T23:32:10.462042Z"
    },
    "scrolled": true
   },
   "outputs": [
    {
     "data": {
      "text/html": [
       "<div>\n",
       "<style scoped>\n",
       "    .dataframe tbody tr th:only-of-type {\n",
       "        vertical-align: middle;\n",
       "    }\n",
       "\n",
       "    .dataframe tbody tr th {\n",
       "        vertical-align: top;\n",
       "    }\n",
       "\n",
       "    .dataframe thead th {\n",
       "        text-align: right;\n",
       "    }\n",
       "</style>\n",
       "<table border=\"1\" class=\"dataframe\">\n",
       "  <thead>\n",
       "    <tr style=\"text-align: right;\">\n",
       "      <th></th>\n",
       "      <th>tweet_text</th>\n",
       "      <th>product</th>\n",
       "      <th>emotion</th>\n",
       "      <th>cleaned</th>\n",
       "    </tr>\n",
       "  </thead>\n",
       "  <tbody>\n",
       "  </tbody>\n",
       "</table>\n",
       "</div>"
      ],
      "text/plain": [
       "Empty DataFrame\n",
       "Columns: [tweet_text, product, emotion, cleaned]\n",
       "Index: []"
      ]
     },
     "execution_count": 178,
     "metadata": {},
     "output_type": "execute_result"
    }
   ],
   "source": [
    "# check for literal (unescaped) open or closing HTML tags\n",
    "df[df['tweet_text'].str.contains(\"[<>]\")]"
   ]
  },
  {
   "cell_type": "markdown",
   "metadata": {},
   "source": [
    "Since there are no \"<>\" characters in any of the tweets, I will not add anything to remove HTML tags from the text when I clean it. "
   ]
  },
  {
   "cell_type": "code",
   "execution_count": 179,
   "metadata": {
    "ExecuteTime": {
     "end_time": "2021-06-16T23:32:12.745913Z",
     "start_time": "2021-06-16T23:32:12.570130Z"
    },
    "scrolled": true
   },
   "outputs": [
    {
     "data": {
      "text/html": [
       "<div>\n",
       "<style scoped>\n",
       "    .dataframe tbody tr th:only-of-type {\n",
       "        vertical-align: middle;\n",
       "    }\n",
       "\n",
       "    .dataframe tbody tr th {\n",
       "        vertical-align: top;\n",
       "    }\n",
       "\n",
       "    .dataframe thead th {\n",
       "        text-align: right;\n",
       "    }\n",
       "</style>\n",
       "<table border=\"1\" class=\"dataframe\">\n",
       "  <thead>\n",
       "    <tr style=\"text-align: right;\">\n",
       "      <th></th>\n",
       "      <th>tweet_text</th>\n",
       "      <th>product</th>\n",
       "      <th>emotion</th>\n",
       "      <th>cleaned</th>\n",
       "    </tr>\n",
       "  </thead>\n",
       "  <tbody>\n",
       "    <tr>\n",
       "      <th>5</th>\n",
       "      <td>@teachntech00 New iPad Apps For #SpeechTherapy And Communication Are Showcased At The #SXSW Conference http://ht.ly/49n4M #iear #edchat #asd</td>\n",
       "      <td>NaN</td>\n",
       "      <td>No emotion toward brand or product</td>\n",
       "      <td>@teachntech00 New iPad Apps For #SpeechTherapy And Communication Are Showcased At The #SXSW Conference http://ht.ly/49n4M #iear #edchat #asd</td>\n",
       "    </tr>\n",
       "    <tr>\n",
       "      <th>8</th>\n",
       "      <td>Beautifully smart and simple idea RT @madebymany @thenextweb wrote about our #hollergram iPad app for #sxsw! http://bit.ly/ieaVOB</td>\n",
       "      <td>iPad or iPhone App</td>\n",
       "      <td>Positive emotion</td>\n",
       "      <td>Beautifully smart and simple idea RT @madebymany @thenextweb wrote about our #hollergram iPad app for #sxsw! http://bit.ly/ieaVOB</td>\n",
       "    </tr>\n",
       "    <tr>\n",
       "      <th>11</th>\n",
       "      <td>Find &amp;amp; Start Impromptu Parties at #SXSW With @HurricaneParty http://bit.ly/gVLrIn I can't wait til the Android app comes out.</td>\n",
       "      <td>Android App</td>\n",
       "      <td>Positive emotion</td>\n",
       "      <td>Find &amp;amp; Start Impromptu Parties at #SXSW With @HurricaneParty http://bit.ly/gVLrIn I can't wait til the Android app comes out.</td>\n",
       "    </tr>\n",
       "    <tr>\n",
       "      <th>12</th>\n",
       "      <td>Foursquare ups the game, just in time for #SXSW http://j.mp/grN7pK) - Still prefer @Gowalla by far, best looking Android app to date.</td>\n",
       "      <td>Android App</td>\n",
       "      <td>Positive emotion</td>\n",
       "      <td>Foursquare ups the game, just in time for #SXSW http://j.mp/grN7pK) - Still prefer @Gowalla by far, best looking Android app to date.</td>\n",
       "    </tr>\n",
       "    <tr>\n",
       "      <th>13</th>\n",
       "      <td>Gotta love this #SXSW Google Calendar featuring top parties/ show cases to check out.  RT @hamsandwich via @ischafer =&amp;gt;http://bit.ly/aXZwxB</td>\n",
       "      <td>Other Google product or service</td>\n",
       "      <td>Positive emotion</td>\n",
       "      <td>Gotta love this #SXSW Google Calendar featuring top parties/ show cases to check out.  RT @hamsandwich via @ischafer =&amp;gt;http://bit.ly/aXZwxB</td>\n",
       "    </tr>\n",
       "    <tr>\n",
       "      <th>14</th>\n",
       "      <td>Great #sxsw ipad app from @madebymany: http://tinyurl.com/4nqv92l</td>\n",
       "      <td>iPad or iPhone App</td>\n",
       "      <td>Positive emotion</td>\n",
       "      <td>Great #sxsw ipad app from @madebymany: http://tinyurl.com/4nqv92l</td>\n",
       "    </tr>\n",
       "    <tr>\n",
       "      <th>15</th>\n",
       "      <td>haha, awesomely rad iPad app by @madebymany http://bit.ly/hTdFim #hollergram #sxsw</td>\n",
       "      <td>iPad or iPhone App</td>\n",
       "      <td>Positive emotion</td>\n",
       "      <td>haha, awesomely rad iPad app by @madebymany http://bit.ly/hTdFim #hollergram #sxsw</td>\n",
       "    </tr>\n",
       "    <tr>\n",
       "      <th>16</th>\n",
       "      <td>Holler Gram for iPad on the iTunes App Store -  http://t.co/kfN3f5Q (via @marc_is_ken) #sxsw</td>\n",
       "      <td>NaN</td>\n",
       "      <td>No emotion toward brand or product</td>\n",
       "      <td>Holler Gram for iPad on the iTunes App Store -  http://t.co/kfN3f5Q (via @marc_is_ken) #sxsw</td>\n",
       "    </tr>\n",
       "    <tr>\n",
       "      <th>19</th>\n",
       "      <td>Must have #SXSW app! RT @malbonster: Lovely review from Forbes for our SXSW iPad app Holler Gram - http://t.co/g4GZypV</td>\n",
       "      <td>iPad or iPhone App</td>\n",
       "      <td>Positive emotion</td>\n",
       "      <td>Must have #SXSW app! RT @malbonster: Lovely review from Forbes for our SXSW iPad app Holler Gram - http://t.co/g4GZypV</td>\n",
       "    </tr>\n",
       "    <tr>\n",
       "      <th>23</th>\n",
       "      <td>Photo: Just installed the #SXSW iPhone app, which is really nice! http://tumblr.com/x6t1pi6av7</td>\n",
       "      <td>iPad or iPhone App</td>\n",
       "      <td>Positive emotion</td>\n",
       "      <td>Photo: Just installed the #SXSW iPhone app, which is really nice! http://tumblr.com/x6t1pi6av7</td>\n",
       "    </tr>\n",
       "    <tr>\n",
       "      <th>26</th>\n",
       "      <td>RT haha, awesomely rad iPad app by @madebymany http://bit.ly/hTdFim #hollergram #sxsw (via @michaelpiliero)</td>\n",
       "      <td>iPad or iPhone App</td>\n",
       "      <td>Positive emotion</td>\n",
       "      <td>RT haha, awesomely rad iPad app by @madebymany http://bit.ly/hTdFim #hollergram #sxsw (via @michaelpiliero)</td>\n",
       "    </tr>\n",
       "    <tr>\n",
       "      <th>28</th>\n",
       "      <td>The new #4sq3 looks like it is going to rock. Update for iPhone and Android should push tonight http://bit.ly/etsbZk #SXSW #KeepAustinWeird</td>\n",
       "      <td>iPad or iPhone App</td>\n",
       "      <td>Positive emotion</td>\n",
       "      <td>The new #4sq3 looks like it is going to rock. Update for iPhone and Android should push tonight http://bit.ly/etsbZk #SXSW #KeepAustinWeird</td>\n",
       "    </tr>\n",
       "    <tr>\n",
       "      <th>30</th>\n",
       "      <td>Very smart from @madebymany #hollergram iPad app for #sxsw! http://t.co/A3xvWc6 (may leave my vuvuzela at home now)</td>\n",
       "      <td>iPad or iPhone App</td>\n",
       "      <td>Positive emotion</td>\n",
       "      <td>Very smart from @madebymany #hollergram iPad app for #sxsw! http://t.co/A3xvWc6 (may leave my vuvuzela at home now)</td>\n",
       "    </tr>\n",
       "    <tr>\n",
       "      <th>31</th>\n",
       "      <td>You must have this app for your iPad if you are going to #SXSW http://itunes.apple.com/us/app/holler-gram/id420666439?mt=8 #hollergram</td>\n",
       "      <td>iPad or iPhone App</td>\n",
       "      <td>Positive emotion</td>\n",
       "      <td>You must have this app for your iPad if you are going to #SXSW http://itunes.apple.com/us/app/holler-gram/id420666439?mt=8 #hollergram</td>\n",
       "    </tr>\n",
       "    <tr>\n",
       "      <th>272</th>\n",
       "      <td>Surprise! Apple has opened a pop-up store in Austin so that the nerds in town for #SXSW can get their new iPads. http:/ {link}</td>\n",
       "      <td>NaN</td>\n",
       "      <td>No emotion toward brand or product</td>\n",
       "      <td>Surprise! Apple has opened a pop-up store in Austin so that the nerds in town for #SXSW can get their new iPads. http:/ {link}</td>\n",
       "    </tr>\n",
       "    <tr>\n",
       "      <th>293</th>\n",
       "      <td>A special Apple store: opening at 6th and Congress for SXSW &amp;amp; ipad 2 launch. www.apple.com/retail/thedomain/  #Apple #iPad2 #sxsw #fb</td>\n",
       "      <td>NaN</td>\n",
       "      <td>No emotion toward brand or product</td>\n",
       "      <td>A special Apple store: opening at 6th and Congress for SXSW &amp;amp; ipad 2 launch. www.apple.com/retail/thedomain/  #Apple #iPad2 #sxsw #fb</td>\n",
       "    </tr>\n",
       "    <tr>\n",
       "      <th>1133</th>\n",
       "      <td>Check out the @mention Route {link} ; RSVP here -&amp;gt; https://www.facebook.com/event.php?eid=141164002609303 #sxswi #sxsw</td>\n",
       "      <td>NaN</td>\n",
       "      <td>No emotion toward brand or product</td>\n",
       "      <td>Check out the @mention Route {link} ; RSVP here -&amp;gt; https://www.facebook.com/event.php?eid=141164002609303 #sxswi #sxsw</td>\n",
       "    </tr>\n",
       "    <tr>\n",
       "      <th>1139</th>\n",
       "      <td>Pics from the #apple #ipad2 line at #SXSW #fb  {link} {link} http://t.co/26SVO3m</td>\n",
       "      <td>NaN</td>\n",
       "      <td>No emotion toward brand or product</td>\n",
       "      <td>Pics from the #apple #ipad2 line at #SXSW #fb  {link} {link} http://t.co/26SVO3m</td>\n",
       "    </tr>\n",
       "    <tr>\n",
       "      <th>1241</th>\n",
       "      <td>Apple set to open popup shop in core of SXSW action {link} #sxsw #app... {link} http://bit.ly/bvHD5s</td>\n",
       "      <td>NaN</td>\n",
       "      <td>No emotion toward brand or product</td>\n",
       "      <td>Apple set to open popup shop in core of SXSW action {link} #sxsw #app... {link} http://bit.ly/bvHD5s</td>\n",
       "    </tr>\n",
       "    <tr>\n",
       "      <th>1758</th>\n",
       "      <td>I'll pay $681.00 for a New, Unopened iPad 2 16GB with 3G for Verizon - Black. Visit www.Zaarly.com to claim the cash. #willpay #sxsw</td>\n",
       "      <td>NaN</td>\n",
       "      <td>No emotion toward brand or product</td>\n",
       "      <td>I'll pay $681.00 for a New, Unopened iPad 2 16GB with 3G for Verizon - Black. Visit www.Zaarly.com to claim the cash. #willpay #sxsw</td>\n",
       "    </tr>\n",
       "    <tr>\n",
       "      <th>2736</th>\n",
       "      <td>Front Gate Tickets Present The Morning After Party 3/18 https://sites.google.com/site/frontgatesxsw11/ #SXSW Music</td>\n",
       "      <td>NaN</td>\n",
       "      <td>No emotion toward brand or product</td>\n",
       "      <td>Front Gate Tickets Present The Morning After Party 3/18 https://sites.google.com/site/frontgatesxsw11/ #SXSW Music</td>\n",
       "    </tr>\n",
       "    <tr>\n",
       "      <th>3511</th>\n",
       "      <td>At #tweethouse watching #ipad dj @mention rock out at #sxsw! Check out www.rana.co! #dotco</td>\n",
       "      <td>NaN</td>\n",
       "      <td>No emotion toward brand or product</td>\n",
       "      <td>At #tweethouse watching #ipad dj @mention rock out at #sxsw! Check out www.rana.co! #dotco</td>\n",
       "    </tr>\n",
       "    <tr>\n",
       "      <th>4962</th>\n",
       "      <td>Off to Google party with @mention then @mention @mention @mention at www.getdown.com #msusxsw #sxsw Tweet me if you're there! (@jeremie)</td>\n",
       "      <td>NaN</td>\n",
       "      <td>No emotion toward brand or product</td>\n",
       "      <td>Off to Google party with @mention then @mention @mention @mention at www.getdown.com #msusxsw #sxsw Tweet me if you're there! (@jeremie)</td>\n",
       "    </tr>\n",
       "    <tr>\n",
       "      <th>5002</th>\n",
       "      <td>RT The coolest iPhone 4 &amp;amp; iPad cases at #Sxsw, check them out here at #fastcompanygrill #zazzlesxsw #sxswi  http... {link}</td>\n",
       "      <td>NaN</td>\n",
       "      <td>No emotion toward brand or product</td>\n",
       "      <td>RT The coolest iPhone 4 &amp;amp; iPad cases at #Sxsw, check them out here at #fastcompanygrill #zazzlesxsw #sxswi  http... {link}</td>\n",
       "    </tr>\n",
       "    <tr>\n",
       "      <th>5130</th>\n",
       "      <td>RT @mention @mention hey Rudy, are Belgiums and Dutch taking over #sxsw? We launched www.skylines.net and {link} today</td>\n",
       "      <td>NaN</td>\n",
       "      <td>No emotion toward brand or product</td>\n",
       "      <td>RT @mention @mention hey Rudy, are Belgiums and Dutch taking over #sxsw? We launched www.skylines.net and {link} today</td>\n",
       "    </tr>\n",
       "    <tr>\n",
       "      <th>5370</th>\n",
       "      <td>RT @mention A special Apple store: opening at 6th and Congress for SXSW &amp;amp; ipad 2 launch. www.apple.com/retail/thedomain/  #Apple #iPad2 #sxsw #fb</td>\n",
       "      <td>NaN</td>\n",
       "      <td>No emotion toward brand or product</td>\n",
       "      <td>RT @mention A special Apple store: opening at 6th and Congress for SXSW &amp;amp; ipad 2 launch. www.apple.com/retail/thedomain/  #Apple #iPad2 #sxsw #fb</td>\n",
       "    </tr>\n",
       "    <tr>\n",
       "      <th>5488</th>\n",
       "      <td>RT @mention Are you at #sxsw? Check out #Tokii in the the Maple Leaf Digital Lounge {link} www.tokii.com</td>\n",
       "      <td>NaN</td>\n",
       "      <td>No emotion toward brand or product</td>\n",
       "      <td>RT @mention Are you at #sxsw? Check out #Tokii in the the Maple Leaf Digital Lounge {link} www.tokii.com</td>\n",
       "    </tr>\n",
       "    <tr>\n",
       "      <th>5521</th>\n",
       "      <td>RT @mention At #tweethouse watching #ipad dj @mention rock out at #sxsw! Check out www.rana.co! #dotco</td>\n",
       "      <td>iPad</td>\n",
       "      <td>Positive emotion</td>\n",
       "      <td>RT @mention At #tweethouse watching #ipad dj @mention rock out at #sxsw! Check out www.rana.co! #dotco</td>\n",
       "    </tr>\n",
       "    <tr>\n",
       "      <th>5608</th>\n",
       "      <td>RT @mention Check out the @mention Route {link} ; RSVP here -&amp;gt; https://www.facebook.com/event.php?eid=141164002609303 #sxswi #sxsw</td>\n",
       "      <td>NaN</td>\n",
       "      <td>No emotion toward brand or product</td>\n",
       "      <td>RT @mention Check out the @mention Route {link} ; RSVP here -&amp;gt; https://www.facebook.com/event.php?eid=141164002609303 #sxswi #sxsw</td>\n",
       "    </tr>\n",
       "    <tr>\n",
       "      <th>5729</th>\n",
       "      <td>RT @mention Follow our #SXSW coverage at {link} on mobile at {link} or with our iPhone app http://bit.ly/guardianapp</td>\n",
       "      <td>NaN</td>\n",
       "      <td>No emotion toward brand or product</td>\n",
       "      <td>RT @mention Follow our #SXSW coverage at {link} on mobile at {link} or with our iPhone app http://bit.ly/guardianapp</td>\n",
       "    </tr>\n",
       "    <tr>\n",
       "      <th>5753</th>\n",
       "      <td>RT @mention Front Gate Tickets Present The Morning After Party 3/18 https://sites.google.com/site/frontgatesxsw11/ #SXSW Music</td>\n",
       "      <td>NaN</td>\n",
       "      <td>No emotion toward brand or product</td>\n",
       "      <td>RT @mention Front Gate Tickets Present The Morning After Party 3/18 https://sites.google.com/site/frontgatesxsw11/ #SXSW Music</td>\n",
       "    </tr>\n",
       "    <tr>\n",
       "      <th>6478</th>\n",
       "      <td>RT @mention Retrollect is now also in Android Market! #SxSW https://market.android.com/details?id=com.borderstylo.retrollect</td>\n",
       "      <td>Android App</td>\n",
       "      <td>Positive emotion</td>\n",
       "      <td>RT @mention Retrollect is now also in Android Market! #SxSW https://market.android.com/details?id=com.borderstylo.retrollect</td>\n",
       "    </tr>\n",
       "    <tr>\n",
       "      <th>6879</th>\n",
       "      <td>RT @mention We can't wait to give an iPad to someone at #sxsw. Want in? Just head to www.pep.jobs/upc to enter. (must be present to win</td>\n",
       "      <td>iPad</td>\n",
       "      <td>Positive emotion</td>\n",
       "      <td>RT @mention We can't wait to give an iPad to someone at #sxsw. Want in? Just head to www.pep.jobs/upc to enter. (must be present to win</td>\n",
       "    </tr>\n",
       "    <tr>\n",
       "      <th>7350</th>\n",
       "      <td>Saw a company today ready to launch, sounds a lot like Google Circles, but with actual personal privacy www.mycube.com #sxsw</td>\n",
       "      <td>Other Google product or service</td>\n",
       "      <td>No emotion toward brand or product</td>\n",
       "      <td>Saw a company today ready to launch, sounds a lot like Google Circles, but with actual personal privacy www.mycube.com #sxsw</td>\n",
       "    </tr>\n",
       "    <tr>\n",
       "      <th>7521</th>\n",
       "      <td>Follow our #SXSW coverage at {link} on mobile at {link} or with our iPhone app http://bit.ly/guardianapp</td>\n",
       "      <td>iPad or iPhone App</td>\n",
       "      <td>No emotion toward brand or product</td>\n",
       "      <td>Follow our #SXSW coverage at {link} on mobile at {link} or with our iPhone app http://bit.ly/guardianapp</td>\n",
       "    </tr>\n",
       "    <tr>\n",
       "      <th>7721</th>\n",
       "      <td>miami horror, tacos and bloody marys. i'm there. https://sites.google.com/site/frontgatesxsw11/ #sxsw</td>\n",
       "      <td>NaN</td>\n",
       "      <td>No emotion toward brand or product</td>\n",
       "      <td>miami horror, tacos and bloody marys. i'm there. https://sites.google.com/site/frontgatesxsw11/ #sxsw</td>\n",
       "    </tr>\n",
       "    <tr>\n",
       "      <th>7802</th>\n",
       "      <td>Per this rumor, Google may preview its big social strategy at an '80s-themed costume party at #SXSW. Yep. http:/... {link}</td>\n",
       "      <td>NaN</td>\n",
       "      <td>No emotion toward brand or product</td>\n",
       "      <td>Per this rumor, Google may preview its big social strategy at an '80s-themed costume party at #SXSW. Yep. http:/... {link}</td>\n",
       "    </tr>\n",
       "    <tr>\n",
       "      <th>8047</th>\n",
       "      <td>Adloopz: Social Media Advertising done the easy way. Visit www.adloopz.com  #SXSW #sxswi #ipad</td>\n",
       "      <td>NaN</td>\n",
       "      <td>No emotion toward brand or product</td>\n",
       "      <td>Adloopz: Social Media Advertising done the easy way. Visit www.adloopz.com  #SXSW #sxswi #ipad</td>\n",
       "    </tr>\n",
       "    <tr>\n",
       "      <th>8141</th>\n",
       "      <td>@mention Sweet 8-bit pic. Are you an artist? www.zaggle.org is having an #art contest for our #iPhone app Check it out We'll be at #SXSW</td>\n",
       "      <td>NaN</td>\n",
       "      <td>No emotion toward brand or product</td>\n",
       "      <td>@mention Sweet 8-bit pic. Are you an artist? www.zaggle.org is having an #art contest for our #iPhone app Check it out We'll be at #SXSW</td>\n",
       "    </tr>\n",
       "    <tr>\n",
       "      <th>8201</th>\n",
       "      <td>Are you at #sxsw? Check out #Tokii in the the Maple Leaf Digital Lounge {link} www.tokii.com</td>\n",
       "      <td>NaN</td>\n",
       "      <td>No emotion toward brand or product</td>\n",
       "      <td>Are you at #sxsw? Check out #Tokii in the the Maple Leaf Digital Lounge {link} www.tokii.com</td>\n",
       "    </tr>\n",
       "    <tr>\n",
       "      <th>8250</th>\n",
       "      <td>Retrollect is now also in Android Market! #SxSW https://market.android.com/details?id=com.borderstylo.retrollect</td>\n",
       "      <td>NaN</td>\n",
       "      <td>Positive emotion</td>\n",
       "      <td>Retrollect is now also in Android Market! #SxSW https://market.android.com/details?id=com.borderstylo.retrollect</td>\n",
       "    </tr>\n",
       "    <tr>\n",
       "      <th>8849</th>\n",
       "      <td>We can't wait to give an iPad to someone at #sxsw. Want in? Just head to www.pep.jobs/upc to enter. (must be present to win)</td>\n",
       "      <td>iPad</td>\n",
       "      <td>No emotion toward brand or product</td>\n",
       "      <td>We can't wait to give an iPad to someone at #sxsw. Want in? Just head to www.pep.jobs/upc to enter. (must be present to win)</td>\n",
       "    </tr>\n",
       "  </tbody>\n",
       "</table>\n",
       "</div>"
      ],
      "text/plain": [
       "                                                                                                                                                 tweet_text  \\\n",
       "5              @teachntech00 New iPad Apps For #SpeechTherapy And Communication Are Showcased At The #SXSW Conference http://ht.ly/49n4M #iear #edchat #asd   \n",
       "8                         Beautifully smart and simple idea RT @madebymany @thenextweb wrote about our #hollergram iPad app for #sxsw! http://bit.ly/ieaVOB   \n",
       "11                        Find &amp; Start Impromptu Parties at #SXSW With @HurricaneParty http://bit.ly/gVLrIn I can't wait til the Android app comes out.   \n",
       "12                    Foursquare ups the game, just in time for #SXSW http://j.mp/grN7pK) - Still prefer @Gowalla by far, best looking Android app to date.   \n",
       "13           Gotta love this #SXSW Google Calendar featuring top parties/ show cases to check out.  RT @hamsandwich via @ischafer =&gt;http://bit.ly/aXZwxB   \n",
       "14                                                                                        Great #sxsw ipad app from @madebymany: http://tinyurl.com/4nqv92l   \n",
       "15                                                                       haha, awesomely rad iPad app by @madebymany http://bit.ly/hTdFim #hollergram #sxsw   \n",
       "16                                                             Holler Gram for iPad on the iTunes App Store -  http://t.co/kfN3f5Q (via @marc_is_ken) #sxsw   \n",
       "19                                   Must have #SXSW app! RT @malbonster: Lovely review from Forbes for our SXSW iPad app Holler Gram - http://t.co/g4GZypV   \n",
       "23                                                           Photo: Just installed the #SXSW iPhone app, which is really nice! http://tumblr.com/x6t1pi6av7   \n",
       "26                                              RT haha, awesomely rad iPad app by @madebymany http://bit.ly/hTdFim #hollergram #sxsw (via @michaelpiliero)   \n",
       "28              The new #4sq3 looks like it is going to rock. Update for iPhone and Android should push tonight http://bit.ly/etsbZk #SXSW #KeepAustinWeird   \n",
       "30                                      Very smart from @madebymany #hollergram iPad app for #sxsw! http://t.co/A3xvWc6 (may leave my vuvuzela at home now)   \n",
       "31                   You must have this app for your iPad if you are going to #SXSW http://itunes.apple.com/us/app/holler-gram/id420666439?mt=8 #hollergram   \n",
       "272                          Surprise! Apple has opened a pop-up store in Austin so that the nerds in town for #SXSW can get their new iPads. http:/ {link}   \n",
       "293               A special Apple store: opening at 6th and Congress for SXSW &amp; ipad 2 launch. www.apple.com/retail/thedomain/  #Apple #iPad2 #sxsw #fb   \n",
       "1133                              Check out the @mention Route {link} ; RSVP here -&gt; https://www.facebook.com/event.php?eid=141164002609303 #sxswi #sxsw   \n",
       "1139                                                                       Pics from the #apple #ipad2 line at #SXSW #fb  {link} {link} http://t.co/26SVO3m   \n",
       "1241                                                   Apple set to open popup shop in core of SXSW action {link} #sxsw #app... {link} http://bit.ly/bvHD5s   \n",
       "1758                   I'll pay $681.00 for a New, Unopened iPad 2 16GB with 3G for Verizon - Black. Visit www.Zaarly.com to claim the cash. #willpay #sxsw   \n",
       "2736                                     Front Gate Tickets Present The Morning After Party 3/18 https://sites.google.com/site/frontgatesxsw11/ #SXSW Music   \n",
       "3511                                                             At #tweethouse watching #ipad dj @mention rock out at #sxsw! Check out www.rana.co! #dotco   \n",
       "4962               Off to Google party with @mention then @mention @mention @mention at www.getdown.com #msusxsw #sxsw Tweet me if you're there! (@jeremie)   \n",
       "5002                         RT The coolest iPhone 4 &amp; iPad cases at #Sxsw, check them out here at #fastcompanygrill #zazzlesxsw #sxswi  http... {link}   \n",
       "5130                                 RT @mention @mention hey Rudy, are Belgiums and Dutch taking over #sxsw? We launched www.skylines.net and {link} today   \n",
       "5370  RT @mention A special Apple store: opening at 6th and Congress for SXSW &amp; ipad 2 launch. www.apple.com/retail/thedomain/  #Apple #iPad2 #sxsw #fb   \n",
       "5488                                               RT @mention Are you at #sxsw? Check out #Tokii in the the Maple Leaf Digital Lounge {link} www.tokii.com   \n",
       "5521                                                 RT @mention At #tweethouse watching #ipad dj @mention rock out at #sxsw! Check out www.rana.co! #dotco   \n",
       "5608                  RT @mention Check out the @mention Route {link} ; RSVP here -&gt; https://www.facebook.com/event.php?eid=141164002609303 #sxswi #sxsw   \n",
       "5729                                   RT @mention Follow our #SXSW coverage at {link} on mobile at {link} or with our iPhone app http://bit.ly/guardianapp   \n",
       "5753                         RT @mention Front Gate Tickets Present The Morning After Party 3/18 https://sites.google.com/site/frontgatesxsw11/ #SXSW Music   \n",
       "6478                           RT @mention Retrollect is now also in Android Market! #SxSW https://market.android.com/details?id=com.borderstylo.retrollect   \n",
       "6879                RT @mention We can't wait to give an iPad to someone at #sxsw. Want in? Just head to www.pep.jobs/upc to enter. (must be present to win   \n",
       "7350                           Saw a company today ready to launch, sounds a lot like Google Circles, but with actual personal privacy www.mycube.com #sxsw   \n",
       "7521                                               Follow our #SXSW coverage at {link} on mobile at {link} or with our iPhone app http://bit.ly/guardianapp   \n",
       "7721                                                  miami horror, tacos and bloody marys. i'm there. https://sites.google.com/site/frontgatesxsw11/ #sxsw   \n",
       "7802                             Per this rumor, Google may preview its big social strategy at an '80s-themed costume party at #SXSW. Yep. http:/... {link}   \n",
       "8047                                                         Adloopz: Social Media Advertising done the easy way. Visit www.adloopz.com  #SXSW #sxswi #ipad   \n",
       "8141               @mention Sweet 8-bit pic. Are you an artist? www.zaggle.org is having an #art contest for our #iPhone app Check it out We'll be at #SXSW   \n",
       "8201                                                           Are you at #sxsw? Check out #Tokii in the the Maple Leaf Digital Lounge {link} www.tokii.com   \n",
       "8250                                       Retrollect is now also in Android Market! #SxSW https://market.android.com/details?id=com.borderstylo.retrollect   \n",
       "8849                           We can't wait to give an iPad to someone at #sxsw. Want in? Just head to www.pep.jobs/upc to enter. (must be present to win)   \n",
       "\n",
       "                              product                             emotion  \\\n",
       "5                                 NaN  No emotion toward brand or product   \n",
       "8                  iPad or iPhone App                    Positive emotion   \n",
       "11                        Android App                    Positive emotion   \n",
       "12                        Android App                    Positive emotion   \n",
       "13    Other Google product or service                    Positive emotion   \n",
       "14                 iPad or iPhone App                    Positive emotion   \n",
       "15                 iPad or iPhone App                    Positive emotion   \n",
       "16                                NaN  No emotion toward brand or product   \n",
       "19                 iPad or iPhone App                    Positive emotion   \n",
       "23                 iPad or iPhone App                    Positive emotion   \n",
       "26                 iPad or iPhone App                    Positive emotion   \n",
       "28                 iPad or iPhone App                    Positive emotion   \n",
       "30                 iPad or iPhone App                    Positive emotion   \n",
       "31                 iPad or iPhone App                    Positive emotion   \n",
       "272                               NaN  No emotion toward brand or product   \n",
       "293                               NaN  No emotion toward brand or product   \n",
       "1133                              NaN  No emotion toward brand or product   \n",
       "1139                              NaN  No emotion toward brand or product   \n",
       "1241                              NaN  No emotion toward brand or product   \n",
       "1758                              NaN  No emotion toward brand or product   \n",
       "2736                              NaN  No emotion toward brand or product   \n",
       "3511                              NaN  No emotion toward brand or product   \n",
       "4962                              NaN  No emotion toward brand or product   \n",
       "5002                              NaN  No emotion toward brand or product   \n",
       "5130                              NaN  No emotion toward brand or product   \n",
       "5370                              NaN  No emotion toward brand or product   \n",
       "5488                              NaN  No emotion toward brand or product   \n",
       "5521                             iPad                    Positive emotion   \n",
       "5608                              NaN  No emotion toward brand or product   \n",
       "5729                              NaN  No emotion toward brand or product   \n",
       "5753                              NaN  No emotion toward brand or product   \n",
       "6478                      Android App                    Positive emotion   \n",
       "6879                             iPad                    Positive emotion   \n",
       "7350  Other Google product or service  No emotion toward brand or product   \n",
       "7521               iPad or iPhone App  No emotion toward brand or product   \n",
       "7721                              NaN  No emotion toward brand or product   \n",
       "7802                              NaN  No emotion toward brand or product   \n",
       "8047                              NaN  No emotion toward brand or product   \n",
       "8141                              NaN  No emotion toward brand or product   \n",
       "8201                              NaN  No emotion toward brand or product   \n",
       "8250                              NaN                    Positive emotion   \n",
       "8849                             iPad  No emotion toward brand or product   \n",
       "\n",
       "                                                                                                                                                    cleaned  \n",
       "5              @teachntech00 New iPad Apps For #SpeechTherapy And Communication Are Showcased At The #SXSW Conference http://ht.ly/49n4M #iear #edchat #asd  \n",
       "8                         Beautifully smart and simple idea RT @madebymany @thenextweb wrote about our #hollergram iPad app for #sxsw! http://bit.ly/ieaVOB  \n",
       "11                        Find &amp; Start Impromptu Parties at #SXSW With @HurricaneParty http://bit.ly/gVLrIn I can't wait til the Android app comes out.  \n",
       "12                    Foursquare ups the game, just in time for #SXSW http://j.mp/grN7pK) - Still prefer @Gowalla by far, best looking Android app to date.  \n",
       "13           Gotta love this #SXSW Google Calendar featuring top parties/ show cases to check out.  RT @hamsandwich via @ischafer =&gt;http://bit.ly/aXZwxB  \n",
       "14                                                                                        Great #sxsw ipad app from @madebymany: http://tinyurl.com/4nqv92l  \n",
       "15                                                                       haha, awesomely rad iPad app by @madebymany http://bit.ly/hTdFim #hollergram #sxsw  \n",
       "16                                                             Holler Gram for iPad on the iTunes App Store -  http://t.co/kfN3f5Q (via @marc_is_ken) #sxsw  \n",
       "19                                   Must have #SXSW app! RT @malbonster: Lovely review from Forbes for our SXSW iPad app Holler Gram - http://t.co/g4GZypV  \n",
       "23                                                           Photo: Just installed the #SXSW iPhone app, which is really nice! http://tumblr.com/x6t1pi6av7  \n",
       "26                                              RT haha, awesomely rad iPad app by @madebymany http://bit.ly/hTdFim #hollergram #sxsw (via @michaelpiliero)  \n",
       "28              The new #4sq3 looks like it is going to rock. Update for iPhone and Android should push tonight http://bit.ly/etsbZk #SXSW #KeepAustinWeird  \n",
       "30                                      Very smart from @madebymany #hollergram iPad app for #sxsw! http://t.co/A3xvWc6 (may leave my vuvuzela at home now)  \n",
       "31                   You must have this app for your iPad if you are going to #SXSW http://itunes.apple.com/us/app/holler-gram/id420666439?mt=8 #hollergram  \n",
       "272                          Surprise! Apple has opened a pop-up store in Austin so that the nerds in town for #SXSW can get their new iPads. http:/ {link}  \n",
       "293               A special Apple store: opening at 6th and Congress for SXSW &amp; ipad 2 launch. www.apple.com/retail/thedomain/  #Apple #iPad2 #sxsw #fb  \n",
       "1133                              Check out the @mention Route {link} ; RSVP here -&gt; https://www.facebook.com/event.php?eid=141164002609303 #sxswi #sxsw  \n",
       "1139                                                                       Pics from the #apple #ipad2 line at #SXSW #fb  {link} {link} http://t.co/26SVO3m  \n",
       "1241                                                   Apple set to open popup shop in core of SXSW action {link} #sxsw #app... {link} http://bit.ly/bvHD5s  \n",
       "1758                   I'll pay $681.00 for a New, Unopened iPad 2 16GB with 3G for Verizon - Black. Visit www.Zaarly.com to claim the cash. #willpay #sxsw  \n",
       "2736                                     Front Gate Tickets Present The Morning After Party 3/18 https://sites.google.com/site/frontgatesxsw11/ #SXSW Music  \n",
       "3511                                                             At #tweethouse watching #ipad dj @mention rock out at #sxsw! Check out www.rana.co! #dotco  \n",
       "4962               Off to Google party with @mention then @mention @mention @mention at www.getdown.com #msusxsw #sxsw Tweet me if you're there! (@jeremie)  \n",
       "5002                         RT The coolest iPhone 4 &amp; iPad cases at #Sxsw, check them out here at #fastcompanygrill #zazzlesxsw #sxswi  http... {link}  \n",
       "5130                                 RT @mention @mention hey Rudy, are Belgiums and Dutch taking over #sxsw? We launched www.skylines.net and {link} today  \n",
       "5370  RT @mention A special Apple store: opening at 6th and Congress for SXSW &amp; ipad 2 launch. www.apple.com/retail/thedomain/  #Apple #iPad2 #sxsw #fb  \n",
       "5488                                               RT @mention Are you at #sxsw? Check out #Tokii in the the Maple Leaf Digital Lounge {link} www.tokii.com  \n",
       "5521                                                 RT @mention At #tweethouse watching #ipad dj @mention rock out at #sxsw! Check out www.rana.co! #dotco  \n",
       "5608                  RT @mention Check out the @mention Route {link} ; RSVP here -&gt; https://www.facebook.com/event.php?eid=141164002609303 #sxswi #sxsw  \n",
       "5729                                   RT @mention Follow our #SXSW coverage at {link} on mobile at {link} or with our iPhone app http://bit.ly/guardianapp  \n",
       "5753                         RT @mention Front Gate Tickets Present The Morning After Party 3/18 https://sites.google.com/site/frontgatesxsw11/ #SXSW Music  \n",
       "6478                           RT @mention Retrollect is now also in Android Market! #SxSW https://market.android.com/details?id=com.borderstylo.retrollect  \n",
       "6879                RT @mention We can't wait to give an iPad to someone at #sxsw. Want in? Just head to www.pep.jobs/upc to enter. (must be present to win  \n",
       "7350                           Saw a company today ready to launch, sounds a lot like Google Circles, but with actual personal privacy www.mycube.com #sxsw  \n",
       "7521                                               Follow our #SXSW coverage at {link} on mobile at {link} or with our iPhone app http://bit.ly/guardianapp  \n",
       "7721                                                  miami horror, tacos and bloody marys. i'm there. https://sites.google.com/site/frontgatesxsw11/ #sxsw  \n",
       "7802                             Per this rumor, Google may preview its big social strategy at an '80s-themed costume party at #SXSW. Yep. http:/... {link}  \n",
       "8047                                                         Adloopz: Social Media Advertising done the easy way. Visit www.adloopz.com  #SXSW #sxswi #ipad  \n",
       "8141               @mention Sweet 8-bit pic. Are you an artist? www.zaggle.org is having an #art contest for our #iPhone app Check it out We'll be at #SXSW  \n",
       "8201                                                           Are you at #sxsw? Check out #Tokii in the the Maple Leaf Digital Lounge {link} www.tokii.com  \n",
       "8250                                       Retrollect is now also in Android Market! #SxSW https://market.android.com/details?id=com.borderstylo.retrollect  \n",
       "8849                           We can't wait to give an iPad to someone at #sxsw. Want in? Just head to www.pep.jobs/upc to enter. (must be present to win)  "
      ]
     },
     "execution_count": 179,
     "metadata": {},
     "output_type": "execute_result"
    }
   ],
   "source": [
    "# check for links or URLs\n",
    "df[df['tweet_text'].str.contains(\"http[^ ]+|www\\.[^ ]+\")]"
   ]
  },
  {
   "cell_type": "markdown",
   "metadata": {},
   "source": [
    "I definitely do have URLs, which I will remove."
   ]
  },
  {
   "cell_type": "code",
   "execution_count": 180,
   "metadata": {
    "ExecuteTime": {
     "end_time": "2021-06-16T23:32:21.068232Z",
     "start_time": "2021-06-16T23:32:20.912737Z"
    },
    "scrolled": true
   },
   "outputs": [
    {
     "data": {
      "text/html": [
       "<div>\n",
       "<style scoped>\n",
       "    .dataframe tbody tr th:only-of-type {\n",
       "        vertical-align: middle;\n",
       "    }\n",
       "\n",
       "    .dataframe tbody tr th {\n",
       "        vertical-align: top;\n",
       "    }\n",
       "\n",
       "    .dataframe thead th {\n",
       "        text-align: right;\n",
       "    }\n",
       "</style>\n",
       "<table border=\"1\" class=\"dataframe\">\n",
       "  <thead>\n",
       "    <tr style=\"text-align: right;\">\n",
       "      <th></th>\n",
       "      <th>tweet_text</th>\n",
       "      <th>product</th>\n",
       "      <th>emotion</th>\n",
       "      <th>cleaned</th>\n",
       "    </tr>\n",
       "  </thead>\n",
       "  <tbody>\n",
       "    <tr>\n",
       "      <th>38</th>\n",
       "      <td>@mention  - False Alarm: Google Circles Not Coming NowÛÒand Probably Not Ever? - {link} #Google #Circles #Social #SXSW</td>\n",
       "      <td>Google</td>\n",
       "      <td>Negative emotion</td>\n",
       "      <td>@mention  - False Alarm: Google Circles Not Coming NowÛÒand Probably Not Ever? - {link} #Google #Circles #Social #SXSW</td>\n",
       "    </tr>\n",
       "    <tr>\n",
       "      <th>41</th>\n",
       "      <td>HootSuite - HootSuite Mobile for #SXSW ~ Updates for iPhone, BlackBerry &amp;amp; Android: Whether youÛªre getting friend... {link}</td>\n",
       "      <td>NaN</td>\n",
       "      <td>No emotion toward brand or product</td>\n",
       "      <td>HootSuite - HootSuite Mobile for #SXSW ~ Updates for iPhone, BlackBerry &amp;amp; Android: Whether youÛªre getting friend... {link}</td>\n",
       "    </tr>\n",
       "    <tr>\n",
       "      <th>42</th>\n",
       "      <td>Hey #SXSW - How long do you think it takes us to make an iPhone case? answer @mention using #zazzlesxsw and weÛªll make you one!</td>\n",
       "      <td>NaN</td>\n",
       "      <td>No emotion toward brand or product</td>\n",
       "      <td>Hey #SXSW - How long do you think it takes us to make an iPhone case? answer @mention using #zazzlesxsw and weÛªll make you one!</td>\n",
       "    </tr>\n",
       "    <tr>\n",
       "      <th>45</th>\n",
       "      <td>#IPad2 's Û÷#SmartCoverÛª Opens to Instant Access - I should have waited to get one! - {link} #apple #SXSW</td>\n",
       "      <td>iPad or iPhone App</td>\n",
       "      <td>Positive emotion</td>\n",
       "      <td>#IPad2 's Û÷#SmartCoverÛª Opens to Instant Access - I should have waited to get one! - {link} #apple #SXSW</td>\n",
       "    </tr>\n",
       "    <tr>\n",
       "      <th>46</th>\n",
       "      <td>Hand-Held Û÷HoboÛª: Drafthouse launches Û÷Hobo With a ShotgunÛª iPhone app #SXSW {link}</td>\n",
       "      <td>NaN</td>\n",
       "      <td>Positive emotion</td>\n",
       "      <td>Hand-Held Û÷HoboÛª: Drafthouse launches Û÷Hobo With a ShotgunÛª iPhone app #SXSW {link}</td>\n",
       "    </tr>\n",
       "    <tr>\n",
       "      <th>...</th>\n",
       "      <td>...</td>\n",
       "      <td>...</td>\n",
       "      <td>...</td>\n",
       "      <td>...</td>\n",
       "    </tr>\n",
       "    <tr>\n",
       "      <th>8925</th>\n",
       "      <td>umm that would be @mention ÛÏ@mention I keep winning shit! Thanks @mention for the killer iPad case. #sxswÛ</td>\n",
       "      <td>Other Apple product or service</td>\n",
       "      <td>Positive emotion</td>\n",
       "      <td>umm that would be @mention ÛÏ@mention I keep winning shit! Thanks @mention for the killer iPad case. #sxswÛ</td>\n",
       "    </tr>\n",
       "    <tr>\n",
       "      <th>8945</th>\n",
       "      <td>FestivalExplorer iPhone App Finally Solves SXSW {link} #music #musica #musiek #musique #musik #app #sxsw #Ù_¾¬â #Ù_¾´_ #Î¥É</td>\n",
       "      <td>iPad or iPhone App</td>\n",
       "      <td>Positive emotion</td>\n",
       "      <td>FestivalExplorer iPhone App Finally Solves SXSW {link} #music #musica #musiek #musique #musik #app #sxsw #Ù_¾¬â #Ù_¾´_ #Î¥É</td>\n",
       "    </tr>\n",
       "    <tr>\n",
       "      <th>8963</th>\n",
       "      <td>Group #Texting War Heats Up: Fast Society Launches New Android App, Updates iPhone App: #SXSWÛ_ {link}</td>\n",
       "      <td>Android App</td>\n",
       "      <td>Positive emotion</td>\n",
       "      <td>Group #Texting War Heats Up: Fast Society Launches New Android App, Updates iPhone App: #SXSWÛ_ {link}</td>\n",
       "    </tr>\n",
       "    <tr>\n",
       "      <th>8982</th>\n",
       "      <td>In case my fairy god mother = reading mail; my ÌÙ±G wish this week is 2 go 2 #sxsw Ï for the #Android ÏÎ Dev Ïà Meetup. @mention Hilton, Sat....</td>\n",
       "      <td>NaN</td>\n",
       "      <td>No emotion toward brand or product</td>\n",
       "      <td>In case my fairy god mother = reading mail; my ÌÙ±G wish this week is 2 go 2 #sxsw Ï for the #Android ÏÎ Dev Ïà Meetup. @mention Hilton, Sat....</td>\n",
       "    </tr>\n",
       "    <tr>\n",
       "      <th>9092</th>\n",
       "      <td>Ï¡Ïàü_ÊÎÒ£Áââ_£â_ÛâRT @mention Google Tests ÛÏCheck-in OffersÛ At #SXSW {link}</td>\n",
       "      <td>NaN</td>\n",
       "      <td>No emotion toward brand or product</td>\n",
       "      <td>Ï¡Ïàü_ÊÎÒ£Áââ_£â_ÛâRT @mention Google Tests ÛÏCheck-in OffersÛ At #SXSW {link}</td>\n",
       "    </tr>\n",
       "  </tbody>\n",
       "</table>\n",
       "<p>485 rows × 4 columns</p>\n",
       "</div>"
      ],
      "text/plain": [
       "                                                                                                                                                 tweet_text  \\\n",
       "38                                  @mention  - False Alarm: Google Circles Not Coming NowÛÒand Probably Not Ever? - {link} #Google #Circles #Social #SXSW   \n",
       "41                         HootSuite - HootSuite Mobile for #SXSW ~ Updates for iPhone, BlackBerry &amp; Android: Whether youÛªre getting friend... {link}   \n",
       "42                        Hey #SXSW - How long do you think it takes us to make an iPhone case? answer @mention using #zazzlesxsw and weÛªll make you one!   \n",
       "45                                             #IPad2 's Û÷#SmartCoverÛª Opens to Instant Access - I should have waited to get one! - {link} #apple #SXSW   \n",
       "46                                                              Hand-Held Û÷HoboÛª: Drafthouse launches Û÷Hobo With a ShotgunÛª iPhone app #SXSW {link}   \n",
       "...                                                                                                                                                     ...   \n",
       "8925                                         umm that would be @mention ÛÏ@mention I keep winning shit! Thanks @mention for the killer iPad case. #sxswÛ   \n",
       "8945                       FestivalExplorer iPhone App Finally Solves SXSW {link} #music #musica #musiek #musique #musik #app #sxsw #Ù_¾¬â #Ù_¾´_ #Î¥É   \n",
       "8963                                                Group #Texting War Heats Up: Fast Society Launches New Android App, Updates iPhone App: #SXSWÛ_ {link}   \n",
       "8982  In case my fairy god mother = reading mail; my ÌÙ±G wish this week is 2 go 2 #sxsw Ï for the #Android ÏÎ Dev Ïà Meetup. @mention Hilton, Sat....   \n",
       "9092                                               Ï¡Ïàü_ÊÎÒ£Áââ_£â_ÛâRT @mention Google Tests ÛÏCheck-in OffersÛ At #SXSW {link}   \n",
       "\n",
       "                             product                             emotion  \\\n",
       "38                            Google                    Negative emotion   \n",
       "41                               NaN  No emotion toward brand or product   \n",
       "42                               NaN  No emotion toward brand or product   \n",
       "45                iPad or iPhone App                    Positive emotion   \n",
       "46                               NaN                    Positive emotion   \n",
       "...                              ...                                 ...   \n",
       "8925  Other Apple product or service                    Positive emotion   \n",
       "8945              iPad or iPhone App                    Positive emotion   \n",
       "8963                     Android App                    Positive emotion   \n",
       "8982                             NaN  No emotion toward brand or product   \n",
       "9092                             NaN  No emotion toward brand or product   \n",
       "\n",
       "                                                                                                                                                    cleaned  \n",
       "38                                  @mention  - False Alarm: Google Circles Not Coming NowÛÒand Probably Not Ever? - {link} #Google #Circles #Social #SXSW  \n",
       "41                         HootSuite - HootSuite Mobile for #SXSW ~ Updates for iPhone, BlackBerry &amp; Android: Whether youÛªre getting friend... {link}  \n",
       "42                        Hey #SXSW - How long do you think it takes us to make an iPhone case? answer @mention using #zazzlesxsw and weÛªll make you one!  \n",
       "45                                             #IPad2 's Û÷#SmartCoverÛª Opens to Instant Access - I should have waited to get one! - {link} #apple #SXSW  \n",
       "46                                                              Hand-Held Û÷HoboÛª: Drafthouse launches Û÷Hobo With a ShotgunÛª iPhone app #SXSW {link}  \n",
       "...                                                                                                                                                     ...  \n",
       "8925                                         umm that would be @mention ÛÏ@mention I keep winning shit! Thanks @mention for the killer iPad case. #sxswÛ  \n",
       "8945                       FestivalExplorer iPhone App Finally Solves SXSW {link} #music #musica #musiek #musique #musik #app #sxsw #Ù_¾¬â #Ù_¾´_ #Î¥É  \n",
       "8963                                                Group #Texting War Heats Up: Fast Society Launches New Android App, Updates iPhone App: #SXSWÛ_ {link}  \n",
       "8982  In case my fairy god mother = reading mail; my ÌÙ±G wish this week is 2 go 2 #sxsw Ï for the #Android ÏÎ Dev Ïà Meetup. @mention Hilton, Sat....  \n",
       "9092                                               Ï¡Ïàü_ÊÎÒ£Áââ_£â_ÛâRT @mention Google Tests ÛÏCheck-in OffersÛ At #SXSW {link}  \n",
       "\n",
       "[485 rows x 4 columns]"
      ]
     },
     "execution_count": 180,
     "metadata": {},
     "output_type": "execute_result"
    }
   ],
   "source": [
    "# check for non-ASCII characters\n",
    "# regex from https://stackoverflow.com/questions/2124010/grep-regex-to-match-non-ascii-characters\n",
    "\n",
    "df[df['tweet_text'].str.contains('[^\\x00-\\x7F]+')]"
   ]
  },
  {
   "cell_type": "code",
   "execution_count": 183,
   "metadata": {
    "ExecuteTime": {
     "end_time": "2021-06-16T23:35:03.087600Z",
     "start_time": "2021-06-16T23:35:02.895370Z"
    }
   },
   "outputs": [
    {
     "data": {
      "text/plain": [
       "'@mention  - False Alarm: Google Circles Not Coming Nowand Probably Not Ever? - {link} #Google #Circles #Social #SXSW'"
      ]
     },
     "execution_count": 183,
     "metadata": {},
     "output_type": "execute_result"
    }
   ],
   "source": [
    "# How would the encode/decode trick work? would it give me better text than\n",
    "# simply removing the non-ASCII chars?\n",
    "doc = df.at[38, 'tweet_text']\n",
    "doc = doc.encode('ascii', 'ignore').decode()\n",
    "doc"
   ]
  },
  {
   "cell_type": "markdown",
   "metadata": {},
   "source": [
    "The problem I have with the non-ASCII characters is that they often seem to represent apostrophes and quotation marks. I can't find an encoding that will show them properly in python, or in a SublimeText when I open the raw file. \n",
    "\n",
    "For now I'm going to replace the non-ASCII characters with spaces because I think replacing them with nothing will lead to weird words."
   ]
  },
  {
   "cell_type": "code",
   "execution_count": 342,
   "metadata": {
    "ExecuteTime": {
     "end_time": "2021-06-17T13:12:03.472131Z",
     "start_time": "2021-06-17T13:12:03.161777Z"
    }
   },
   "outputs": [],
   "source": [
    "def clean_docs1(doc):\n",
    "    \"\"\"\n",
    "    Performs a few basic cleaning steps:\n",
    "    - Unescapes any escaped HTML (i.e. `&amp;` for ampersand)\n",
    "    - Replaces URLs with the `{link}` placeholder text\n",
    "    - Replaces non-ASCII characters with spaces\n",
    "    - Replaces any control characters with spaces\n",
    "    - Finally, cleans up any instances of multiple spaces that might have\n",
    "    been created during this process, replacing with a single space\n",
    "    \n",
    "    Takes in a document at a time, and returns the cleaned document text as \n",
    "    a string.\n",
    "    \"\"\"\n",
    "    # unescape HTML characters\n",
    "    doc = html.unescape(doc)\n",
    "    \n",
    "    # remove URLs and links, replacing them with existing placeholder\n",
    "    urls = re.findall(\"http[^ ]+|www\\.[^ ]+\", doc)\n",
    "    for url in urls:\n",
    "        doc = str.replace(doc, url, '{link}')\n",
    "    \n",
    "    # replace non-ASCII characters with space\n",
    "    doc = re.sub(r\"[^\\x00-\\x7F]+\", ' ', doc)\n",
    "    \n",
    "    # replace ASCII control characters with space\n",
    "    doc = re.sub(r\"[\\x00-\\x1F]\", ' ', doc)\n",
    "    \n",
    "    # remove multiple spaces, which will exist after all this replacing words\n",
    "    doc = re.sub(r\"[ ]{2,}\", ' ', doc)\n",
    "    \n",
    "    return doc"
   ]
  },
  {
   "cell_type": "code",
   "execution_count": 185,
   "metadata": {
    "ExecuteTime": {
     "end_time": "2021-06-16T23:35:14.216531Z",
     "start_time": "2021-06-16T23:35:13.811196Z"
    },
    "scrolled": true
   },
   "outputs": [
    {
     "data": {
      "text/html": [
       "<div>\n",
       "<style scoped>\n",
       "    .dataframe tbody tr th:only-of-type {\n",
       "        vertical-align: middle;\n",
       "    }\n",
       "\n",
       "    .dataframe tbody tr th {\n",
       "        vertical-align: top;\n",
       "    }\n",
       "\n",
       "    .dataframe thead th {\n",
       "        text-align: right;\n",
       "    }\n",
       "</style>\n",
       "<table border=\"1\" class=\"dataframe\">\n",
       "  <thead>\n",
       "    <tr style=\"text-align: right;\">\n",
       "      <th></th>\n",
       "      <th>tweet_text</th>\n",
       "      <th>product</th>\n",
       "      <th>emotion</th>\n",
       "      <th>cleaned</th>\n",
       "    </tr>\n",
       "  </thead>\n",
       "  <tbody>\n",
       "    <tr>\n",
       "      <th>0</th>\n",
       "      <td>.@wesley83 I have a 3G iPhone. After 3 hrs tweeting at #RISE_Austin, it was dead!  I need to upgrade. Plugin stations at #SXSW.</td>\n",
       "      <td>iPhone</td>\n",
       "      <td>Negative emotion</td>\n",
       "      <td>.@wesley83 I have a 3G iPhone. After 3 hrs tweeting at #RISE_Austin, it was dead! I need to upgrade. Plugin stations at #SXSW.</td>\n",
       "    </tr>\n",
       "    <tr>\n",
       "      <th>1</th>\n",
       "      <td>@jessedee Know about @fludapp ? Awesome iPad/iPhone app that you'll likely appreciate for its design. Also, they're giving free Ts at #SXSW</td>\n",
       "      <td>iPad or iPhone App</td>\n",
       "      <td>Positive emotion</td>\n",
       "      <td>@jessedee Know about @fludapp ? Awesome iPad/iPhone app that you'll likely appreciate for its design. Also, they're giving free Ts at #SXSW</td>\n",
       "    </tr>\n",
       "    <tr>\n",
       "      <th>2</th>\n",
       "      <td>@swonderlin Can not wait for #iPad 2 also. They should sale them down at #SXSW.</td>\n",
       "      <td>iPad</td>\n",
       "      <td>Positive emotion</td>\n",
       "      <td>@swonderlin Can not wait for #iPad 2 also. They should sale them down at #SXSW.</td>\n",
       "    </tr>\n",
       "    <tr>\n",
       "      <th>3</th>\n",
       "      <td>@sxsw I hope this year's festival isn't as crashy as this year's iPhone app. #sxsw</td>\n",
       "      <td>iPad or iPhone App</td>\n",
       "      <td>Negative emotion</td>\n",
       "      <td>@sxsw I hope this year's festival isn't as crashy as this year's iPhone app. #sxsw</td>\n",
       "    </tr>\n",
       "    <tr>\n",
       "      <th>4</th>\n",
       "      <td>@sxtxstate great stuff on Fri #SXSW: Marissa Mayer (Google), Tim O'Reilly (tech books/conferences) &amp;amp; Matt Mullenweg (Wordpress)</td>\n",
       "      <td>Google</td>\n",
       "      <td>Positive emotion</td>\n",
       "      <td>@sxtxstate great stuff on Fri #SXSW: Marissa Mayer (Google), Tim O'Reilly (tech books/conferences) &amp; Matt Mullenweg (Wordpress)</td>\n",
       "    </tr>\n",
       "    <tr>\n",
       "      <th>...</th>\n",
       "      <td>...</td>\n",
       "      <td>...</td>\n",
       "      <td>...</td>\n",
       "      <td>...</td>\n",
       "    </tr>\n",
       "    <tr>\n",
       "      <th>9088</th>\n",
       "      <td>Ipad everywhere. #SXSW {link}</td>\n",
       "      <td>iPad</td>\n",
       "      <td>Positive emotion</td>\n",
       "      <td>Ipad everywhere. #SXSW {link}</td>\n",
       "    </tr>\n",
       "    <tr>\n",
       "      <th>9089</th>\n",
       "      <td>Wave, buzz... RT @mention We interrupt your regularly scheduled #sxsw geek programming with big news {link}  #google #circles</td>\n",
       "      <td>NaN</td>\n",
       "      <td>No emotion toward brand or product</td>\n",
       "      <td>Wave, buzz... RT @mention We interrupt your regularly scheduled #sxsw geek programming with big news {link} #google #circles</td>\n",
       "    </tr>\n",
       "    <tr>\n",
       "      <th>9090</th>\n",
       "      <td>Google's Zeiger, a physician never reported potential AE. Yet FDA relies on physicians. &amp;quot;We're operating w/out data.&amp;quot; #sxsw #health2dev</td>\n",
       "      <td>NaN</td>\n",
       "      <td>No emotion toward brand or product</td>\n",
       "      <td>Google's Zeiger, a physician never reported potential AE. Yet FDA relies on physicians. \"We're operating w/out data.\" #sxsw #health2dev</td>\n",
       "    </tr>\n",
       "    <tr>\n",
       "      <th>9091</th>\n",
       "      <td>Some Verizon iPhone customers complained their time fell back an hour this weekend.  Of course they were the New Yorkers who attended #SXSW.</td>\n",
       "      <td>NaN</td>\n",
       "      <td>No emotion toward brand or product</td>\n",
       "      <td>Some Verizon iPhone customers complained their time fell back an hour this weekend. Of course they were the New Yorkers who attended #SXSW.</td>\n",
       "    </tr>\n",
       "    <tr>\n",
       "      <th>9092</th>\n",
       "      <td>Ï¡Ïàü_ÊÎÒ£Áââ_£â_ÛâRT @mention Google Tests ÛÏCheck-in OffersÛ At #SXSW {link}</td>\n",
       "      <td>NaN</td>\n",
       "      <td>No emotion toward brand or product</td>\n",
       "      <td>_ _ _ RT @mention Google Tests Check-in Offers At #SXSW {link}</td>\n",
       "    </tr>\n",
       "  </tbody>\n",
       "</table>\n",
       "<p>9092 rows × 4 columns</p>\n",
       "</div>"
      ],
      "text/plain": [
       "                                                                                                                                             tweet_text  \\\n",
       "0                       .@wesley83 I have a 3G iPhone. After 3 hrs tweeting at #RISE_Austin, it was dead!  I need to upgrade. Plugin stations at #SXSW.   \n",
       "1           @jessedee Know about @fludapp ? Awesome iPad/iPhone app that you'll likely appreciate for its design. Also, they're giving free Ts at #SXSW   \n",
       "2                                                                       @swonderlin Can not wait for #iPad 2 also. They should sale them down at #SXSW.   \n",
       "3                                                                    @sxsw I hope this year's festival isn't as crashy as this year's iPhone app. #sxsw   \n",
       "4                   @sxtxstate great stuff on Fri #SXSW: Marissa Mayer (Google), Tim O'Reilly (tech books/conferences) &amp; Matt Mullenweg (Wordpress)   \n",
       "...                                                                                                                                                 ...   \n",
       "9088                                                                                                                      Ipad everywhere. #SXSW {link}   \n",
       "9089                      Wave, buzz... RT @mention We interrupt your regularly scheduled #sxsw geek programming with big news {link}  #google #circles   \n",
       "9090  Google's Zeiger, a physician never reported potential AE. Yet FDA relies on physicians. &quot;We're operating w/out data.&quot; #sxsw #health2dev   \n",
       "9091       Some Verizon iPhone customers complained their time fell back an hour this weekend.  Of course they were the New Yorkers who attended #SXSW.   \n",
       "9092                                           Ï¡Ïàü_ÊÎÒ£Áââ_£â_ÛâRT @mention Google Tests ÛÏCheck-in OffersÛ At #SXSW {link}   \n",
       "\n",
       "                 product                             emotion  \\\n",
       "0                 iPhone                    Negative emotion   \n",
       "1     iPad or iPhone App                    Positive emotion   \n",
       "2                   iPad                    Positive emotion   \n",
       "3     iPad or iPhone App                    Negative emotion   \n",
       "4                 Google                    Positive emotion   \n",
       "...                  ...                                 ...   \n",
       "9088                iPad                    Positive emotion   \n",
       "9089                 NaN  No emotion toward brand or product   \n",
       "9090                 NaN  No emotion toward brand or product   \n",
       "9091                 NaN  No emotion toward brand or product   \n",
       "9092                 NaN  No emotion toward brand or product   \n",
       "\n",
       "                                                                                                                                          cleaned  \n",
       "0                  .@wesley83 I have a 3G iPhone. After 3 hrs tweeting at #RISE_Austin, it was dead! I need to upgrade. Plugin stations at #SXSW.  \n",
       "1     @jessedee Know about @fludapp ? Awesome iPad/iPhone app that you'll likely appreciate for its design. Also, they're giving free Ts at #SXSW  \n",
       "2                                                                 @swonderlin Can not wait for #iPad 2 also. They should sale them down at #SXSW.  \n",
       "3                                                              @sxsw I hope this year's festival isn't as crashy as this year's iPhone app. #sxsw  \n",
       "4                 @sxtxstate great stuff on Fri #SXSW: Marissa Mayer (Google), Tim O'Reilly (tech books/conferences) & Matt Mullenweg (Wordpress)  \n",
       "...                                                                                                                                           ...  \n",
       "9088                                                                                                                Ipad everywhere. #SXSW {link}  \n",
       "9089                 Wave, buzz... RT @mention We interrupt your regularly scheduled #sxsw geek programming with big news {link} #google #circles  \n",
       "9090      Google's Zeiger, a physician never reported potential AE. Yet FDA relies on physicians. \"We're operating w/out data.\" #sxsw #health2dev  \n",
       "9091  Some Verizon iPhone customers complained their time fell back an hour this weekend. Of course they were the New Yorkers who attended #SXSW.  \n",
       "9092                                                                               _ _ _ RT @mention Google Tests Check-in Offers At #SXSW {link}  \n",
       "\n",
       "[9092 rows x 4 columns]"
      ]
     },
     "execution_count": 185,
     "metadata": {},
     "output_type": "execute_result"
    }
   ],
   "source": [
    "# map doc cleaning function onto 'cleaned' column\n",
    "df['cleaned'] = df['cleaned'].map(lambda x: clean_docs1(x))\n",
    "df"
   ]
  },
  {
   "cell_type": "code",
   "execution_count": 186,
   "metadata": {
    "ExecuteTime": {
     "end_time": "2021-06-16T23:35:25.621742Z",
     "start_time": "2021-06-16T23:35:25.486241Z"
    },
    "scrolled": false
   },
   "outputs": [
    {
     "data": {
      "text/plain": [
       "tweet_text    Saw a company today ready to launch, sounds a lot like Google Circles, but with actual personal privacy www.mycube.com #sxsw\n",
       "product                                                                                                    Other Google product or service\n",
       "emotion                                                                                                 No emotion toward brand or product\n",
       "cleaned               Saw a company today ready to launch, sounds a lot like Google Circles, but with actual personal privacy {link} #sxsw\n",
       "Name: 7350, dtype: object"
      ]
     },
     "execution_count": 186,
     "metadata": {},
     "output_type": "execute_result"
    }
   ],
   "source": [
    "# specifically check on a few rows\n",
    "df.loc[8982]\n",
    "df.loc[7350]"
   ]
  },
  {
   "cell_type": "code",
   "execution_count": 23,
   "metadata": {
    "ExecuteTime": {
     "end_time": "2021-06-16T15:01:52.561354Z",
     "start_time": "2021-06-16T15:01:52.497477Z"
    }
   },
   "outputs": [
    {
     "data": {
      "text/plain": [
       "\"@jessedee Know about @fludapp ? Awesome iPad/iPhone app that you'll likely appreciate for its design. Also, they're giving free Ts at #SXSW\""
      ]
     },
     "execution_count": 23,
     "metadata": {},
     "output_type": "execute_result"
    }
   ],
   "source": [
    "doc = df['cleaned'].loc[1]\n",
    "doc"
   ]
  },
  {
   "cell_type": "code",
   "execution_count": 21,
   "metadata": {
    "ExecuteTime": {
     "end_time": "2021-06-16T19:59:44.001777Z",
     "start_time": "2021-06-16T19:59:43.883385Z"
    }
   },
   "outputs": [],
   "source": [
    "def get_pattern_hits(doc, pattern, out_type):\n",
    "    \"\"\"\n",
    "    \n",
    "    \"\"\"\n",
    "    \n",
    "    # determine the variable type for recording hits\n",
    "    if out_type=='list': \n",
    "        hits = []\n",
    "    elif out_type=='bool':\n",
    "        hits = False\n",
    "    elif out_type=='none':\n",
    "        hits = None\n",
    "        \n",
    "    # search for regex pattern in doc\n",
    "    pattern_hits = re.findall(pattern, doc)\n",
    "\n",
    "    if len(pattern_hits) > 0:\n",
    "        # replace the hits in the original doc string\n",
    "        # need to use the re version otherwise substrings won't be replaced \n",
    "        # correctly!\n",
    "        doc = re.sub(pattern, ' ', doc)\n",
    "\n",
    "        # replace multiple spaces with a single space\n",
    "        doc = re.sub(r\"(\\s{2,})\", ' ', doc)\n",
    "\n",
    "        # Update appropriate hits variable\n",
    "        for hit in pattern_hits:\n",
    "            if out_type=='list':\n",
    "                hits.append(hit)\n",
    "            elif out_type=='bool':\n",
    "                hits = True\n",
    "\n",
    "        if out_type=='list':\n",
    "            hits = list(set(hits))\n",
    "                 \n",
    "    return doc, hits"
   ]
  },
  {
   "cell_type": "code",
   "execution_count": 22,
   "metadata": {
    "ExecuteTime": {
     "end_time": "2021-06-16T19:59:45.395196Z",
     "start_time": "2021-06-16T19:59:45.279427Z"
    }
   },
   "outputs": [],
   "source": [
    "def log_remove(df, doc_col, hit_col, pattern, out_type='list'):\n",
    "    \"\"\"\n",
    "    \n",
    "    \"\"\"\n",
    "    updates = []\n",
    "    \n",
    "    # loop through each row in the dataframe to process its record\n",
    "    for i in df.index:\n",
    "        new_doc, hits = get_pattern_hits(df.at[i, doc_col], pattern, out_type)\n",
    "        updates.append([new_doc, hits])\n",
    "    \n",
    "    df_new = pd.DataFrame(updates, columns=[doc_col, hit_col])\n",
    "    \n",
    "    if out_type=='none':\n",
    "        df_new.drop(columns=[hit_col], inplace=True)\n",
    "    \n",
    "    df = df.join(df_new, lsuffix='_old', how='inner')\n",
    "    df.drop(columns=[f\"{doc_col}_old\"], inplace=True)\n",
    "    return df\n"
   ]
  },
  {
   "cell_type": "code",
   "execution_count": 346,
   "metadata": {
    "ExecuteTime": {
     "end_time": "2021-06-17T13:16:46.570878Z",
     "start_time": "2021-06-17T13:16:46.073117Z"
    },
    "scrolled": false
   },
   "outputs": [
    {
     "data": {
      "text/html": [
       "<div>\n",
       "<style scoped>\n",
       "    .dataframe tbody tr th:only-of-type {\n",
       "        vertical-align: middle;\n",
       "    }\n",
       "\n",
       "    .dataframe tbody tr th {\n",
       "        vertical-align: top;\n",
       "    }\n",
       "\n",
       "    .dataframe thead th {\n",
       "        text-align: right;\n",
       "    }\n",
       "</style>\n",
       "<table border=\"1\" class=\"dataframe\">\n",
       "  <thead>\n",
       "    <tr style=\"text-align: right;\">\n",
       "      <th></th>\n",
       "      <th>tweet_text</th>\n",
       "      <th>cleaned</th>\n",
       "    </tr>\n",
       "  </thead>\n",
       "  <tbody>\n",
       "    <tr>\n",
       "      <th>0</th>\n",
       "      <td>.@wesley83 I have a 3G iPhone. After 3 hrs tweeting at #RISE_Austin, it was dead!  I need to upgrade. Plugin stations at #SXSW.</td>\n",
       "      <td>.@wesley83 I have a 3G iPhone. After hrs tweeting at #RISE_Austin, it was dead! I need to upgrade. Plugin stations at #SXSW.</td>\n",
       "    </tr>\n",
       "    <tr>\n",
       "      <th>1</th>\n",
       "      <td>@jessedee Know about @fludapp ? Awesome iPad/iPhone app that you'll likely appreciate for its design. Also, they're giving free Ts at #SXSW</td>\n",
       "      <td>@jessedee Know about @fludapp ? Awesome iPad/iPhone app that you'll likely appreciate for its design. Also, they're giving free Ts at #SXSW</td>\n",
       "    </tr>\n",
       "    <tr>\n",
       "      <th>2</th>\n",
       "      <td>@swonderlin Can not wait for #iPad 2 also. They should sale them down at #SXSW.</td>\n",
       "      <td>@swonderlin Can not wait for #iPad also. They should sale them down at #SXSW.</td>\n",
       "    </tr>\n",
       "    <tr>\n",
       "      <th>3</th>\n",
       "      <td>@sxsw I hope this year's festival isn't as crashy as this year's iPhone app. #sxsw</td>\n",
       "      <td>@sxsw I hope this year's festival isn't as crashy as this year's iPhone app. #sxsw</td>\n",
       "    </tr>\n",
       "    <tr>\n",
       "      <th>4</th>\n",
       "      <td>@sxtxstate great stuff on Fri #SXSW: Marissa Mayer (Google), Tim O'Reilly (tech books/conferences) &amp;amp; Matt Mullenweg (Wordpress)</td>\n",
       "      <td>@sxtxstate great stuff on Fri #SXSW: Marissa Mayer (Google), Tim O'Reilly (tech books/conferences) &amp; Matt Mullenweg (Wordpress)</td>\n",
       "    </tr>\n",
       "    <tr>\n",
       "      <th>...</th>\n",
       "      <td>...</td>\n",
       "      <td>...</td>\n",
       "    </tr>\n",
       "    <tr>\n",
       "      <th>9087</th>\n",
       "      <td>Ipad everywhere. #SXSW {link}</td>\n",
       "      <td>Ipad everywhere. #SXSW {link}</td>\n",
       "    </tr>\n",
       "    <tr>\n",
       "      <th>9088</th>\n",
       "      <td>Wave, buzz... RT @mention We interrupt your regularly scheduled #sxsw geek programming with big news {link}  #google #circles</td>\n",
       "      <td>Wave, buzz... RT @mention We interrupt your regularly scheduled #sxsw geek programming with big news {link} #google #circles</td>\n",
       "    </tr>\n",
       "    <tr>\n",
       "      <th>9089</th>\n",
       "      <td>Google's Zeiger, a physician never reported potential AE. Yet FDA relies on physicians. &amp;quot;We're operating w/out data.&amp;quot; #sxsw #health2dev</td>\n",
       "      <td>Google's Zeiger, a physician never reported potential AE. Yet FDA relies on physicians. \"We're operating w/out data.\" #sxsw #health2dev</td>\n",
       "    </tr>\n",
       "    <tr>\n",
       "      <th>9090</th>\n",
       "      <td>Some Verizon iPhone customers complained their time fell back an hour this weekend.  Of course they were the New Yorkers who attended #SXSW.</td>\n",
       "      <td>Some Verizon iPhone customers complained their time fell back an hour this weekend. Of course they were the New Yorkers who attended #SXSW.</td>\n",
       "    </tr>\n",
       "    <tr>\n",
       "      <th>9091</th>\n",
       "      <td>Ï¡Ïàü_ÊÎÒ£Áââ_£â_ÛâRT @mention Google Tests ÛÏCheck-in OffersÛ At #SXSW {link}</td>\n",
       "      <td>_ _ _ RT @mention Google Tests Check-in Offers At #SXSW {link}</td>\n",
       "    </tr>\n",
       "  </tbody>\n",
       "</table>\n",
       "<p>9092 rows × 2 columns</p>\n",
       "</div>"
      ],
      "text/plain": [
       "                                                                                                                                             tweet_text  \\\n",
       "0                       .@wesley83 I have a 3G iPhone. After 3 hrs tweeting at #RISE_Austin, it was dead!  I need to upgrade. Plugin stations at #SXSW.   \n",
       "1           @jessedee Know about @fludapp ? Awesome iPad/iPhone app that you'll likely appreciate for its design. Also, they're giving free Ts at #SXSW   \n",
       "2                                                                       @swonderlin Can not wait for #iPad 2 also. They should sale them down at #SXSW.   \n",
       "3                                                                    @sxsw I hope this year's festival isn't as crashy as this year's iPhone app. #sxsw   \n",
       "4                   @sxtxstate great stuff on Fri #SXSW: Marissa Mayer (Google), Tim O'Reilly (tech books/conferences) &amp; Matt Mullenweg (Wordpress)   \n",
       "...                                                                                                                                                 ...   \n",
       "9087                                                                                                                      Ipad everywhere. #SXSW {link}   \n",
       "9088                      Wave, buzz... RT @mention We interrupt your regularly scheduled #sxsw geek programming with big news {link}  #google #circles   \n",
       "9089  Google's Zeiger, a physician never reported potential AE. Yet FDA relies on physicians. &quot;We're operating w/out data.&quot; #sxsw #health2dev   \n",
       "9090       Some Verizon iPhone customers complained their time fell back an hour this weekend.  Of course they were the New Yorkers who attended #SXSW.   \n",
       "9091                                           Ï¡Ïàü_ÊÎÒ£Áââ_£â_ÛâRT @mention Google Tests ÛÏCheck-in OffersÛ At #SXSW {link}   \n",
       "\n",
       "                                                                                                                                          cleaned  \n",
       "0                    .@wesley83 I have a 3G iPhone. After hrs tweeting at #RISE_Austin, it was dead! I need to upgrade. Plugin stations at #SXSW.  \n",
       "1     @jessedee Know about @fludapp ? Awesome iPad/iPhone app that you'll likely appreciate for its design. Also, they're giving free Ts at #SXSW  \n",
       "2                                                                   @swonderlin Can not wait for #iPad also. They should sale them down at #SXSW.  \n",
       "3                                                              @sxsw I hope this year's festival isn't as crashy as this year's iPhone app. #sxsw  \n",
       "4                 @sxtxstate great stuff on Fri #SXSW: Marissa Mayer (Google), Tim O'Reilly (tech books/conferences) & Matt Mullenweg (Wordpress)  \n",
       "...                                                                                                                                           ...  \n",
       "9087                                                                                                                Ipad everywhere. #SXSW {link}  \n",
       "9088                 Wave, buzz... RT @mention We interrupt your regularly scheduled #sxsw geek programming with big news {link} #google #circles  \n",
       "9089      Google's Zeiger, a physician never reported potential AE. Yet FDA relies on physicians. \"We're operating w/out data.\" #sxsw #health2dev  \n",
       "9090  Some Verizon iPhone customers complained their time fell back an hour this weekend. Of course they were the New Yorkers who attended #SXSW.  \n",
       "9091                                                                               _ _ _ RT @mention Google Tests Check-in Offers At #SXSW {link}  \n",
       "\n",
       "[9092 rows x 2 columns]"
      ]
     },
     "execution_count": 346,
     "metadata": {},
     "output_type": "execute_result"
    }
   ],
   "source": [
    "# remove numbers\n",
    "df = log_remove(df, 'cleaned', 'none', \n",
    "                pattern=r\"(?:^|\\s)([.:$%]*[0-9]+[.:$%]*[0-9]*)\\b\", \n",
    "                out_type='none')\n",
    "df[['tweet_text', 'cleaned']]"
   ]
  },
  {
   "cell_type": "code",
   "execution_count": 347,
   "metadata": {
    "ExecuteTime": {
     "end_time": "2021-06-17T13:16:56.977934Z",
     "start_time": "2021-06-17T13:16:56.718290Z"
    },
    "scrolled": false
   },
   "outputs": [
    {
     "name": "stderr",
     "output_type": "stream",
     "text": [
      "/Users/jessicamiles/opt/anaconda3/envs/learn-env2/lib/python3.8/site-packages/pandas/core/strings.py:2001: UserWarning: This pattern has match groups. To actually get the groups, use str.extract.\n",
      "  return func(self, *args, **kwargs)\n"
     ]
    },
    {
     "data": {
      "text/html": [
       "<div>\n",
       "<style scoped>\n",
       "    .dataframe tbody tr th:only-of-type {\n",
       "        vertical-align: middle;\n",
       "    }\n",
       "\n",
       "    .dataframe tbody tr th {\n",
       "        vertical-align: top;\n",
       "    }\n",
       "\n",
       "    .dataframe thead th {\n",
       "        text-align: right;\n",
       "    }\n",
       "</style>\n",
       "<table border=\"1\" class=\"dataframe\">\n",
       "  <thead>\n",
       "    <tr style=\"text-align: right;\">\n",
       "      <th></th>\n",
       "      <th>tweet_text</th>\n",
       "      <th>cleaned</th>\n",
       "    </tr>\n",
       "  </thead>\n",
       "  <tbody>\n",
       "    <tr>\n",
       "      <th>0</th>\n",
       "      <td>.@wesley83 I have a 3G iPhone. After 3 hrs tweeting at #RISE_Austin, it was dead!  I need to upgrade. Plugin stations at #SXSW.</td>\n",
       "      <td>.@wesley83 I have a 3G iPhone. After hrs tweeting at #RISE_Austin, it was dead! I need to upgrade. Plugin stations at #SXSW.</td>\n",
       "    </tr>\n",
       "    <tr>\n",
       "      <th>2</th>\n",
       "      <td>@swonderlin Can not wait for #iPad 2 also. They should sale them down at #SXSW.</td>\n",
       "      <td>@swonderlin Can not wait for #iPad also. They should sale them down at #SXSW.</td>\n",
       "    </tr>\n",
       "    <tr>\n",
       "      <th>23</th>\n",
       "      <td>Really enjoying the changes in Gowalla 3.0 for Android! Looking forward to seeing what else they &amp;amp; Foursquare have up their sleeves at #SXSW</td>\n",
       "      <td>Really enjoying the changes in Gowalla for Android! Looking forward to seeing what else they &amp; Foursquare have up their sleeves at #SXSW</td>\n",
       "    </tr>\n",
       "    <tr>\n",
       "      <th>28</th>\n",
       "      <td>They were right, the @gowalla 3 app on #android is sweeeeet! Nice job by the team there. #sxsw</td>\n",
       "      <td>They were right, the @gowalla app on #android is sweeeeet! Nice job by the team there. #sxsw</td>\n",
       "    </tr>\n",
       "    <tr>\n",
       "      <th>42</th>\n",
       "      <td>Mashable! - The iPad 2 Takes Over SXSW [VIDEO] #ipad #sxsw #gadgets {link}</td>\n",
       "      <td>Mashable! - The iPad Takes Over SXSW [VIDEO] #ipad #sxsw #gadgets {link}</td>\n",
       "    </tr>\n",
       "    <tr>\n",
       "      <th>...</th>\n",
       "      <td>...</td>\n",
       "      <td>...</td>\n",
       "    </tr>\n",
       "    <tr>\n",
       "      <th>9051</th>\n",
       "      <td>@mention You could buy a new iPad 2 tmrw at the Apple pop-up store at #sxsw: {link}</td>\n",
       "      <td>@mention You could buy a new iPad tmrw at the Apple pop-up store at #sxsw: {link}</td>\n",
       "    </tr>\n",
       "    <tr>\n",
       "      <th>9053</th>\n",
       "      <td>Guys, if you ever plan on attending #SXSW, you need 4 things, skinny jeans, flannel shirt, beard and an iPad #imanoutcast...</td>\n",
       "      <td>Guys, if you ever plan on attending #SXSW, you need things, skinny jeans, flannel shirt, beard and an iPad #imanoutcast...</td>\n",
       "    </tr>\n",
       "    <tr>\n",
       "      <th>9062</th>\n",
       "      <td>@mention You should get the iPad 2  to save your back from lugging the laptop #SXSW #SXSWMyMistake</td>\n",
       "      <td>@mention You should get the iPad to save your back from lugging the laptop #SXSW #SXSWMyMistake</td>\n",
       "    </tr>\n",
       "    <tr>\n",
       "      <th>9071</th>\n",
       "      <td>@mention your iPhone 4 cases are Rad and Ready! Stop by tomorrow to get them! #Sxsw #zazzlesxsw #sxswi {link}</td>\n",
       "      <td>@mention your iPhone cases are Rad and Ready! Stop by tomorrow to get them! #Sxsw #zazzlesxsw #sxswi {link}</td>\n",
       "    </tr>\n",
       "    <tr>\n",
       "      <th>9075</th>\n",
       "      <td>At &amp;quot;Your Mom Has an iPad&amp;quot; session at #SXSW (@mention ACC - Ballroom B w/ 23 others) {link}</td>\n",
       "      <td>At \"Your Mom Has an iPad\" session at #SXSW (@mention ACC - Ballroom B w/ others) {link}</td>\n",
       "    </tr>\n",
       "  </tbody>\n",
       "</table>\n",
       "<p>1667 rows × 2 columns</p>\n",
       "</div>"
      ],
      "text/plain": [
       "                                                                                                                                            tweet_text  \\\n",
       "0                      .@wesley83 I have a 3G iPhone. After 3 hrs tweeting at #RISE_Austin, it was dead!  I need to upgrade. Plugin stations at #SXSW.   \n",
       "2                                                                      @swonderlin Can not wait for #iPad 2 also. They should sale them down at #SXSW.   \n",
       "23    Really enjoying the changes in Gowalla 3.0 for Android! Looking forward to seeing what else they &amp; Foursquare have up their sleeves at #SXSW   \n",
       "28                                                      They were right, the @gowalla 3 app on #android is sweeeeet! Nice job by the team there. #sxsw   \n",
       "42                                                                          Mashable! - The iPad 2 Takes Over SXSW [VIDEO] #ipad #sxsw #gadgets {link}   \n",
       "...                                                                                                                                                ...   \n",
       "9051                                                               @mention You could buy a new iPad 2 tmrw at the Apple pop-up store at #sxsw: {link}   \n",
       "9053                      Guys, if you ever plan on attending #SXSW, you need 4 things, skinny jeans, flannel shirt, beard and an iPad #imanoutcast...   \n",
       "9062                                                @mention You should get the iPad 2  to save your back from lugging the laptop #SXSW #SXSWMyMistake   \n",
       "9071                                     @mention your iPhone 4 cases are Rad and Ready! Stop by tomorrow to get them! #Sxsw #zazzlesxsw #sxswi {link}   \n",
       "9075                                              At &quot;Your Mom Has an iPad&quot; session at #SXSW (@mention ACC - Ballroom B w/ 23 others) {link}   \n",
       "\n",
       "                                                                                                                                       cleaned  \n",
       "0                 .@wesley83 I have a 3G iPhone. After hrs tweeting at #RISE_Austin, it was dead! I need to upgrade. Plugin stations at #SXSW.  \n",
       "2                                                                @swonderlin Can not wait for #iPad also. They should sale them down at #SXSW.  \n",
       "23    Really enjoying the changes in Gowalla for Android! Looking forward to seeing what else they & Foursquare have up their sleeves at #SXSW  \n",
       "28                                                They were right, the @gowalla app on #android is sweeeeet! Nice job by the team there. #sxsw  \n",
       "42                                                                    Mashable! - The iPad Takes Over SXSW [VIDEO] #ipad #sxsw #gadgets {link}  \n",
       "...                                                                                                                                        ...  \n",
       "9051                                                         @mention You could buy a new iPad tmrw at the Apple pop-up store at #sxsw: {link}  \n",
       "9053                Guys, if you ever plan on attending #SXSW, you need things, skinny jeans, flannel shirt, beard and an iPad #imanoutcast...  \n",
       "9062                                           @mention You should get the iPad to save your back from lugging the laptop #SXSW #SXSWMyMistake  \n",
       "9071                               @mention your iPhone cases are Rad and Ready! Stop by tomorrow to get them! #Sxsw #zazzlesxsw #sxswi {link}  \n",
       "9075                                                   At \"Your Mom Has an iPad\" session at #SXSW (@mention ACC - Ballroom B w/ others) {link}  \n",
       "\n",
       "[1667 rows x 2 columns]"
      ]
     },
     "execution_count": 347,
     "metadata": {},
     "output_type": "execute_result"
    }
   ],
   "source": [
    "# I don't see any numbers in the head/tail cells, so let's find some\n",
    "df.loc[df['tweet_text'].str.contains(r\"(?:^|\\s)([.:$%]*[0-9]+[.:$%]*[0-9]*)\\s\"), \n",
    "       ['tweet_text', 'cleaned']]"
   ]
  },
  {
   "cell_type": "markdown",
   "metadata": {},
   "source": [
    "# EXPLORE"
   ]
  },
  {
   "cell_type": "code",
   "execution_count": 461,
   "metadata": {
    "ExecuteTime": {
     "end_time": "2021-06-17T23:01:45.914486Z",
     "start_time": "2021-06-17T23:01:45.638015Z"
    }
   },
   "outputs": [],
   "source": [
    "def generate_wordcloud(docs, cmap, stopwords, min_font_size=14):\n",
    "    \"\"\"\n",
    "    \"\"\"\n",
    "    cloud = WordCloud(colormap=cmap, width=600, height=400, \n",
    "                      prefer_horizontal=0.95, min_font_size=min_font_size)\\\n",
    "                      .generate_from_text(\" \".join(docs))\n",
    "\n",
    "    fig, ax = plt.subplots(figsize=(10, 8))\n",
    "\n",
    "    # Display the generated image:\n",
    "    ax.imshow(cloud)\n",
    "    ax.axis(\"off\")\n",
    "    ax.margins(x=0, y=0);"
   ]
  },
  {
   "cell_type": "markdown",
   "metadata": {},
   "source": [
    "## Create tokenized corpora for visualization\n",
    "\n",
    "I'm going to write a function to remove the stopwords (and punctuation), as well as tokenize using lemmatization or not. This will allow me to use it ad-hoc to generate tokens for the entire corpus for EDA before modeling, and also use it in an sklearn pipeline so I can apply the same logic when pre-processing for modeling.\n",
    "\n",
    "I concerned that some of the stop words in the default nltk list, such as negations (don't, won't, shouldn't, can't) might more commonly contribute to negative emotion than positive ones. I want to investigate the list of stopwords and check out what I might want to customize. I may try a few different iterations."
   ]
  },
  {
   "cell_type": "code",
   "execution_count": 295,
   "metadata": {
    "ExecuteTime": {
     "end_time": "2021-06-17T02:25:41.361605Z",
     "start_time": "2021-06-17T02:25:41.242654Z"
    },
    "scrolled": false
   },
   "outputs": [
    {
     "name": "stdout",
     "output_type": "stream",
     "text": [
      "['a', 'about', 'above', 'after', 'again', 'against', 'ain', 'all', 'am', 'an', 'and', 'any', 'are', 'aren', \"aren't\", 'as', 'at', 'be', 'because', 'been', 'before', 'being', 'below', 'between', 'both', 'but', 'by', 'can', 'couldn', \"couldn't\", 'd', 'did', 'didn', \"didn't\", 'do', 'does', 'doesn', \"doesn't\", 'doing', 'don', \"don't\", 'down', 'during', 'each', 'few', 'for', 'from', 'further', 'had', 'hadn', \"hadn't\", 'has', 'hasn', \"hasn't\", 'have', 'haven', \"haven't\", 'having', 'he', 'her', 'here', 'hers', 'herself', 'him', 'himself', 'his', 'how', 'i', 'if', 'in', 'into', 'is', 'isn', \"isn't\", 'it', \"it's\", 'its', 'itself', 'just', 'll', 'm', 'ma', 'me', 'mightn', \"mightn't\", 'more', 'most', 'mustn', \"mustn't\", 'my', 'myself', 'needn', \"needn't\", 'no', 'nor', 'not', 'now', 'o', 'of', 'off', 'on', 'once', 'only', 'or', 'other', 'our', 'ours', 'ourselves', 'out', 'over', 'own', 're', 's', 'same', 'shan', \"shan't\", 'she', \"she's\", 'should', \"should've\", 'shouldn', \"shouldn't\", 'so', 'some', 'such', 't', 'than', 'that', \"that'll\", 'the', 'their', 'theirs', 'them', 'themselves', 'then', 'there', 'these', 'they', 'this', 'those', 'through', 'to', 'too', 'under', 'until', 'up', 've', 'very', 'was', 'wasn', \"wasn't\", 'we', 'were', 'weren', \"weren't\", 'what', 'when', 'where', 'which', 'while', 'who', 'whom', 'why', 'will', 'with', 'won', \"won't\", 'wouldn', \"wouldn't\", 'y', 'you', \"you'd\", \"you'll\", \"you're\", \"you've\", 'your', 'yours', 'yourself', 'yourselves']\n"
     ]
    }
   ],
   "source": [
    "nltk_stopwords = stopwords.words('english')\n",
    "nltk_stopwords.sort()\n",
    "print(nltk_stopwords)"
   ]
  },
  {
   "cell_type": "code",
   "execution_count": 296,
   "metadata": {
    "ExecuteTime": {
     "end_time": "2021-06-17T02:25:42.348723Z",
     "start_time": "2021-06-17T02:25:42.252047Z"
    }
   },
   "outputs": [],
   "source": [
    "# my much-pared-down stopwords list for testing\n",
    "custom_stopwords = ['a',\n",
    "'an',\n",
    "'and',\n",
    "'am',\n",
    "'are',\n",
    "'as',\n",
    "'at',\n",
    "'be',\n",
    "'by',\n",
    "'for',\n",
    "'from',\n",
    "'if',\n",
    "'in',\n",
    "'is',                 \n",
    "'into',\n",
    "'it',\n",
    "\"it's\",\n",
    "'its',\n",
    "'itself',\n",
    "'of',\n",
    "'on',\n",
    "'or',\n",
    "'than',\n",
    "'that',\n",
    "'the',\n",
    "'to']"
   ]
  },
  {
   "cell_type": "code",
   "execution_count": 297,
   "metadata": {
    "ExecuteTime": {
     "end_time": "2021-06-17T02:25:43.428072Z",
     "start_time": "2021-06-17T02:25:43.335973Z"
    }
   },
   "outputs": [
    {
     "name": "stdout",
     "output_type": "stream",
     "text": [
      "['!', '\"', '#', '$', '%', '&', \"'\", '(', ')', '*', '+', ',', '-', '.', '/', ':', ';', '<', '=', '>', '?', '@', '[', '\\\\', ']', '^', '_', '`', '{', '|', '}', '~']\n",
      "['\"', '#', '$', '%', '&', \"'\", '(', ')', '*', '+', ',', '-', '.', '/', ':', ';', '<', '=', '>', '@', '[', '\\\\', ']', '^', '_', '`', '{', '|', '}', '~']\n"
     ]
    }
   ],
   "source": [
    "# create full and custom punctuation list. Custom excludes ! and ?\n",
    "punc = list(string.punctuation)\n",
    "punc_custom = punc.copy()\n",
    "punc_custom.remove('?')\n",
    "punc_custom.remove('!')\n",
    "\n",
    "print(punc)\n",
    "print(punc_custom)"
   ]
  },
  {
   "cell_type": "code",
   "execution_count": 87,
   "metadata": {
    "ExecuteTime": {
     "end_time": "2021-06-16T20:27:21.518302Z",
     "start_time": "2021-06-16T20:27:21.450023Z"
    },
    "scrolled": false
   },
   "outputs": [
    {
     "data": {
      "text/plain": [
       "['No emotion toward brand or product',\n",
       " 'Positive emotion',\n",
       " 'Negative emotion',\n",
       " \"I can't tell\"]"
      ]
     },
     "execution_count": 87,
     "metadata": {},
     "output_type": "execute_result"
    }
   ],
   "source": [
    "# create a list of all the emotions\n",
    "all_emotions = list(df['emotion'].value_counts().index)\n",
    "all_emotions"
   ]
  },
  {
   "cell_type": "code",
   "execution_count": 37,
   "metadata": {
    "ExecuteTime": {
     "end_time": "2021-06-16T20:01:31.674116Z",
     "start_time": "2021-06-16T20:01:30.728230Z"
    }
   },
   "outputs": [],
   "source": [
    "# running this outside the function to avoid re-instantiating it each time,\n",
    "# which takes longer\n",
    "nlp = spacy.load(\"en_core_web_sm\")"
   ]
  },
  {
   "cell_type": "code",
   "execution_count": 95,
   "metadata": {
    "ExecuteTime": {
     "end_time": "2021-06-16T20:30:47.756850Z",
     "start_time": "2021-06-16T20:30:47.640057Z"
    }
   },
   "outputs": [],
   "source": [
    "# create tweet tokenizer\n",
    "tweettokenizer = TweetTokenizer(preserve_case=False, strip_handles=True)"
   ]
  },
  {
   "cell_type": "code",
   "execution_count": 187,
   "metadata": {
    "ExecuteTime": {
     "end_time": "2021-06-16T23:37:27.174346Z",
     "start_time": "2021-06-16T23:37:26.982426Z"
    }
   },
   "outputs": [],
   "source": [
    "# reset index to make processing and concatenating easier\n",
    "df.reset_index(drop=False, inplace=True)"
   ]
  },
  {
   "cell_type": "code",
   "execution_count": 38,
   "metadata": {
    "ExecuteTime": {
     "end_time": "2021-06-16T20:01:31.945275Z",
     "start_time": "2021-06-16T20:01:31.880171Z"
    }
   },
   "outputs": [],
   "source": [
    "def spacy_tokenize(doc, stop_list=None, lemmatize=True, orig_pronouns=True):\n",
    "    \"\"\"\n",
    "    Tokenizes a string of text (document) with optional stop word removal\n",
    "    and lemmatization from SpaCy. Add punctuation to `stop_list` to remove it \n",
    "    too, otherwise it will be retained as separate words based on how SpaCy\n",
    "    parses it (some may remain attached to words).\n",
    "    \n",
    "    Always lowercases text.\n",
    "    \n",
    "    Returns a list of tokenized words, lowercased, lemmatized and with stopwords\n",
    "    removed as indicated.\n",
    "    \n",
    "    ******\n",
    "    Arguments:\n",
    "    ******\n",
    "    \n",
    "    doc: String representing a document to be tokenized.\n",
    "    \n",
    "    stop_list: List of stop words to remove, or `None` to not remove any words.\n",
    "    Add punctuation to this list to remove it.\n",
    "    \n",
    "    lemmatize: Boolean, default True. Set to False to use original versions of\n",
    "    words instead of lemmas.\n",
    "    \n",
    "    orig_pronouns: Boolean, default True. Only applicable if you are lemmatizing.\n",
    "    If True, use the original version of personal pronouns such as \"I\", \"you\", \n",
    "    \"your\" instead of the `-PRON-` placeholder that SpaCy adds to standardize \n",
    "    these. If False, include the `-PRON-` placeholder as the literal text token.\n",
    "    \"\"\"\n",
    "    \n",
    "    # use SpaCy to tokenize the doc\n",
    "    tokens = nlp(doc)\n",
    "    \n",
    "    new_tokens = []\n",
    "    \n",
    "    for token in tokens:\n",
    "        new_token = ''\n",
    "        \n",
    "        # determine appropriate version of token to use\n",
    "        if lemmatize:\n",
    "            \n",
    "            if token.lemma_ == '-PRON-':\n",
    "                if orig_pronouns:\n",
    "                    new_token = str.lower(token.text)\n",
    "                else:\n",
    "                    new_token = str.lower(token.lemma_)\n",
    "            else:\n",
    "                new_token = str.lower(token.lemma_)\n",
    "        else:\n",
    "            new_token = str.lower(token.text)\n",
    "        \n",
    "        # check token against stop word list, if using\n",
    "        if not stop_list == None:\n",
    "            if new_token not in stop_list:\n",
    "                new_tokens.append(new_token)\n",
    "            \n",
    "        else:\n",
    "            new_tokens.append(new_token)         \n",
    "\n",
    "    return new_tokens"
   ]
  },
  {
   "cell_type": "code",
   "execution_count": 68,
   "metadata": {
    "ExecuteTime": {
     "end_time": "2021-06-16T20:15:26.768331Z",
     "start_time": "2021-06-16T20:15:26.556319Z"
    }
   },
   "outputs": [],
   "source": [
    "def tokenize_corpus_dict_spacy(df, target_vals, stop_list, lemmatize, \n",
    "                          orig_pronouns, verbose=True):\n",
    "    \"\"\"\n",
    "    \"\"\"\n",
    "\n",
    "    # generate corpus for each emotion\n",
    "    corpus_per_target = {}\n",
    "\n",
    "    for val in target_vals:\n",
    "        \n",
    "        if verbose:\n",
    "            print(f\"Starting target val: {val}\")\n",
    "\n",
    "        # get series of text docs per target_val\n",
    "        docs = df.loc[df['emotion']==val, 'cleaned']\n",
    "\n",
    "        # loop through docs and tokenize each one\n",
    "        corpus = []\n",
    "\n",
    "        i = 0\n",
    "        for doc in docs:\n",
    "            tokens = spacy_tokenize(doc, stop_list=stop_list, \n",
    "                              lemmatize=lemmatize, orig_pronouns=True)\n",
    "            # remove words if they're just spaces!\n",
    "            tokens.remove(' ') if ' ' in tokens else None\n",
    "            \n",
    "            corpus.extend(tokens)\n",
    "            i += 1\n",
    "            \n",
    "            if verbose and (i % 1000 == 0):\n",
    "                print(f\"Processed {i} docs out of {len(docs)}...\")\n",
    "\n",
    "        # add corpus to dict\n",
    "        corpus_per_target[val] = corpus\n",
    "        \n",
    "    if verbose:\n",
    "        print(f\"Done!\")\n",
    "    return corpus_per_target\n"
   ]
  },
  {
   "cell_type": "code",
   "execution_count": 71,
   "metadata": {
    "ExecuteTime": {
     "end_time": "2021-06-16T20:20:15.621023Z",
     "start_time": "2021-06-16T20:20:15.557729Z"
    }
   },
   "outputs": [],
   "source": [
    "def tokenize_corpus_dict_tweet(df, target_vals, stop_list=None, verbose=True):\n",
    "    \"\"\"\n",
    "    \"\"\"\n",
    "\n",
    "    # generate corpus for each emotion\n",
    "    corpus_per_target = {}\n",
    "\n",
    "    for val in target_vals:\n",
    "        \n",
    "        if verbose:\n",
    "            print(f\"Starting target val: {val}\")\n",
    "\n",
    "        # get series of text docs per target_val\n",
    "        docs = df.loc[df['emotion']==val, 'cleaned']\n",
    "\n",
    "        # loop through docs and tokenize each one\n",
    "        corpus = []\n",
    "\n",
    "        i = 0\n",
    "        for doc in docs:\n",
    "            # tokenize using tweet tokenizer\n",
    "            tokens = tweettokenizer.tokenize(doc)\n",
    "            \n",
    "            # remove stop words if needed\n",
    "            if not stop_list == None:\n",
    "                tokens = [token for token in tokens if token not in stop_list]\n",
    "            \n",
    "            # remove words if they're just spaces!\n",
    "            tokens.remove(' ') if ' ' in tokens else None\n",
    "            \n",
    "            corpus.extend(tokens)\n",
    "            i += 1\n",
    "            \n",
    "            if verbose and (i % 1000 == 0):\n",
    "                print(f\"Processed {i} docs out of {len(docs)}...\")\n",
    "\n",
    "        # add corpus to dict\n",
    "        corpus_per_target[val] = corpus\n",
    "        \n",
    "    if verbose:\n",
    "        print(f\"Done!\")\n",
    "    return corpus_per_target\n"
   ]
  },
  {
   "cell_type": "code",
   "execution_count": 188,
   "metadata": {
    "ExecuteTime": {
     "end_time": "2021-06-16T23:38:58.102814Z",
     "start_time": "2021-06-16T23:38:56.641186Z"
    }
   },
   "outputs": [
    {
     "data": {
      "text/html": [
       "<div>\n",
       "<style scoped>\n",
       "    .dataframe tbody tr th:only-of-type {\n",
       "        vertical-align: middle;\n",
       "    }\n",
       "\n",
       "    .dataframe tbody tr th {\n",
       "        vertical-align: top;\n",
       "    }\n",
       "\n",
       "    .dataframe thead th {\n",
       "        text-align: right;\n",
       "    }\n",
       "</style>\n",
       "<table border=\"1\" class=\"dataframe\">\n",
       "  <thead>\n",
       "    <tr style=\"text-align: right;\">\n",
       "      <th></th>\n",
       "      <th>tweet_text</th>\n",
       "      <th>cleaned</th>\n",
       "    </tr>\n",
       "  </thead>\n",
       "  <tbody>\n",
       "    <tr>\n",
       "      <th>0</th>\n",
       "      <td>.@wesley83 I have a 3G iPhone. After 3 hrs tweeting at #RISE_Austin, it was dead!  I need to upgrade. Plugin stations at #SXSW.</td>\n",
       "      <td>.@wesley83 I have a 3G iPhone. After hrs tweeting at #RISE_Austin, it was dead! I need to upgrade. Plugin stations at #SXSW.</td>\n",
       "    </tr>\n",
       "    <tr>\n",
       "      <th>1</th>\n",
       "      <td>@jessedee Know about @fludapp ? Awesome iPad/iPhone app that you'll likely appreciate for its design. Also, they're giving free Ts at #SXSW</td>\n",
       "      <td>@jessedee Know about @fludapp ? Awesome iPad/iPhone app that you'll likely appreciate for its design. Also, they're giving free Ts at #SXSW</td>\n",
       "    </tr>\n",
       "    <tr>\n",
       "      <th>2</th>\n",
       "      <td>@swonderlin Can not wait for #iPad 2 also. They should sale them down at #SXSW.</td>\n",
       "      <td>@swonderlin Can not wait for #iPad also. They should sale them down at #SXSW.</td>\n",
       "    </tr>\n",
       "    <tr>\n",
       "      <th>3</th>\n",
       "      <td>@sxsw I hope this year's festival isn't as crashy as this year's iPhone app. #sxsw</td>\n",
       "      <td>@sxsw I hope this year's festival isn't as crashy as this year's iPhone app. #sxsw</td>\n",
       "    </tr>\n",
       "    <tr>\n",
       "      <th>4</th>\n",
       "      <td>@sxtxstate great stuff on Fri #SXSW: Marissa Mayer (Google), Tim O'Reilly (tech books/conferences) &amp;amp; Matt Mullenweg (Wordpress)</td>\n",
       "      <td>@sxtxstate great stuff on Fri #SXSW: Marissa Mayer (Google), Tim O'Reilly (tech books/conferences) &amp; Matt Mullenweg (Wordpress)</td>\n",
       "    </tr>\n",
       "    <tr>\n",
       "      <th>...</th>\n",
       "      <td>...</td>\n",
       "      <td>...</td>\n",
       "    </tr>\n",
       "    <tr>\n",
       "      <th>9087</th>\n",
       "      <td>Ipad everywhere. #SXSW {link}</td>\n",
       "      <td>Ipad everywhere. #SXSW {link}</td>\n",
       "    </tr>\n",
       "    <tr>\n",
       "      <th>9088</th>\n",
       "      <td>Wave, buzz... RT @mention We interrupt your regularly scheduled #sxsw geek programming with big news {link}  #google #circles</td>\n",
       "      <td>Wave, buzz... RT @mention We interrupt your regularly scheduled #sxsw geek programming with big news {link} #google #circles</td>\n",
       "    </tr>\n",
       "    <tr>\n",
       "      <th>9089</th>\n",
       "      <td>Google's Zeiger, a physician never reported potential AE. Yet FDA relies on physicians. &amp;quot;We're operating w/out data.&amp;quot; #sxsw #health2dev</td>\n",
       "      <td>Google's Zeiger, a physician never reported potential AE. Yet FDA relies on physicians. \"We're operating w/out data.\" #sxsw #health2dev</td>\n",
       "    </tr>\n",
       "    <tr>\n",
       "      <th>9090</th>\n",
       "      <td>Some Verizon iPhone customers complained their time fell back an hour this weekend.  Of course they were the New Yorkers who attended #SXSW.</td>\n",
       "      <td>Some Verizon iPhone customers complained their time fell back an hour this weekend. Of course they were the New Yorkers who attended #SXSW.</td>\n",
       "    </tr>\n",
       "    <tr>\n",
       "      <th>9091</th>\n",
       "      <td>Ï¡Ïàü_ÊÎÒ£Áââ_£â_ÛâRT @mention Google Tests ÛÏCheck-in OffersÛ At #SXSW {link}</td>\n",
       "      <td>_ _ _ RT @mention Google Tests Check-in Offers At #SXSW {link}</td>\n",
       "    </tr>\n",
       "  </tbody>\n",
       "</table>\n",
       "<p>9092 rows × 2 columns</p>\n",
       "</div>"
      ],
      "text/plain": [
       "                                                                                                                                             tweet_text  \\\n",
       "0                       .@wesley83 I have a 3G iPhone. After 3 hrs tweeting at #RISE_Austin, it was dead!  I need to upgrade. Plugin stations at #SXSW.   \n",
       "1           @jessedee Know about @fludapp ? Awesome iPad/iPhone app that you'll likely appreciate for its design. Also, they're giving free Ts at #SXSW   \n",
       "2                                                                       @swonderlin Can not wait for #iPad 2 also. They should sale them down at #SXSW.   \n",
       "3                                                                    @sxsw I hope this year's festival isn't as crashy as this year's iPhone app. #sxsw   \n",
       "4                   @sxtxstate great stuff on Fri #SXSW: Marissa Mayer (Google), Tim O'Reilly (tech books/conferences) &amp; Matt Mullenweg (Wordpress)   \n",
       "...                                                                                                                                                 ...   \n",
       "9087                                                                                                                      Ipad everywhere. #SXSW {link}   \n",
       "9088                      Wave, buzz... RT @mention We interrupt your regularly scheduled #sxsw geek programming with big news {link}  #google #circles   \n",
       "9089  Google's Zeiger, a physician never reported potential AE. Yet FDA relies on physicians. &quot;We're operating w/out data.&quot; #sxsw #health2dev   \n",
       "9090       Some Verizon iPhone customers complained their time fell back an hour this weekend.  Of course they were the New Yorkers who attended #SXSW.   \n",
       "9091                                           Ï¡Ïàü_ÊÎÒ£Áââ_£â_ÛâRT @mention Google Tests ÛÏCheck-in OffersÛ At #SXSW {link}   \n",
       "\n",
       "                                                                                                                                          cleaned  \n",
       "0                    .@wesley83 I have a 3G iPhone. After hrs tweeting at #RISE_Austin, it was dead! I need to upgrade. Plugin stations at #SXSW.  \n",
       "1     @jessedee Know about @fludapp ? Awesome iPad/iPhone app that you'll likely appreciate for its design. Also, they're giving free Ts at #SXSW  \n",
       "2                                                                   @swonderlin Can not wait for #iPad also. They should sale them down at #SXSW.  \n",
       "3                                                              @sxsw I hope this year's festival isn't as crashy as this year's iPhone app. #sxsw  \n",
       "4                 @sxtxstate great stuff on Fri #SXSW: Marissa Mayer (Google), Tim O'Reilly (tech books/conferences) & Matt Mullenweg (Wordpress)  \n",
       "...                                                                                                                                           ...  \n",
       "9087                                                                                                                Ipad everywhere. #SXSW {link}  \n",
       "9088                 Wave, buzz... RT @mention We interrupt your regularly scheduled #sxsw geek programming with big news {link} #google #circles  \n",
       "9089      Google's Zeiger, a physician never reported potential AE. Yet FDA relies on physicians. \"We're operating w/out data.\" #sxsw #health2dev  \n",
       "9090  Some Verizon iPhone customers complained their time fell back an hour this weekend. Of course they were the New Yorkers who attended #SXSW.  \n",
       "9091                                                                               _ _ _ RT @mention Google Tests Check-in Offers At #SXSW {link}  \n",
       "\n",
       "[9092 rows x 2 columns]"
      ]
     },
     "execution_count": 188,
     "metadata": {},
     "output_type": "execute_result"
    }
   ],
   "source": [
    "# remove numbers\n",
    "df = log_remove(df, 'cleaned', 'none', \n",
    "                pattern=r\"(?:^|\\s)([.:$%]*[0-9]+[.:$%]*[0-9]*)\\b\", \n",
    "                out_type='none')\n",
    "df[['tweet_text', 'cleaned']]"
   ]
  },
  {
   "cell_type": "code",
   "execution_count": 283,
   "metadata": {
    "ExecuteTime": {
     "end_time": "2021-06-17T02:17:20.802207Z",
     "start_time": "2021-06-17T02:17:17.734841Z"
    },
    "scrolled": false
   },
   "outputs": [],
   "source": [
    "# remove pared down stopwords list and most punctuation, don't lemmatize\n",
    "processed = tokenize_corpus_dict_tweet(df, all_emotions, \n",
    "                                stop_list=punc_custom + custom_stopwords, \n",
    "                                       verbose=False)"
   ]
  },
  {
   "cell_type": "code",
   "execution_count": 284,
   "metadata": {
    "ExecuteTime": {
     "end_time": "2021-06-17T02:17:21.564032Z",
     "start_time": "2021-06-17T02:17:21.452724Z"
    },
    "scrolled": false
   },
   "outputs": [
    {
     "data": {
      "text/plain": [
       "array(['@teachntech00 New iPad Apps For #SpeechTherapy And Communication Are Showcased At The #SXSW Conference {link} #iear #edchat #asd',\n",
       "       'Holler Gram for iPad on the iTunes App Store - {link} (via @marc_is_ken) #sxsw',\n",
       "       'Attn: All #SXSW frineds, @mention Register for #GDGTLive and see Cobra iRadar for Android. {link}',\n",
       "       'Anyone at #sxsw want to sell their old iPad?',\n",
       "       'Anyone at #SXSW who bought the new iPad want to sell their older iPad to me?'],\n",
       "      dtype=object)"
      ]
     },
     "execution_count": 284,
     "metadata": {},
     "output_type": "execute_result"
    }
   ],
   "source": [
    "df.loc[df['emotion']==\"No emotion toward brand or product\", 'cleaned'][:5].values"
   ]
  },
  {
   "cell_type": "code",
   "execution_count": 285,
   "metadata": {
    "ExecuteTime": {
     "end_time": "2021-06-17T02:17:23.112497Z",
     "start_time": "2021-06-17T02:17:22.998229Z"
    },
    "scrolled": false
   },
   "outputs": [
    {
     "name": "stdout",
     "output_type": "stream",
     "text": [
      "['new', 'ipad', 'apps', '#speechtherapy', 'communication', 'showcased', '#sxsw', 'conference', 'link', '#iear', '#edchat', '#asd', 'holler', 'gram', 'ipad', 'itunes', 'app', 'store', 'link', 'via', '#sxsw', 'attn', 'all', '#sxsw', 'frineds', 'register', '#gdgtlive', 'see', 'cobra', 'iradar', 'android', 'link', 'anyone', '#sxsw', 'want', 'sell', 'their', 'old', 'ipad', '?', 'anyone', '#sxsw', 'who', 'bought', 'new', 'ipad', 'want', 'sell', 'their', 'older', 'ipad', 'me', '?', '#sxsw', 'oooh', 'rt', 'google', 'launch', 'major', 'new', 'social', 'network', 'called', 'circles', 'possibly', 'today', 'link', 'spin', 'play', 'new', 'concept', 'music', 'discovery', 'your', 'ipad', 'spin.com', 'link', '#itunes', '#sxsw', 'vatornews', 'google', 'apple', 'force', 'print', 'media', 'evolve', '?', 'link', '#sxsw', 'hootsuite', 'hootsuite', 'mobile', '#sxsw', 'updates', 'iphone', 'blackberry', 'android', 'whether', 'you', 're']\n"
     ]
    }
   ],
   "source": [
    "print(processed[\"No emotion toward brand or product\"][:100])"
   ]
  },
  {
   "cell_type": "code",
   "execution_count": 286,
   "metadata": {
    "ExecuteTime": {
     "end_time": "2021-06-17T02:17:24.988874Z",
     "start_time": "2021-06-17T02:17:24.761766Z"
    },
    "scrolled": false
   },
   "outputs": [
    {
     "data": {
      "text/html": [
       "<div>\n",
       "<style scoped>\n",
       "    .dataframe tbody tr th:only-of-type {\n",
       "        vertical-align: middle;\n",
       "    }\n",
       "\n",
       "    .dataframe tbody tr th {\n",
       "        vertical-align: top;\n",
       "    }\n",
       "\n",
       "    .dataframe thead th {\n",
       "        text-align: right;\n",
       "    }\n",
       "</style>\n",
       "<table border=\"1\" class=\"dataframe\">\n",
       "  <thead>\n",
       "    <tr style=\"text-align: right;\">\n",
       "      <th></th>\n",
       "      <th>Word</th>\n",
       "      <th>Count</th>\n",
       "    </tr>\n",
       "  </thead>\n",
       "  <tbody>\n",
       "    <tr>\n",
       "      <th>0</th>\n",
       "      <td>#sxsw</td>\n",
       "      <td>2992</td>\n",
       "    </tr>\n",
       "    <tr>\n",
       "      <th>1</th>\n",
       "      <td>!</td>\n",
       "      <td>1244</td>\n",
       "    </tr>\n",
       "    <tr>\n",
       "      <th>2</th>\n",
       "      <td>link</td>\n",
       "      <td>1233</td>\n",
       "    </tr>\n",
       "    <tr>\n",
       "      <th>3</th>\n",
       "      <td>ipad</td>\n",
       "      <td>1013</td>\n",
       "    </tr>\n",
       "    <tr>\n",
       "      <th>4</th>\n",
       "      <td>rt</td>\n",
       "      <td>937</td>\n",
       "    </tr>\n",
       "    <tr>\n",
       "      <th>5</th>\n",
       "      <td>apple</td>\n",
       "      <td>713</td>\n",
       "    </tr>\n",
       "    <tr>\n",
       "      <th>6</th>\n",
       "      <td>google</td>\n",
       "      <td>605</td>\n",
       "    </tr>\n",
       "    <tr>\n",
       "      <th>7</th>\n",
       "      <td>store</td>\n",
       "      <td>543</td>\n",
       "    </tr>\n",
       "    <tr>\n",
       "      <th>8</th>\n",
       "      <td>iphone</td>\n",
       "      <td>466</td>\n",
       "    </tr>\n",
       "    <tr>\n",
       "      <th>9</th>\n",
       "      <td>i</td>\n",
       "      <td>442</td>\n",
       "    </tr>\n",
       "    <tr>\n",
       "      <th>10</th>\n",
       "      <td>app</td>\n",
       "      <td>388</td>\n",
       "    </tr>\n",
       "    <tr>\n",
       "      <th>11</th>\n",
       "      <td>new</td>\n",
       "      <td>359</td>\n",
       "    </tr>\n",
       "    <tr>\n",
       "      <th>12</th>\n",
       "      <td>?</td>\n",
       "      <td>340</td>\n",
       "    </tr>\n",
       "    <tr>\n",
       "      <th>13</th>\n",
       "      <td>up</td>\n",
       "      <td>307</td>\n",
       "    </tr>\n",
       "    <tr>\n",
       "      <th>14</th>\n",
       "      <td>my</td>\n",
       "      <td>304</td>\n",
       "    </tr>\n",
       "    <tr>\n",
       "      <th>15</th>\n",
       "      <td>you</td>\n",
       "      <td>302</td>\n",
       "    </tr>\n",
       "    <tr>\n",
       "      <th>16</th>\n",
       "      <td>with</td>\n",
       "      <td>296</td>\n",
       "    </tr>\n",
       "    <tr>\n",
       "      <th>17</th>\n",
       "      <td>austin</td>\n",
       "      <td>252</td>\n",
       "    </tr>\n",
       "    <tr>\n",
       "      <th>18</th>\n",
       "      <td>just</td>\n",
       "      <td>241</td>\n",
       "    </tr>\n",
       "    <tr>\n",
       "      <th>19</th>\n",
       "      <td>this</td>\n",
       "      <td>226</td>\n",
       "    </tr>\n",
       "    <tr>\n",
       "      <th>20</th>\n",
       "      <td>...</td>\n",
       "      <td>220</td>\n",
       "    </tr>\n",
       "    <tr>\n",
       "      <th>21</th>\n",
       "      <td>out</td>\n",
       "      <td>189</td>\n",
       "    </tr>\n",
       "    <tr>\n",
       "      <th>22</th>\n",
       "      <td>#apple</td>\n",
       "      <td>174</td>\n",
       "    </tr>\n",
       "    <tr>\n",
       "      <th>23</th>\n",
       "      <td>have</td>\n",
       "      <td>165</td>\n",
       "    </tr>\n",
       "    <tr>\n",
       "      <th>24</th>\n",
       "      <td>android</td>\n",
       "      <td>162</td>\n",
       "    </tr>\n",
       "    <tr>\n",
       "      <th>25</th>\n",
       "      <td>launch</td>\n",
       "      <td>159</td>\n",
       "    </tr>\n",
       "    <tr>\n",
       "      <th>26</th>\n",
       "      <td>get</td>\n",
       "      <td>158</td>\n",
       "    </tr>\n",
       "    <tr>\n",
       "      <th>27</th>\n",
       "      <td>pop-up</td>\n",
       "      <td>151</td>\n",
       "    </tr>\n",
       "    <tr>\n",
       "      <th>28</th>\n",
       "      <td>sxsw</td>\n",
       "      <td>147</td>\n",
       "    </tr>\n",
       "    <tr>\n",
       "      <th>29</th>\n",
       "      <td>your</td>\n",
       "      <td>146</td>\n",
       "    </tr>\n",
       "    <tr>\n",
       "      <th>30</th>\n",
       "      <td>so</td>\n",
       "      <td>145</td>\n",
       "    </tr>\n",
       "    <tr>\n",
       "      <th>31</th>\n",
       "      <td>now</td>\n",
       "      <td>142</td>\n",
       "    </tr>\n",
       "    <tr>\n",
       "      <th>32</th>\n",
       "      <td>great</td>\n",
       "      <td>136</td>\n",
       "    </tr>\n",
       "    <tr>\n",
       "      <th>33</th>\n",
       "      <td>not</td>\n",
       "      <td>133</td>\n",
       "    </tr>\n",
       "    <tr>\n",
       "      <th>34</th>\n",
       "      <td>party</td>\n",
       "      <td>133</td>\n",
       "    </tr>\n",
       "    <tr>\n",
       "      <th>35</th>\n",
       "      <td>via</td>\n",
       "      <td>132</td>\n",
       "    </tr>\n",
       "    <tr>\n",
       "      <th>36</th>\n",
       "      <td>line</td>\n",
       "      <td>132</td>\n",
       "    </tr>\n",
       "    <tr>\n",
       "      <th>37</th>\n",
       "      <td>#ipad2</td>\n",
       "      <td>129</td>\n",
       "    </tr>\n",
       "    <tr>\n",
       "      <th>38</th>\n",
       "      <td>time</td>\n",
       "      <td>128</td>\n",
       "    </tr>\n",
       "    <tr>\n",
       "      <th>39</th>\n",
       "      <td>they</td>\n",
       "      <td>124</td>\n",
       "    </tr>\n",
       "    <tr>\n",
       "      <th>40</th>\n",
       "      <td>social</td>\n",
       "      <td>122</td>\n",
       "    </tr>\n",
       "    <tr>\n",
       "      <th>41</th>\n",
       "      <td>about</td>\n",
       "      <td>121</td>\n",
       "    </tr>\n",
       "    <tr>\n",
       "      <th>42</th>\n",
       "      <td>free</td>\n",
       "      <td>120</td>\n",
       "    </tr>\n",
       "    <tr>\n",
       "      <th>43</th>\n",
       "      <td>cool</td>\n",
       "      <td>119</td>\n",
       "    </tr>\n",
       "    <tr>\n",
       "      <th>44</th>\n",
       "      <td>all</td>\n",
       "      <td>118</td>\n",
       "    </tr>\n",
       "    <tr>\n",
       "      <th>45</th>\n",
       "      <td>i'm</td>\n",
       "      <td>116</td>\n",
       "    </tr>\n",
       "    <tr>\n",
       "      <th>46</th>\n",
       "      <td>like</td>\n",
       "      <td>114</td>\n",
       "    </tr>\n",
       "    <tr>\n",
       "      <th>47</th>\n",
       "      <td>me</td>\n",
       "      <td>114</td>\n",
       "    </tr>\n",
       "    <tr>\n",
       "      <th>48</th>\n",
       "      <td>will</td>\n",
       "      <td>113</td>\n",
       "    </tr>\n",
       "    <tr>\n",
       "      <th>49</th>\n",
       "      <td>one</td>\n",
       "      <td>111</td>\n",
       "    </tr>\n",
       "  </tbody>\n",
       "</table>\n",
       "</div>"
      ],
      "text/plain": [
       "       Word  Count\n",
       "0     #sxsw   2992\n",
       "1         !   1244\n",
       "2      link   1233\n",
       "3      ipad   1013\n",
       "4        rt    937\n",
       "5     apple    713\n",
       "6    google    605\n",
       "7     store    543\n",
       "8    iphone    466\n",
       "9         i    442\n",
       "10      app    388\n",
       "11      new    359\n",
       "12        ?    340\n",
       "13       up    307\n",
       "14       my    304\n",
       "15      you    302\n",
       "16     with    296\n",
       "17   austin    252\n",
       "18     just    241\n",
       "19     this    226\n",
       "20      ...    220\n",
       "21      out    189\n",
       "22   #apple    174\n",
       "23     have    165\n",
       "24  android    162\n",
       "25   launch    159\n",
       "26      get    158\n",
       "27   pop-up    151\n",
       "28     sxsw    147\n",
       "29     your    146\n",
       "30       so    145\n",
       "31      now    142\n",
       "32    great    136\n",
       "33      not    133\n",
       "34    party    133\n",
       "35      via    132\n",
       "36     line    132\n",
       "37   #ipad2    129\n",
       "38     time    128\n",
       "39     they    124\n",
       "40   social    122\n",
       "41    about    121\n",
       "42     free    120\n",
       "43     cool    119\n",
       "44      all    118\n",
       "45      i'm    116\n",
       "46     like    114\n",
       "47       me    114\n",
       "48     will    113\n",
       "49      one    111"
      ]
     },
     "execution_count": 286,
     "metadata": {},
     "output_type": "execute_result"
    }
   ],
   "source": [
    "# check out most common words\n",
    "pos = FreqDist(processed['Positive emotion'])\n",
    "\n",
    "\n",
    "freq_df = pd.DataFrame(pos.most_common(50),columns=['Word','Count'])\n",
    "freq_df"
   ]
  },
  {
   "cell_type": "code",
   "execution_count": 288,
   "metadata": {
    "ExecuteTime": {
     "end_time": "2021-06-17T02:18:14.134395Z",
     "start_time": "2021-06-17T02:18:13.929195Z"
    }
   },
   "outputs": [
    {
     "data": {
      "text/html": [
       "<div>\n",
       "<style scoped>\n",
       "    .dataframe tbody tr th:only-of-type {\n",
       "        vertical-align: middle;\n",
       "    }\n",
       "\n",
       "    .dataframe tbody tr th {\n",
       "        vertical-align: top;\n",
       "    }\n",
       "\n",
       "    .dataframe thead th {\n",
       "        text-align: right;\n",
       "    }\n",
       "</style>\n",
       "<table border=\"1\" class=\"dataframe\">\n",
       "  <thead>\n",
       "    <tr style=\"text-align: right;\">\n",
       "      <th></th>\n",
       "      <th>Word</th>\n",
       "      <th>Count</th>\n",
       "    </tr>\n",
       "  </thead>\n",
       "  <tbody>\n",
       "    <tr>\n",
       "      <th>0</th>\n",
       "      <td>#sxsw</td>\n",
       "      <td>569</td>\n",
       "    </tr>\n",
       "    <tr>\n",
       "      <th>1</th>\n",
       "      <td>ipad</td>\n",
       "      <td>179</td>\n",
       "    </tr>\n",
       "    <tr>\n",
       "      <th>2</th>\n",
       "      <td>iphone</td>\n",
       "      <td>146</td>\n",
       "    </tr>\n",
       "    <tr>\n",
       "      <th>3</th>\n",
       "      <td>i</td>\n",
       "      <td>142</td>\n",
       "    </tr>\n",
       "    <tr>\n",
       "      <th>4</th>\n",
       "      <td>rt</td>\n",
       "      <td>138</td>\n",
       "    </tr>\n",
       "    <tr>\n",
       "      <th>5</th>\n",
       "      <td>google</td>\n",
       "      <td>136</td>\n",
       "    </tr>\n",
       "    <tr>\n",
       "      <th>6</th>\n",
       "      <td>?</td>\n",
       "      <td>119</td>\n",
       "    </tr>\n",
       "    <tr>\n",
       "      <th>7</th>\n",
       "      <td>link</td>\n",
       "      <td>102</td>\n",
       "    </tr>\n",
       "    <tr>\n",
       "      <th>8</th>\n",
       "      <td>my</td>\n",
       "      <td>102</td>\n",
       "    </tr>\n",
       "    <tr>\n",
       "      <th>9</th>\n",
       "      <td>apple</td>\n",
       "      <td>100</td>\n",
       "    </tr>\n",
       "    <tr>\n",
       "      <th>10</th>\n",
       "      <td>!</td>\n",
       "      <td>91</td>\n",
       "    </tr>\n",
       "    <tr>\n",
       "      <th>11</th>\n",
       "      <td>not</td>\n",
       "      <td>78</td>\n",
       "    </tr>\n",
       "    <tr>\n",
       "      <th>12</th>\n",
       "      <td>app</td>\n",
       "      <td>60</td>\n",
       "    </tr>\n",
       "    <tr>\n",
       "      <th>13</th>\n",
       "      <td>with</td>\n",
       "      <td>58</td>\n",
       "    </tr>\n",
       "    <tr>\n",
       "      <th>14</th>\n",
       "      <td>have</td>\n",
       "      <td>50</td>\n",
       "    </tr>\n",
       "    <tr>\n",
       "      <th>15</th>\n",
       "      <td>you</td>\n",
       "      <td>48</td>\n",
       "    </tr>\n",
       "    <tr>\n",
       "      <th>16</th>\n",
       "      <td>just</td>\n",
       "      <td>46</td>\n",
       "    </tr>\n",
       "    <tr>\n",
       "      <th>17</th>\n",
       "      <td>store</td>\n",
       "      <td>46</td>\n",
       "    </tr>\n",
       "    <tr>\n",
       "      <th>18</th>\n",
       "      <td>new</td>\n",
       "      <td>43</td>\n",
       "    </tr>\n",
       "    <tr>\n",
       "      <th>19</th>\n",
       "      <td>...</td>\n",
       "      <td>42</td>\n",
       "    </tr>\n",
       "    <tr>\n",
       "      <th>20</th>\n",
       "      <td>this</td>\n",
       "      <td>41</td>\n",
       "    </tr>\n",
       "    <tr>\n",
       "      <th>21</th>\n",
       "      <td>no</td>\n",
       "      <td>40</td>\n",
       "    </tr>\n",
       "    <tr>\n",
       "      <th>22</th>\n",
       "      <td>like</td>\n",
       "      <td>39</td>\n",
       "    </tr>\n",
       "    <tr>\n",
       "      <th>23</th>\n",
       "      <td>will</td>\n",
       "      <td>38</td>\n",
       "    </tr>\n",
       "    <tr>\n",
       "      <th>24</th>\n",
       "      <td>but</td>\n",
       "      <td>38</td>\n",
       "    </tr>\n",
       "    <tr>\n",
       "      <th>25</th>\n",
       "      <td>so</td>\n",
       "      <td>35</td>\n",
       "    </tr>\n",
       "    <tr>\n",
       "      <th>26</th>\n",
       "      <td>up</td>\n",
       "      <td>33</td>\n",
       "    </tr>\n",
       "    <tr>\n",
       "      <th>27</th>\n",
       "      <td>me</td>\n",
       "      <td>32</td>\n",
       "    </tr>\n",
       "    <tr>\n",
       "      <th>28</th>\n",
       "      <td>design</td>\n",
       "      <td>29</td>\n",
       "    </tr>\n",
       "    <tr>\n",
       "      <th>29</th>\n",
       "      <td>people</td>\n",
       "      <td>29</td>\n",
       "    </tr>\n",
       "    <tr>\n",
       "      <th>30</th>\n",
       "      <td>out</td>\n",
       "      <td>29</td>\n",
       "    </tr>\n",
       "    <tr>\n",
       "      <th>31</th>\n",
       "      <td>your</td>\n",
       "      <td>29</td>\n",
       "    </tr>\n",
       "    <tr>\n",
       "      <th>32</th>\n",
       "      <td>has</td>\n",
       "      <td>28</td>\n",
       "    </tr>\n",
       "    <tr>\n",
       "      <th>33</th>\n",
       "      <td>social</td>\n",
       "      <td>28</td>\n",
       "    </tr>\n",
       "    <tr>\n",
       "      <th>34</th>\n",
       "      <td>about</td>\n",
       "      <td>27</td>\n",
       "    </tr>\n",
       "    <tr>\n",
       "      <th>35</th>\n",
       "      <td>all</td>\n",
       "      <td>27</td>\n",
       "    </tr>\n",
       "    <tr>\n",
       "      <th>36</th>\n",
       "      <td>circles</td>\n",
       "      <td>26</td>\n",
       "    </tr>\n",
       "    <tr>\n",
       "      <th>37</th>\n",
       "      <td>apps</td>\n",
       "      <td>26</td>\n",
       "    </tr>\n",
       "    <tr>\n",
       "      <th>38</th>\n",
       "      <td>need</td>\n",
       "      <td>25</td>\n",
       "    </tr>\n",
       "    <tr>\n",
       "      <th>39</th>\n",
       "      <td>why</td>\n",
       "      <td>25</td>\n",
       "    </tr>\n",
       "    <tr>\n",
       "      <th>40</th>\n",
       "      <td>was</td>\n",
       "      <td>24</td>\n",
       "    </tr>\n",
       "    <tr>\n",
       "      <th>41</th>\n",
       "      <td>get</td>\n",
       "      <td>24</td>\n",
       "    </tr>\n",
       "    <tr>\n",
       "      <th>42</th>\n",
       "      <td>austin</td>\n",
       "      <td>23</td>\n",
       "    </tr>\n",
       "    <tr>\n",
       "      <th>43</th>\n",
       "      <td>there</td>\n",
       "      <td>23</td>\n",
       "    </tr>\n",
       "    <tr>\n",
       "      <th>44</th>\n",
       "      <td>now</td>\n",
       "      <td>22</td>\n",
       "    </tr>\n",
       "    <tr>\n",
       "      <th>45</th>\n",
       "      <td>launch</td>\n",
       "      <td>22</td>\n",
       "    </tr>\n",
       "    <tr>\n",
       "      <th>46</th>\n",
       "      <td>because</td>\n",
       "      <td>22</td>\n",
       "    </tr>\n",
       "    <tr>\n",
       "      <th>47</th>\n",
       "      <td>too</td>\n",
       "      <td>22</td>\n",
       "    </tr>\n",
       "    <tr>\n",
       "      <th>48</th>\n",
       "      <td>one</td>\n",
       "      <td>22</td>\n",
       "    </tr>\n",
       "    <tr>\n",
       "      <th>49</th>\n",
       "      <td>how</td>\n",
       "      <td>21</td>\n",
       "    </tr>\n",
       "  </tbody>\n",
       "</table>\n",
       "</div>"
      ],
      "text/plain": [
       "       Word  Count\n",
       "0     #sxsw    569\n",
       "1      ipad    179\n",
       "2    iphone    146\n",
       "3         i    142\n",
       "4        rt    138\n",
       "5    google    136\n",
       "6         ?    119\n",
       "7      link    102\n",
       "8        my    102\n",
       "9     apple    100\n",
       "10        !     91\n",
       "11      not     78\n",
       "12      app     60\n",
       "13     with     58\n",
       "14     have     50\n",
       "15      you     48\n",
       "16     just     46\n",
       "17    store     46\n",
       "18      new     43\n",
       "19      ...     42\n",
       "20     this     41\n",
       "21       no     40\n",
       "22     like     39\n",
       "23     will     38\n",
       "24      but     38\n",
       "25       so     35\n",
       "26       up     33\n",
       "27       me     32\n",
       "28   design     29\n",
       "29   people     29\n",
       "30      out     29\n",
       "31     your     29\n",
       "32      has     28\n",
       "33   social     28\n",
       "34    about     27\n",
       "35      all     27\n",
       "36  circles     26\n",
       "37     apps     26\n",
       "38     need     25\n",
       "39      why     25\n",
       "40      was     24\n",
       "41      get     24\n",
       "42   austin     23\n",
       "43    there     23\n",
       "44      now     22\n",
       "45   launch     22\n",
       "46  because     22\n",
       "47      too     22\n",
       "48      one     22\n",
       "49      how     21"
      ]
     },
     "execution_count": 288,
     "metadata": {},
     "output_type": "execute_result"
    }
   ],
   "source": [
    "# check out most common words for negative\n",
    "neg = FreqDist(processed['Negative emotion'])\n",
    "\n",
    "\n",
    "freq_df = pd.DataFrame(neg.most_common(50),columns=['Word','Count'])\n",
    "freq_df"
   ]
  },
  {
   "cell_type": "markdown",
   "metadata": {},
   "source": [
    "In this minimally processed, tokenized corpus, I expect to still see stop words, ? and !, but definitely looking for other words or symbols that stand out, which I want to add to the stop words list.\n",
    "\n",
    "I do see `...`, which I think I'll leave in because it might be an indicator of emotion.\n",
    "\n",
    "The place name `austin` and the hashtag and word `sxsw` all stand out, since I think these tweets were taken from a set where the SXSW festival in Austin was tagged."
   ]
  },
  {
   "cell_type": "code",
   "execution_count": 298,
   "metadata": {
    "ExecuteTime": {
     "end_time": "2021-06-17T02:26:08.561482Z",
     "start_time": "2021-06-17T02:26:08.386972Z"
    }
   },
   "outputs": [
    {
     "name": "stdout",
     "output_type": "stream",
     "text": [
      "['a', 'an', 'and', 'am', 'are', 'as', 'at', 'be', 'by', 'for', 'from', 'if', 'in', 'is', 'into', 'it', \"it's\", 'its', 'itself', 'of', 'on', 'or', 'than', 'that', 'the', 'to', 'austin', 'sxsw', '#sxsw']\n"
     ]
    }
   ],
   "source": [
    "# extend custom stopwords list to include information about the event,\n",
    "# which will likely be in common across all tweets\n",
    "nltk_stopwords.extend(['austin', 'sxsw', '#sxsw'])\n",
    "custom_stopwords.extend(['austin', 'sxsw', '#sxsw'])\n",
    "print(custom_stopwords)"
   ]
  },
  {
   "cell_type": "code",
   "execution_count": 291,
   "metadata": {
    "ExecuteTime": {
     "end_time": "2021-06-17T02:20:20.701446Z",
     "start_time": "2021-06-17T02:20:18.012554Z"
    },
    "scrolled": true
   },
   "outputs": [],
   "source": [
    "# remove extended stop words to see what's left\n",
    "processed = tokenize_corpus_dict_tweet(df, all_emotions, \n",
    "                                stop_list=punc_custom + nltk_stopwords,\n",
    "                                      verbose=False)"
   ]
  },
  {
   "cell_type": "code",
   "execution_count": 292,
   "metadata": {
    "ExecuteTime": {
     "end_time": "2021-06-17T02:20:24.014865Z",
     "start_time": "2021-06-17T02:20:23.794286Z"
    },
    "scrolled": false
   },
   "outputs": [
    {
     "data": {
      "text/html": [
       "<div>\n",
       "<style scoped>\n",
       "    .dataframe tbody tr th:only-of-type {\n",
       "        vertical-align: middle;\n",
       "    }\n",
       "\n",
       "    .dataframe tbody tr th {\n",
       "        vertical-align: top;\n",
       "    }\n",
       "\n",
       "    .dataframe thead th {\n",
       "        text-align: right;\n",
       "    }\n",
       "</style>\n",
       "<table border=\"1\" class=\"dataframe\">\n",
       "  <thead>\n",
       "    <tr style=\"text-align: right;\">\n",
       "      <th></th>\n",
       "      <th>Word</th>\n",
       "      <th>Count</th>\n",
       "    </tr>\n",
       "  </thead>\n",
       "  <tbody>\n",
       "    <tr>\n",
       "      <th>0</th>\n",
       "      <td>!</td>\n",
       "      <td>1244</td>\n",
       "    </tr>\n",
       "    <tr>\n",
       "      <th>1</th>\n",
       "      <td>link</td>\n",
       "      <td>1233</td>\n",
       "    </tr>\n",
       "    <tr>\n",
       "      <th>2</th>\n",
       "      <td>ipad</td>\n",
       "      <td>1013</td>\n",
       "    </tr>\n",
       "    <tr>\n",
       "      <th>3</th>\n",
       "      <td>rt</td>\n",
       "      <td>937</td>\n",
       "    </tr>\n",
       "    <tr>\n",
       "      <th>4</th>\n",
       "      <td>apple</td>\n",
       "      <td>713</td>\n",
       "    </tr>\n",
       "    <tr>\n",
       "      <th>5</th>\n",
       "      <td>google</td>\n",
       "      <td>605</td>\n",
       "    </tr>\n",
       "    <tr>\n",
       "      <th>6</th>\n",
       "      <td>store</td>\n",
       "      <td>543</td>\n",
       "    </tr>\n",
       "    <tr>\n",
       "      <th>7</th>\n",
       "      <td>iphone</td>\n",
       "      <td>466</td>\n",
       "    </tr>\n",
       "    <tr>\n",
       "      <th>8</th>\n",
       "      <td>app</td>\n",
       "      <td>388</td>\n",
       "    </tr>\n",
       "    <tr>\n",
       "      <th>9</th>\n",
       "      <td>new</td>\n",
       "      <td>359</td>\n",
       "    </tr>\n",
       "    <tr>\n",
       "      <th>10</th>\n",
       "      <td>?</td>\n",
       "      <td>340</td>\n",
       "    </tr>\n",
       "    <tr>\n",
       "      <th>11</th>\n",
       "      <td>...</td>\n",
       "      <td>220</td>\n",
       "    </tr>\n",
       "    <tr>\n",
       "      <th>12</th>\n",
       "      <td>#apple</td>\n",
       "      <td>174</td>\n",
       "    </tr>\n",
       "    <tr>\n",
       "      <th>13</th>\n",
       "      <td>android</td>\n",
       "      <td>162</td>\n",
       "    </tr>\n",
       "    <tr>\n",
       "      <th>14</th>\n",
       "      <td>launch</td>\n",
       "      <td>159</td>\n",
       "    </tr>\n",
       "    <tr>\n",
       "      <th>15</th>\n",
       "      <td>get</td>\n",
       "      <td>158</td>\n",
       "    </tr>\n",
       "    <tr>\n",
       "      <th>16</th>\n",
       "      <td>pop-up</td>\n",
       "      <td>151</td>\n",
       "    </tr>\n",
       "    <tr>\n",
       "      <th>17</th>\n",
       "      <td>great</td>\n",
       "      <td>136</td>\n",
       "    </tr>\n",
       "    <tr>\n",
       "      <th>18</th>\n",
       "      <td>party</td>\n",
       "      <td>133</td>\n",
       "    </tr>\n",
       "    <tr>\n",
       "      <th>19</th>\n",
       "      <td>via</td>\n",
       "      <td>132</td>\n",
       "    </tr>\n",
       "    <tr>\n",
       "      <th>20</th>\n",
       "      <td>line</td>\n",
       "      <td>132</td>\n",
       "    </tr>\n",
       "    <tr>\n",
       "      <th>21</th>\n",
       "      <td>#ipad2</td>\n",
       "      <td>129</td>\n",
       "    </tr>\n",
       "    <tr>\n",
       "      <th>22</th>\n",
       "      <td>time</td>\n",
       "      <td>128</td>\n",
       "    </tr>\n",
       "    <tr>\n",
       "      <th>23</th>\n",
       "      <td>social</td>\n",
       "      <td>122</td>\n",
       "    </tr>\n",
       "    <tr>\n",
       "      <th>24</th>\n",
       "      <td>free</td>\n",
       "      <td>120</td>\n",
       "    </tr>\n",
       "    <tr>\n",
       "      <th>25</th>\n",
       "      <td>cool</td>\n",
       "      <td>119</td>\n",
       "    </tr>\n",
       "    <tr>\n",
       "      <th>26</th>\n",
       "      <td>i'm</td>\n",
       "      <td>116</td>\n",
       "    </tr>\n",
       "    <tr>\n",
       "      <th>27</th>\n",
       "      <td>like</td>\n",
       "      <td>114</td>\n",
       "    </tr>\n",
       "    <tr>\n",
       "      <th>28</th>\n",
       "      <td>one</td>\n",
       "      <td>111</td>\n",
       "    </tr>\n",
       "    <tr>\n",
       "      <th>29</th>\n",
       "      <td>today</td>\n",
       "      <td>111</td>\n",
       "    </tr>\n",
       "    <tr>\n",
       "      <th>30</th>\n",
       "      <td>day</td>\n",
       "      <td>109</td>\n",
       "    </tr>\n",
       "    <tr>\n",
       "      <th>31</th>\n",
       "      <td>circles</td>\n",
       "      <td>105</td>\n",
       "    </tr>\n",
       "    <tr>\n",
       "      <th>32</th>\n",
       "      <td>w</td>\n",
       "      <td>104</td>\n",
       "    </tr>\n",
       "    <tr>\n",
       "      <th>33</th>\n",
       "      <td>maps</td>\n",
       "      <td>103</td>\n",
       "    </tr>\n",
       "    <tr>\n",
       "      <th>34</th>\n",
       "      <td>#sxswi</td>\n",
       "      <td>96</td>\n",
       "    </tr>\n",
       "    <tr>\n",
       "      <th>35</th>\n",
       "      <td>awesome</td>\n",
       "      <td>94</td>\n",
       "    </tr>\n",
       "    <tr>\n",
       "      <th>36</th>\n",
       "      <td>#ipad</td>\n",
       "      <td>93</td>\n",
       "    </tr>\n",
       "    <tr>\n",
       "      <th>37</th>\n",
       "      <td>good</td>\n",
       "      <td>93</td>\n",
       "    </tr>\n",
       "    <tr>\n",
       "      <th>38</th>\n",
       "      <td>love</td>\n",
       "      <td>92</td>\n",
       "    </tr>\n",
       "    <tr>\n",
       "      <th>39</th>\n",
       "      <td>mobile</td>\n",
       "      <td>92</td>\n",
       "    </tr>\n",
       "    <tr>\n",
       "      <th>40</th>\n",
       "      <td>go</td>\n",
       "      <td>92</td>\n",
       "    </tr>\n",
       "    <tr>\n",
       "      <th>41</th>\n",
       "      <td>temporary</td>\n",
       "      <td>89</td>\n",
       "    </tr>\n",
       "    <tr>\n",
       "      <th>42</th>\n",
       "      <td>2</td>\n",
       "      <td>88</td>\n",
       "    </tr>\n",
       "    <tr>\n",
       "      <th>43</th>\n",
       "      <td>downtown</td>\n",
       "      <td>88</td>\n",
       "    </tr>\n",
       "    <tr>\n",
       "      <th>44</th>\n",
       "      <td>opening</td>\n",
       "      <td>88</td>\n",
       "    </tr>\n",
       "    <tr>\n",
       "      <th>45</th>\n",
       "      <td>network</td>\n",
       "      <td>88</td>\n",
       "    </tr>\n",
       "    <tr>\n",
       "      <th>46</th>\n",
       "      <td>people</td>\n",
       "      <td>82</td>\n",
       "    </tr>\n",
       "    <tr>\n",
       "      <th>47</th>\n",
       "      <td>#iphone</td>\n",
       "      <td>82</td>\n",
       "    </tr>\n",
       "    <tr>\n",
       "      <th>48</th>\n",
       "      <td>got</td>\n",
       "      <td>81</td>\n",
       "    </tr>\n",
       "    <tr>\n",
       "      <th>49</th>\n",
       "      <td>apps</td>\n",
       "      <td>78</td>\n",
       "    </tr>\n",
       "  </tbody>\n",
       "</table>\n",
       "</div>"
      ],
      "text/plain": [
       "         Word  Count\n",
       "0           !   1244\n",
       "1        link   1233\n",
       "2        ipad   1013\n",
       "3          rt    937\n",
       "4       apple    713\n",
       "5      google    605\n",
       "6       store    543\n",
       "7      iphone    466\n",
       "8         app    388\n",
       "9         new    359\n",
       "10          ?    340\n",
       "11        ...    220\n",
       "12     #apple    174\n",
       "13    android    162\n",
       "14     launch    159\n",
       "15        get    158\n",
       "16     pop-up    151\n",
       "17      great    136\n",
       "18      party    133\n",
       "19        via    132\n",
       "20       line    132\n",
       "21     #ipad2    129\n",
       "22       time    128\n",
       "23     social    122\n",
       "24       free    120\n",
       "25       cool    119\n",
       "26        i'm    116\n",
       "27       like    114\n",
       "28        one    111\n",
       "29      today    111\n",
       "30        day    109\n",
       "31    circles    105\n",
       "32          w    104\n",
       "33       maps    103\n",
       "34     #sxswi     96\n",
       "35    awesome     94\n",
       "36      #ipad     93\n",
       "37       good     93\n",
       "38       love     92\n",
       "39     mobile     92\n",
       "40         go     92\n",
       "41  temporary     89\n",
       "42          2     88\n",
       "43   downtown     88\n",
       "44    opening     88\n",
       "45    network     88\n",
       "46     people     82\n",
       "47    #iphone     82\n",
       "48        got     81\n",
       "49       apps     78"
      ]
     },
     "execution_count": 292,
     "metadata": {},
     "output_type": "execute_result"
    }
   ],
   "source": [
    "# check out most common words\n",
    "pos = FreqDist(processed['Positive emotion'])\n",
    "\n",
    "\n",
    "freq_df = pd.DataFrame(pos.most_common(50),columns=['Word','Count'])\n",
    "freq_df"
   ]
  },
  {
   "cell_type": "code",
   "execution_count": 293,
   "metadata": {
    "ExecuteTime": {
     "end_time": "2021-06-17T02:20:33.636700Z",
     "start_time": "2021-06-17T02:20:33.451627Z"
    },
    "scrolled": false
   },
   "outputs": [
    {
     "data": {
      "text/html": [
       "<div>\n",
       "<style scoped>\n",
       "    .dataframe tbody tr th:only-of-type {\n",
       "        vertical-align: middle;\n",
       "    }\n",
       "\n",
       "    .dataframe tbody tr th {\n",
       "        vertical-align: top;\n",
       "    }\n",
       "\n",
       "    .dataframe thead th {\n",
       "        text-align: right;\n",
       "    }\n",
       "</style>\n",
       "<table border=\"1\" class=\"dataframe\">\n",
       "  <thead>\n",
       "    <tr style=\"text-align: right;\">\n",
       "      <th></th>\n",
       "      <th>Word</th>\n",
       "      <th>Count</th>\n",
       "    </tr>\n",
       "  </thead>\n",
       "  <tbody>\n",
       "    <tr>\n",
       "      <th>0</th>\n",
       "      <td>ipad</td>\n",
       "      <td>179</td>\n",
       "    </tr>\n",
       "    <tr>\n",
       "      <th>1</th>\n",
       "      <td>iphone</td>\n",
       "      <td>146</td>\n",
       "    </tr>\n",
       "    <tr>\n",
       "      <th>2</th>\n",
       "      <td>rt</td>\n",
       "      <td>138</td>\n",
       "    </tr>\n",
       "    <tr>\n",
       "      <th>3</th>\n",
       "      <td>google</td>\n",
       "      <td>136</td>\n",
       "    </tr>\n",
       "    <tr>\n",
       "      <th>4</th>\n",
       "      <td>?</td>\n",
       "      <td>119</td>\n",
       "    </tr>\n",
       "    <tr>\n",
       "      <th>5</th>\n",
       "      <td>link</td>\n",
       "      <td>102</td>\n",
       "    </tr>\n",
       "    <tr>\n",
       "      <th>6</th>\n",
       "      <td>apple</td>\n",
       "      <td>100</td>\n",
       "    </tr>\n",
       "    <tr>\n",
       "      <th>7</th>\n",
       "      <td>!</td>\n",
       "      <td>91</td>\n",
       "    </tr>\n",
       "    <tr>\n",
       "      <th>8</th>\n",
       "      <td>app</td>\n",
       "      <td>60</td>\n",
       "    </tr>\n",
       "    <tr>\n",
       "      <th>9</th>\n",
       "      <td>store</td>\n",
       "      <td>46</td>\n",
       "    </tr>\n",
       "    <tr>\n",
       "      <th>10</th>\n",
       "      <td>new</td>\n",
       "      <td>43</td>\n",
       "    </tr>\n",
       "    <tr>\n",
       "      <th>11</th>\n",
       "      <td>...</td>\n",
       "      <td>42</td>\n",
       "    </tr>\n",
       "    <tr>\n",
       "      <th>12</th>\n",
       "      <td>like</td>\n",
       "      <td>39</td>\n",
       "    </tr>\n",
       "    <tr>\n",
       "      <th>13</th>\n",
       "      <td>design</td>\n",
       "      <td>29</td>\n",
       "    </tr>\n",
       "    <tr>\n",
       "      <th>14</th>\n",
       "      <td>people</td>\n",
       "      <td>29</td>\n",
       "    </tr>\n",
       "    <tr>\n",
       "      <th>15</th>\n",
       "      <td>social</td>\n",
       "      <td>28</td>\n",
       "    </tr>\n",
       "    <tr>\n",
       "      <th>16</th>\n",
       "      <td>circles</td>\n",
       "      <td>26</td>\n",
       "    </tr>\n",
       "    <tr>\n",
       "      <th>17</th>\n",
       "      <td>apps</td>\n",
       "      <td>26</td>\n",
       "    </tr>\n",
       "    <tr>\n",
       "      <th>18</th>\n",
       "      <td>need</td>\n",
       "      <td>25</td>\n",
       "    </tr>\n",
       "    <tr>\n",
       "      <th>19</th>\n",
       "      <td>get</td>\n",
       "      <td>24</td>\n",
       "    </tr>\n",
       "    <tr>\n",
       "      <th>20</th>\n",
       "      <td>launch</td>\n",
       "      <td>22</td>\n",
       "    </tr>\n",
       "    <tr>\n",
       "      <th>21</th>\n",
       "      <td>one</td>\n",
       "      <td>22</td>\n",
       "    </tr>\n",
       "    <tr>\n",
       "      <th>22</th>\n",
       "      <td>today</td>\n",
       "      <td>21</td>\n",
       "    </tr>\n",
       "    <tr>\n",
       "      <th>23</th>\n",
       "      <td>android</td>\n",
       "      <td>19</td>\n",
       "    </tr>\n",
       "    <tr>\n",
       "      <th>24</th>\n",
       "      <td>#ipad</td>\n",
       "      <td>19</td>\n",
       "    </tr>\n",
       "    <tr>\n",
       "      <th>25</th>\n",
       "      <td>would</td>\n",
       "      <td>19</td>\n",
       "    </tr>\n",
       "    <tr>\n",
       "      <th>26</th>\n",
       "      <td>time</td>\n",
       "      <td>18</td>\n",
       "    </tr>\n",
       "    <tr>\n",
       "      <th>27</th>\n",
       "      <td>think</td>\n",
       "      <td>18</td>\n",
       "    </tr>\n",
       "    <tr>\n",
       "      <th>28</th>\n",
       "      <td>headaches</td>\n",
       "      <td>17</td>\n",
       "    </tr>\n",
       "    <tr>\n",
       "      <th>29</th>\n",
       "      <td>news</td>\n",
       "      <td>17</td>\n",
       "    </tr>\n",
       "    <tr>\n",
       "      <th>30</th>\n",
       "      <td>go</td>\n",
       "      <td>17</td>\n",
       "    </tr>\n",
       "    <tr>\n",
       "      <th>31</th>\n",
       "      <td>long</td>\n",
       "      <td>17</td>\n",
       "    </tr>\n",
       "    <tr>\n",
       "      <th>32</th>\n",
       "      <td>line</td>\n",
       "      <td>16</td>\n",
       "    </tr>\n",
       "    <tr>\n",
       "      <th>33</th>\n",
       "      <td>says</td>\n",
       "      <td>16</td>\n",
       "    </tr>\n",
       "    <tr>\n",
       "      <th>34</th>\n",
       "      <td>i've</td>\n",
       "      <td>16</td>\n",
       "    </tr>\n",
       "    <tr>\n",
       "      <th>35</th>\n",
       "      <td>i'm</td>\n",
       "      <td>16</td>\n",
       "    </tr>\n",
       "    <tr>\n",
       "      <th>36</th>\n",
       "      <td>day</td>\n",
       "      <td>16</td>\n",
       "    </tr>\n",
       "    <tr>\n",
       "      <th>37</th>\n",
       "      <td>network</td>\n",
       "      <td>16</td>\n",
       "    </tr>\n",
       "    <tr>\n",
       "      <th>38</th>\n",
       "      <td>users</td>\n",
       "      <td>15</td>\n",
       "    </tr>\n",
       "    <tr>\n",
       "      <th>39</th>\n",
       "      <td>battery</td>\n",
       "      <td>15</td>\n",
       "    </tr>\n",
       "    <tr>\n",
       "      <th>40</th>\n",
       "      <td>#apple</td>\n",
       "      <td>15</td>\n",
       "    </tr>\n",
       "    <tr>\n",
       "      <th>41</th>\n",
       "      <td>good</td>\n",
       "      <td>15</td>\n",
       "    </tr>\n",
       "    <tr>\n",
       "      <th>42</th>\n",
       "      <td>see</td>\n",
       "      <td>15</td>\n",
       "    </tr>\n",
       "    <tr>\n",
       "      <th>43</th>\n",
       "      <td>much</td>\n",
       "      <td>15</td>\n",
       "    </tr>\n",
       "    <tr>\n",
       "      <th>44</th>\n",
       "      <td>america</td>\n",
       "      <td>15</td>\n",
       "    </tr>\n",
       "    <tr>\n",
       "      <th>45</th>\n",
       "      <td>money</td>\n",
       "      <td>14</td>\n",
       "    </tr>\n",
       "    <tr>\n",
       "      <th>46</th>\n",
       "      <td>major</td>\n",
       "      <td>14</td>\n",
       "    </tr>\n",
       "    <tr>\n",
       "      <th>47</th>\n",
       "      <td>really</td>\n",
       "      <td>14</td>\n",
       "    </tr>\n",
       "    <tr>\n",
       "      <th>48</th>\n",
       "      <td>via</td>\n",
       "      <td>14</td>\n",
       "    </tr>\n",
       "    <tr>\n",
       "      <th>49</th>\n",
       "      <td>fascist</td>\n",
       "      <td>14</td>\n",
       "    </tr>\n",
       "  </tbody>\n",
       "</table>\n",
       "</div>"
      ],
      "text/plain": [
       "         Word  Count\n",
       "0        ipad    179\n",
       "1      iphone    146\n",
       "2          rt    138\n",
       "3      google    136\n",
       "4           ?    119\n",
       "5        link    102\n",
       "6       apple    100\n",
       "7           !     91\n",
       "8         app     60\n",
       "9       store     46\n",
       "10        new     43\n",
       "11        ...     42\n",
       "12       like     39\n",
       "13     design     29\n",
       "14     people     29\n",
       "15     social     28\n",
       "16    circles     26\n",
       "17       apps     26\n",
       "18       need     25\n",
       "19        get     24\n",
       "20     launch     22\n",
       "21        one     22\n",
       "22      today     21\n",
       "23    android     19\n",
       "24      #ipad     19\n",
       "25      would     19\n",
       "26       time     18\n",
       "27      think     18\n",
       "28  headaches     17\n",
       "29       news     17\n",
       "30         go     17\n",
       "31       long     17\n",
       "32       line     16\n",
       "33       says     16\n",
       "34       i've     16\n",
       "35        i'm     16\n",
       "36        day     16\n",
       "37    network     16\n",
       "38      users     15\n",
       "39    battery     15\n",
       "40     #apple     15\n",
       "41       good     15\n",
       "42        see     15\n",
       "43       much     15\n",
       "44    america     15\n",
       "45      money     14\n",
       "46      major     14\n",
       "47     really     14\n",
       "48        via     14\n",
       "49    fascist     14"
      ]
     },
     "execution_count": 293,
     "metadata": {},
     "output_type": "execute_result"
    }
   ],
   "source": [
    "# check out most common words\n",
    "neg = FreqDist(processed['Negative emotion'])\n",
    "\n",
    "\n",
    "freq_df = pd.DataFrame(neg.most_common(50),columns=['Word','Count'])\n",
    "freq_df"
   ]
  },
  {
   "cell_type": "markdown",
   "metadata": {},
   "source": [
    "There are still a lot of general words in common between positive and negative.\n",
    "\n",
    "Going to add the following to the stop words lists, since they represent links and re-tweet labels:\n",
    "- link\n",
    "- rt\n",
    "\n",
    "Product-related words (and hashtag forms) such as:\n",
    "- google\n",
    "- apple\n",
    "- ipad\n",
    "- iphone\n",
    "- android\n",
    "- ipad2"
   ]
  },
  {
   "cell_type": "code",
   "execution_count": 299,
   "metadata": {
    "ExecuteTime": {
     "end_time": "2021-06-17T02:26:18.113282Z",
     "start_time": "2021-06-17T02:26:17.929289Z"
    }
   },
   "outputs": [],
   "source": [
    "# create new stopwords list for product names and hashtags\n",
    "product_stopwords = [\"google\", \"apple\", \"ipad\", \"iphone\", \"android\", \"ipad2\"]\n",
    "hash_stop = [\"#\" + word for word in new_stop]\n",
    "product_stopwords.extend(hash_stop)\n",
    "\n",
    "# extend both existing stopwords lists to include placeholder text link and rt\n",
    "nltk_stopwords.extend(['link', 'rt'])\n",
    "custom_stopwords.extend(['link', 'rt'])"
   ]
  },
  {
   "cell_type": "code",
   "execution_count": 300,
   "metadata": {
    "ExecuteTime": {
     "end_time": "2021-06-17T02:26:24.741015Z",
     "start_time": "2021-06-17T02:26:24.672283Z"
    }
   },
   "outputs": [
    {
     "name": "stdout",
     "output_type": "stream",
     "text": [
      "['a', 'an', 'and', 'am', 'are', 'as', 'at', 'be', 'by', 'for', 'from', 'if', 'in', 'is', 'into', 'it', \"it's\", 'its', 'itself', 'of', 'on', 'or', 'than', 'that', 'the', 'to', 'austin', 'sxsw', '#sxsw', 'link', 'rt']\n",
      "['google', 'apple', 'ipad', 'iphone', 'android', 'ipad2', '#google', '#apple', '#ipad', '#iphone', '#android', '#ipad2']\n"
     ]
    }
   ],
   "source": [
    "print(custom_stopwords)\n",
    "print(product_stopwords)"
   ]
  },
  {
   "cell_type": "code",
   "execution_count": 303,
   "metadata": {
    "ExecuteTime": {
     "end_time": "2021-06-17T02:27:08.976507Z",
     "start_time": "2021-06-17T02:27:07.105828Z"
    }
   },
   "outputs": [],
   "source": [
    "# remove extended stop words\n",
    "processed = tokenize_corpus_dict_tweet(df, all_emotions, \n",
    "                                stop_list=punc_custom + nltk_stopwords + \\\n",
    "                                       product_stopwords, \n",
    "                                       verbose=False)"
   ]
  },
  {
   "cell_type": "code",
   "execution_count": 304,
   "metadata": {
    "ExecuteTime": {
     "end_time": "2021-06-17T02:27:09.707278Z",
     "start_time": "2021-06-17T02:27:09.543761Z"
    },
    "scrolled": false
   },
   "outputs": [
    {
     "data": {
      "text/html": [
       "<div>\n",
       "<style scoped>\n",
       "    .dataframe tbody tr th:only-of-type {\n",
       "        vertical-align: middle;\n",
       "    }\n",
       "\n",
       "    .dataframe tbody tr th {\n",
       "        vertical-align: top;\n",
       "    }\n",
       "\n",
       "    .dataframe thead th {\n",
       "        text-align: right;\n",
       "    }\n",
       "</style>\n",
       "<table border=\"1\" class=\"dataframe\">\n",
       "  <thead>\n",
       "    <tr style=\"text-align: right;\">\n",
       "      <th></th>\n",
       "      <th>Word</th>\n",
       "      <th>Count</th>\n",
       "    </tr>\n",
       "  </thead>\n",
       "  <tbody>\n",
       "    <tr>\n",
       "      <th>0</th>\n",
       "      <td>!</td>\n",
       "      <td>1244</td>\n",
       "    </tr>\n",
       "    <tr>\n",
       "      <th>1</th>\n",
       "      <td>store</td>\n",
       "      <td>543</td>\n",
       "    </tr>\n",
       "    <tr>\n",
       "      <th>2</th>\n",
       "      <td>app</td>\n",
       "      <td>388</td>\n",
       "    </tr>\n",
       "    <tr>\n",
       "      <th>3</th>\n",
       "      <td>new</td>\n",
       "      <td>359</td>\n",
       "    </tr>\n",
       "    <tr>\n",
       "      <th>4</th>\n",
       "      <td>?</td>\n",
       "      <td>340</td>\n",
       "    </tr>\n",
       "    <tr>\n",
       "      <th>5</th>\n",
       "      <td>...</td>\n",
       "      <td>220</td>\n",
       "    </tr>\n",
       "    <tr>\n",
       "      <th>6</th>\n",
       "      <td>launch</td>\n",
       "      <td>159</td>\n",
       "    </tr>\n",
       "    <tr>\n",
       "      <th>7</th>\n",
       "      <td>get</td>\n",
       "      <td>158</td>\n",
       "    </tr>\n",
       "    <tr>\n",
       "      <th>8</th>\n",
       "      <td>pop-up</td>\n",
       "      <td>151</td>\n",
       "    </tr>\n",
       "    <tr>\n",
       "      <th>9</th>\n",
       "      <td>great</td>\n",
       "      <td>136</td>\n",
       "    </tr>\n",
       "    <tr>\n",
       "      <th>10</th>\n",
       "      <td>party</td>\n",
       "      <td>133</td>\n",
       "    </tr>\n",
       "    <tr>\n",
       "      <th>11</th>\n",
       "      <td>via</td>\n",
       "      <td>132</td>\n",
       "    </tr>\n",
       "    <tr>\n",
       "      <th>12</th>\n",
       "      <td>line</td>\n",
       "      <td>132</td>\n",
       "    </tr>\n",
       "    <tr>\n",
       "      <th>13</th>\n",
       "      <td>time</td>\n",
       "      <td>128</td>\n",
       "    </tr>\n",
       "    <tr>\n",
       "      <th>14</th>\n",
       "      <td>social</td>\n",
       "      <td>122</td>\n",
       "    </tr>\n",
       "    <tr>\n",
       "      <th>15</th>\n",
       "      <td>free</td>\n",
       "      <td>120</td>\n",
       "    </tr>\n",
       "    <tr>\n",
       "      <th>16</th>\n",
       "      <td>cool</td>\n",
       "      <td>119</td>\n",
       "    </tr>\n",
       "    <tr>\n",
       "      <th>17</th>\n",
       "      <td>i'm</td>\n",
       "      <td>116</td>\n",
       "    </tr>\n",
       "    <tr>\n",
       "      <th>18</th>\n",
       "      <td>like</td>\n",
       "      <td>114</td>\n",
       "    </tr>\n",
       "    <tr>\n",
       "      <th>19</th>\n",
       "      <td>one</td>\n",
       "      <td>111</td>\n",
       "    </tr>\n",
       "    <tr>\n",
       "      <th>20</th>\n",
       "      <td>today</td>\n",
       "      <td>111</td>\n",
       "    </tr>\n",
       "    <tr>\n",
       "      <th>21</th>\n",
       "      <td>day</td>\n",
       "      <td>109</td>\n",
       "    </tr>\n",
       "    <tr>\n",
       "      <th>22</th>\n",
       "      <td>circles</td>\n",
       "      <td>105</td>\n",
       "    </tr>\n",
       "    <tr>\n",
       "      <th>23</th>\n",
       "      <td>w</td>\n",
       "      <td>104</td>\n",
       "    </tr>\n",
       "    <tr>\n",
       "      <th>24</th>\n",
       "      <td>maps</td>\n",
       "      <td>103</td>\n",
       "    </tr>\n",
       "    <tr>\n",
       "      <th>25</th>\n",
       "      <td>#sxswi</td>\n",
       "      <td>96</td>\n",
       "    </tr>\n",
       "    <tr>\n",
       "      <th>26</th>\n",
       "      <td>awesome</td>\n",
       "      <td>94</td>\n",
       "    </tr>\n",
       "    <tr>\n",
       "      <th>27</th>\n",
       "      <td>good</td>\n",
       "      <td>93</td>\n",
       "    </tr>\n",
       "    <tr>\n",
       "      <th>28</th>\n",
       "      <td>love</td>\n",
       "      <td>92</td>\n",
       "    </tr>\n",
       "    <tr>\n",
       "      <th>29</th>\n",
       "      <td>mobile</td>\n",
       "      <td>92</td>\n",
       "    </tr>\n",
       "    <tr>\n",
       "      <th>30</th>\n",
       "      <td>go</td>\n",
       "      <td>92</td>\n",
       "    </tr>\n",
       "    <tr>\n",
       "      <th>31</th>\n",
       "      <td>temporary</td>\n",
       "      <td>89</td>\n",
       "    </tr>\n",
       "    <tr>\n",
       "      <th>32</th>\n",
       "      <td>2</td>\n",
       "      <td>88</td>\n",
       "    </tr>\n",
       "    <tr>\n",
       "      <th>33</th>\n",
       "      <td>downtown</td>\n",
       "      <td>88</td>\n",
       "    </tr>\n",
       "    <tr>\n",
       "      <th>34</th>\n",
       "      <td>opening</td>\n",
       "      <td>88</td>\n",
       "    </tr>\n",
       "    <tr>\n",
       "      <th>35</th>\n",
       "      <td>network</td>\n",
       "      <td>88</td>\n",
       "    </tr>\n",
       "    <tr>\n",
       "      <th>36</th>\n",
       "      <td>people</td>\n",
       "      <td>82</td>\n",
       "    </tr>\n",
       "    <tr>\n",
       "      <th>37</th>\n",
       "      <td>got</td>\n",
       "      <td>81</td>\n",
       "    </tr>\n",
       "    <tr>\n",
       "      <th>38</th>\n",
       "      <td>apps</td>\n",
       "      <td>78</td>\n",
       "    </tr>\n",
       "    <tr>\n",
       "      <th>39</th>\n",
       "      <td>check</td>\n",
       "      <td>77</td>\n",
       "    </tr>\n",
       "    <tr>\n",
       "      <th>40</th>\n",
       "      <td>popup</td>\n",
       "      <td>76</td>\n",
       "    </tr>\n",
       "    <tr>\n",
       "      <th>41</th>\n",
       "      <td>see</td>\n",
       "      <td>73</td>\n",
       "    </tr>\n",
       "    <tr>\n",
       "      <th>42</th>\n",
       "      <td>even</td>\n",
       "      <td>71</td>\n",
       "    </tr>\n",
       "    <tr>\n",
       "      <th>43</th>\n",
       "      <td>thanks</td>\n",
       "      <td>70</td>\n",
       "    </tr>\n",
       "    <tr>\n",
       "      <th>44</th>\n",
       "      <td>going</td>\n",
       "      <td>67</td>\n",
       "    </tr>\n",
       "    <tr>\n",
       "      <th>45</th>\n",
       "      <td>open</td>\n",
       "      <td>67</td>\n",
       "    </tr>\n",
       "    <tr>\n",
       "      <th>46</th>\n",
       "      <td>wins</td>\n",
       "      <td>67</td>\n",
       "    </tr>\n",
       "    <tr>\n",
       "      <th>47</th>\n",
       "      <td>mayer</td>\n",
       "      <td>66</td>\n",
       "    </tr>\n",
       "    <tr>\n",
       "      <th>48</th>\n",
       "      <td>first</td>\n",
       "      <td>64</td>\n",
       "    </tr>\n",
       "    <tr>\n",
       "      <th>49</th>\n",
       "      <td>called</td>\n",
       "      <td>64</td>\n",
       "    </tr>\n",
       "  </tbody>\n",
       "</table>\n",
       "</div>"
      ],
      "text/plain": [
       "         Word  Count\n",
       "0           !   1244\n",
       "1       store    543\n",
       "2         app    388\n",
       "3         new    359\n",
       "4           ?    340\n",
       "5         ...    220\n",
       "6      launch    159\n",
       "7         get    158\n",
       "8      pop-up    151\n",
       "9       great    136\n",
       "10      party    133\n",
       "11        via    132\n",
       "12       line    132\n",
       "13       time    128\n",
       "14     social    122\n",
       "15       free    120\n",
       "16       cool    119\n",
       "17        i'm    116\n",
       "18       like    114\n",
       "19        one    111\n",
       "20      today    111\n",
       "21        day    109\n",
       "22    circles    105\n",
       "23          w    104\n",
       "24       maps    103\n",
       "25     #sxswi     96\n",
       "26    awesome     94\n",
       "27       good     93\n",
       "28       love     92\n",
       "29     mobile     92\n",
       "30         go     92\n",
       "31  temporary     89\n",
       "32          2     88\n",
       "33   downtown     88\n",
       "34    opening     88\n",
       "35    network     88\n",
       "36     people     82\n",
       "37        got     81\n",
       "38       apps     78\n",
       "39      check     77\n",
       "40      popup     76\n",
       "41        see     73\n",
       "42       even     71\n",
       "43     thanks     70\n",
       "44      going     67\n",
       "45       open     67\n",
       "46       wins     67\n",
       "47      mayer     66\n",
       "48      first     64\n",
       "49     called     64"
      ]
     },
     "execution_count": 304,
     "metadata": {},
     "output_type": "execute_result"
    }
   ],
   "source": [
    "# check out most common words with latest set of stopwords removed\n",
    "pos = FreqDist(processed['Positive emotion'])\n",
    "\n",
    "\n",
    "freq_df = pd.DataFrame(pos.most_common(50),columns=['Word','Count'])\n",
    "freq_df"
   ]
  },
  {
   "cell_type": "code",
   "execution_count": 305,
   "metadata": {
    "ExecuteTime": {
     "end_time": "2021-06-17T02:27:15.115560Z",
     "start_time": "2021-06-17T02:27:14.984555Z"
    },
    "scrolled": true
   },
   "outputs": [
    {
     "data": {
      "text/html": [
       "<div>\n",
       "<style scoped>\n",
       "    .dataframe tbody tr th:only-of-type {\n",
       "        vertical-align: middle;\n",
       "    }\n",
       "\n",
       "    .dataframe tbody tr th {\n",
       "        vertical-align: top;\n",
       "    }\n",
       "\n",
       "    .dataframe thead th {\n",
       "        text-align: right;\n",
       "    }\n",
       "</style>\n",
       "<table border=\"1\" class=\"dataframe\">\n",
       "  <thead>\n",
       "    <tr style=\"text-align: right;\">\n",
       "      <th></th>\n",
       "      <th>Word</th>\n",
       "      <th>Count</th>\n",
       "    </tr>\n",
       "  </thead>\n",
       "  <tbody>\n",
       "    <tr>\n",
       "      <th>0</th>\n",
       "      <td>?</td>\n",
       "      <td>119</td>\n",
       "    </tr>\n",
       "    <tr>\n",
       "      <th>1</th>\n",
       "      <td>!</td>\n",
       "      <td>91</td>\n",
       "    </tr>\n",
       "    <tr>\n",
       "      <th>2</th>\n",
       "      <td>app</td>\n",
       "      <td>60</td>\n",
       "    </tr>\n",
       "    <tr>\n",
       "      <th>3</th>\n",
       "      <td>store</td>\n",
       "      <td>46</td>\n",
       "    </tr>\n",
       "    <tr>\n",
       "      <th>4</th>\n",
       "      <td>new</td>\n",
       "      <td>43</td>\n",
       "    </tr>\n",
       "    <tr>\n",
       "      <th>5</th>\n",
       "      <td>...</td>\n",
       "      <td>42</td>\n",
       "    </tr>\n",
       "    <tr>\n",
       "      <th>6</th>\n",
       "      <td>like</td>\n",
       "      <td>39</td>\n",
       "    </tr>\n",
       "    <tr>\n",
       "      <th>7</th>\n",
       "      <td>design</td>\n",
       "      <td>29</td>\n",
       "    </tr>\n",
       "    <tr>\n",
       "      <th>8</th>\n",
       "      <td>people</td>\n",
       "      <td>29</td>\n",
       "    </tr>\n",
       "    <tr>\n",
       "      <th>9</th>\n",
       "      <td>social</td>\n",
       "      <td>28</td>\n",
       "    </tr>\n",
       "    <tr>\n",
       "      <th>10</th>\n",
       "      <td>circles</td>\n",
       "      <td>26</td>\n",
       "    </tr>\n",
       "    <tr>\n",
       "      <th>11</th>\n",
       "      <td>apps</td>\n",
       "      <td>26</td>\n",
       "    </tr>\n",
       "    <tr>\n",
       "      <th>12</th>\n",
       "      <td>need</td>\n",
       "      <td>25</td>\n",
       "    </tr>\n",
       "    <tr>\n",
       "      <th>13</th>\n",
       "      <td>get</td>\n",
       "      <td>24</td>\n",
       "    </tr>\n",
       "    <tr>\n",
       "      <th>14</th>\n",
       "      <td>launch</td>\n",
       "      <td>22</td>\n",
       "    </tr>\n",
       "    <tr>\n",
       "      <th>15</th>\n",
       "      <td>one</td>\n",
       "      <td>22</td>\n",
       "    </tr>\n",
       "    <tr>\n",
       "      <th>16</th>\n",
       "      <td>today</td>\n",
       "      <td>21</td>\n",
       "    </tr>\n",
       "    <tr>\n",
       "      <th>17</th>\n",
       "      <td>would</td>\n",
       "      <td>19</td>\n",
       "    </tr>\n",
       "    <tr>\n",
       "      <th>18</th>\n",
       "      <td>time</td>\n",
       "      <td>18</td>\n",
       "    </tr>\n",
       "    <tr>\n",
       "      <th>19</th>\n",
       "      <td>think</td>\n",
       "      <td>18</td>\n",
       "    </tr>\n",
       "    <tr>\n",
       "      <th>20</th>\n",
       "      <td>headaches</td>\n",
       "      <td>17</td>\n",
       "    </tr>\n",
       "    <tr>\n",
       "      <th>21</th>\n",
       "      <td>news</td>\n",
       "      <td>17</td>\n",
       "    </tr>\n",
       "    <tr>\n",
       "      <th>22</th>\n",
       "      <td>go</td>\n",
       "      <td>17</td>\n",
       "    </tr>\n",
       "    <tr>\n",
       "      <th>23</th>\n",
       "      <td>long</td>\n",
       "      <td>17</td>\n",
       "    </tr>\n",
       "    <tr>\n",
       "      <th>24</th>\n",
       "      <td>line</td>\n",
       "      <td>16</td>\n",
       "    </tr>\n",
       "    <tr>\n",
       "      <th>25</th>\n",
       "      <td>says</td>\n",
       "      <td>16</td>\n",
       "    </tr>\n",
       "    <tr>\n",
       "      <th>26</th>\n",
       "      <td>i've</td>\n",
       "      <td>16</td>\n",
       "    </tr>\n",
       "    <tr>\n",
       "      <th>27</th>\n",
       "      <td>i'm</td>\n",
       "      <td>16</td>\n",
       "    </tr>\n",
       "    <tr>\n",
       "      <th>28</th>\n",
       "      <td>day</td>\n",
       "      <td>16</td>\n",
       "    </tr>\n",
       "    <tr>\n",
       "      <th>29</th>\n",
       "      <td>network</td>\n",
       "      <td>16</td>\n",
       "    </tr>\n",
       "    <tr>\n",
       "      <th>30</th>\n",
       "      <td>users</td>\n",
       "      <td>15</td>\n",
       "    </tr>\n",
       "    <tr>\n",
       "      <th>31</th>\n",
       "      <td>battery</td>\n",
       "      <td>15</td>\n",
       "    </tr>\n",
       "    <tr>\n",
       "      <th>32</th>\n",
       "      <td>good</td>\n",
       "      <td>15</td>\n",
       "    </tr>\n",
       "    <tr>\n",
       "      <th>33</th>\n",
       "      <td>see</td>\n",
       "      <td>15</td>\n",
       "    </tr>\n",
       "    <tr>\n",
       "      <th>34</th>\n",
       "      <td>much</td>\n",
       "      <td>15</td>\n",
       "    </tr>\n",
       "    <tr>\n",
       "      <th>35</th>\n",
       "      <td>america</td>\n",
       "      <td>15</td>\n",
       "    </tr>\n",
       "    <tr>\n",
       "      <th>36</th>\n",
       "      <td>money</td>\n",
       "      <td>14</td>\n",
       "    </tr>\n",
       "    <tr>\n",
       "      <th>37</th>\n",
       "      <td>major</td>\n",
       "      <td>14</td>\n",
       "    </tr>\n",
       "    <tr>\n",
       "      <th>38</th>\n",
       "      <td>really</td>\n",
       "      <td>14</td>\n",
       "    </tr>\n",
       "    <tr>\n",
       "      <th>39</th>\n",
       "      <td>via</td>\n",
       "      <td>14</td>\n",
       "    </tr>\n",
       "    <tr>\n",
       "      <th>40</th>\n",
       "      <td>fascist</td>\n",
       "      <td>14</td>\n",
       "    </tr>\n",
       "    <tr>\n",
       "      <th>41</th>\n",
       "      <td>company</td>\n",
       "      <td>14</td>\n",
       "    </tr>\n",
       "    <tr>\n",
       "      <th>42</th>\n",
       "      <td>many</td>\n",
       "      <td>13</td>\n",
       "    </tr>\n",
       "    <tr>\n",
       "      <th>43</th>\n",
       "      <td>going</td>\n",
       "      <td>13</td>\n",
       "    </tr>\n",
       "    <tr>\n",
       "      <th>44</th>\n",
       "      <td>back</td>\n",
       "      <td>13</td>\n",
       "    </tr>\n",
       "    <tr>\n",
       "      <th>45</th>\n",
       "      <td>pop-up</td>\n",
       "      <td>13</td>\n",
       "    </tr>\n",
       "    <tr>\n",
       "      <th>46</th>\n",
       "      <td>called</td>\n",
       "      <td>13</td>\n",
       "    </tr>\n",
       "    <tr>\n",
       "      <th>47</th>\n",
       "      <td>phone</td>\n",
       "      <td>13</td>\n",
       "    </tr>\n",
       "    <tr>\n",
       "      <th>48</th>\n",
       "      <td>way</td>\n",
       "      <td>13</td>\n",
       "    </tr>\n",
       "    <tr>\n",
       "      <th>49</th>\n",
       "      <td>already</td>\n",
       "      <td>12</td>\n",
       "    </tr>\n",
       "  </tbody>\n",
       "</table>\n",
       "</div>"
      ],
      "text/plain": [
       "         Word  Count\n",
       "0           ?    119\n",
       "1           !     91\n",
       "2         app     60\n",
       "3       store     46\n",
       "4         new     43\n",
       "5         ...     42\n",
       "6        like     39\n",
       "7      design     29\n",
       "8      people     29\n",
       "9      social     28\n",
       "10    circles     26\n",
       "11       apps     26\n",
       "12       need     25\n",
       "13        get     24\n",
       "14     launch     22\n",
       "15        one     22\n",
       "16      today     21\n",
       "17      would     19\n",
       "18       time     18\n",
       "19      think     18\n",
       "20  headaches     17\n",
       "21       news     17\n",
       "22         go     17\n",
       "23       long     17\n",
       "24       line     16\n",
       "25       says     16\n",
       "26       i've     16\n",
       "27        i'm     16\n",
       "28        day     16\n",
       "29    network     16\n",
       "30      users     15\n",
       "31    battery     15\n",
       "32       good     15\n",
       "33        see     15\n",
       "34       much     15\n",
       "35    america     15\n",
       "36      money     14\n",
       "37      major     14\n",
       "38     really     14\n",
       "39        via     14\n",
       "40    fascist     14\n",
       "41    company     14\n",
       "42       many     13\n",
       "43      going     13\n",
       "44       back     13\n",
       "45     pop-up     13\n",
       "46     called     13\n",
       "47      phone     13\n",
       "48        way     13\n",
       "49    already     12"
      ]
     },
     "execution_count": 305,
     "metadata": {},
     "output_type": "execute_result"
    }
   ],
   "source": [
    "# check out most common words with latest set of stopwords removed\n",
    "neg = FreqDist(processed['Negative emotion'])\n",
    "\n",
    "\n",
    "freq_df = pd.DataFrame(neg.most_common(50),columns=['Word','Count'])\n",
    "freq_df"
   ]
  },
  {
   "cell_type": "code",
   "execution_count": 504,
   "metadata": {
    "ExecuteTime": {
     "end_time": "2021-06-18T16:32:18.323332Z",
     "start_time": "2021-06-18T16:32:17.807322Z"
    }
   },
   "outputs": [
    {
     "data": {
      "text/plain": [
       "['data/scrubbed_df.joblib.gz']"
      ]
     },
     "execution_count": 504,
     "metadata": {},
     "output_type": "execute_result"
    }
   ],
   "source": [
    "# dump preprocessed df to file, so I can load it up in google colab for\n",
    "# modeling and gridsearching\n",
    "joblib.dump(df, f\"data/scrubbed_df.joblib.gz\")"
   ]
  },
  {
   "cell_type": "markdown",
   "metadata": {},
   "source": [
    "# Binary Models for Emotion Only\n",
    "\n",
    "First, I explored models focused only on the tweets that were labeled as having negative or positive emotions about a product or brand, leaving out the ones labeled as having no emotion towards a product or brand.\n",
    "\n",
    "I wanted to explore the different options for vectorizing and preprocessing the text on a smaller dataset and with a simpler problem before expanding to a multi-class problem with more data, which will take longer to gridsearch and tune.\n",
    "\n",
    "This binary classifier will also serve as a baseline for the multi-class problem where I will try to predict Positive, Negative, and No sentiment towards a product or brand. I do want to be able to weed out the tweets which are positive and negative towards a brand from those with no emotion towards a brand, but I'm not sure how well a multi-class model will be able to distinguish between all three. Having looked at the tweets themselves, the distinctions are pretty fine grains, and even I disagree with some of the labels which have been assigned. It might be a better approach to use one model to weed out the tweets which don't have a positive or negative emotion towards a brand, then run the remaining tweets through a second model to separate positive from negative."
   ]
  },
  {
   "cell_type": "markdown",
   "metadata": {},
   "source": [
    "A few of the options I'd like to try:\n",
    "\n",
    "- Different versions of stopwords and punctuation removal. All stopwords from the default NLTK list, which I think may contain some words that will be useful, and then also my customized, pared down stopwords list. I also have the separate product stop words list which contains the terms related to the brands and products themselves, which I want to experiment with removing.\n",
    "\n",
    "\n",
    "- A few different ways to vectorize and generate the frequencies in my Document Term Matrix. Regular `CountVectorizer` with the actual counts, TFIdF normalized frequencies, and also a binary frequency. The [sklearn documentation mentions](https://scikit-learn.org/stable/modules/feature_extraction.html#text-feature-extraction):\n",
    ">\"...very short texts are likely to have noisy tf–idf values while the binary occurrence info is more stable.\"\n",
    "\n",
    "\n",
    "- Unigrams, uni- and bigrams, and just bigrams.\n",
    "\n",
    "Some initial constants:\n",
    "\n",
    "- I've decided to use just one set of punctuation to be removed, where I will remove everything except `?`, `!`, and `...`.\n",
    "\n",
    "- I will experiment stemming and lemmatization, but will start without them first.\n",
    "\n",
    " \n",
    "I'll use the `TweetTokenizer` from NLTK to perform the tokenization, since it has the option to remove handled, which I would like to do. To enable experimenting with stemming and lemmatization in a gridsearch, I'll create a custom function which uses the TweetTokenizer, and pass to the `tokenizer` step of the sklearn `CountVectorizer` so I can change it up."
   ]
  },
  {
   "cell_type": "markdown",
   "metadata": {},
   "source": [
    "## Preprocessing for binary modeling"
   ]
  },
  {
   "cell_type": "code",
   "execution_count": 481,
   "metadata": {
    "ExecuteTime": {
     "end_time": "2021-06-18T15:49:41.276991Z",
     "start_time": "2021-06-18T15:49:40.245444Z"
    },
    "scrolled": true
   },
   "outputs": [
    {
     "data": {
      "text/html": [
       "<div>\n",
       "<style scoped>\n",
       "    .dataframe tbody tr th:only-of-type {\n",
       "        vertical-align: middle;\n",
       "    }\n",
       "\n",
       "    .dataframe tbody tr th {\n",
       "        vertical-align: top;\n",
       "    }\n",
       "\n",
       "    .dataframe thead th {\n",
       "        text-align: right;\n",
       "    }\n",
       "</style>\n",
       "<table border=\"1\" class=\"dataframe\">\n",
       "  <thead>\n",
       "    <tr style=\"text-align: right;\">\n",
       "      <th></th>\n",
       "      <th>tweet_text</th>\n",
       "      <th>cleaned</th>\n",
       "      <th>emotion</th>\n",
       "    </tr>\n",
       "  </thead>\n",
       "  <tbody>\n",
       "    <tr>\n",
       "      <th>0</th>\n",
       "      <td>.@wesley83 I have a 3G iPhone. After 3 hrs tweeting at #RISE_Austin, it was dead!  I need to upgrade. Plugin stations at #SXSW.</td>\n",
       "      <td>.@wesley83 I have a 3G iPhone. After hrs tweeting at #RISE_Austin, it was dead! I need to upgrade. Plugin stations at #SXSW.</td>\n",
       "      <td>Negative emotion</td>\n",
       "    </tr>\n",
       "    <tr>\n",
       "      <th>1</th>\n",
       "      <td>@jessedee Know about @fludapp ? Awesome iPad/iPhone app that you'll likely appreciate for its design. Also, they're giving free Ts at #SXSW</td>\n",
       "      <td>@jessedee Know about @fludapp ? Awesome iPad/iPhone app that you'll likely appreciate for its design. Also, they're giving free Ts at #SXSW</td>\n",
       "      <td>Positive emotion</td>\n",
       "    </tr>\n",
       "    <tr>\n",
       "      <th>2</th>\n",
       "      <td>@swonderlin Can not wait for #iPad 2 also. They should sale them down at #SXSW.</td>\n",
       "      <td>@swonderlin Can not wait for #iPad also. They should sale them down at #SXSW.</td>\n",
       "      <td>Positive emotion</td>\n",
       "    </tr>\n",
       "    <tr>\n",
       "      <th>3</th>\n",
       "      <td>@sxsw I hope this year's festival isn't as crashy as this year's iPhone app. #sxsw</td>\n",
       "      <td>@sxsw I hope this year's festival isn't as crashy as this year's iPhone app. #sxsw</td>\n",
       "      <td>Negative emotion</td>\n",
       "    </tr>\n",
       "    <tr>\n",
       "      <th>4</th>\n",
       "      <td>@sxtxstate great stuff on Fri #SXSW: Marissa Mayer (Google), Tim O'Reilly (tech books/conferences) &amp;amp; Matt Mullenweg (Wordpress)</td>\n",
       "      <td>@sxtxstate great stuff on Fri #SXSW: Marissa Mayer (Google), Tim O'Reilly (tech books/conferences) &amp; Matt Mullenweg (Wordpress)</td>\n",
       "      <td>Positive emotion</td>\n",
       "    </tr>\n",
       "    <tr>\n",
       "      <th>...</th>\n",
       "      <td>...</td>\n",
       "      <td>...</td>\n",
       "      <td>...</td>\n",
       "    </tr>\n",
       "    <tr>\n",
       "      <th>9076</th>\n",
       "      <td>@mention your PR guy just convinced me to switch back to iPhone. Great #sxsw coverage. #princess</td>\n",
       "      <td>@mention your PR guy just convinced me to switch back to iPhone. Great #sxsw coverage. #princess</td>\n",
       "      <td>Positive emotion</td>\n",
       "    </tr>\n",
       "    <tr>\n",
       "      <th>9078</th>\n",
       "      <td>&amp;quot;papyrus...sort of like the ipad&amp;quot; - nice! Lol! #SXSW Lavelle</td>\n",
       "      <td>\"papyrus...sort of like the ipad\" - nice! Lol! #SXSW Lavelle</td>\n",
       "      <td>Positive emotion</td>\n",
       "    </tr>\n",
       "    <tr>\n",
       "      <th>9079</th>\n",
       "      <td>Diller says Google TV &amp;quot;might be run over by the PlayStation and the Xbox, which are essentially ready today.&amp;quot; #sxsw #diller</td>\n",
       "      <td>Diller says Google TV \"might be run over by the PlayStation and the Xbox, which are essentially ready today.\" #sxsw #diller</td>\n",
       "      <td>Negative emotion</td>\n",
       "    </tr>\n",
       "    <tr>\n",
       "      <th>9084</th>\n",
       "      <td>I've always used Camera+ for my iPhone b/c it has an image stabilizer mode. Suggestions for an iPad cam app w/ same feature? #SXSW #SXSWi</td>\n",
       "      <td>I've always used Camera+ for my iPhone b/c it has an image stabilizer mode. Suggestions for an iPad cam app w/ same feature? #SXSW #SXSWi</td>\n",
       "      <td>Positive emotion</td>\n",
       "    </tr>\n",
       "    <tr>\n",
       "      <th>9087</th>\n",
       "      <td>Ipad everywhere. #SXSW {link}</td>\n",
       "      <td>Ipad everywhere. #SXSW {link}</td>\n",
       "      <td>Positive emotion</td>\n",
       "    </tr>\n",
       "  </tbody>\n",
       "</table>\n",
       "<p>3548 rows × 3 columns</p>\n",
       "</div>"
      ],
      "text/plain": [
       "                                                                                                                                       tweet_text  \\\n",
       "0                 .@wesley83 I have a 3G iPhone. After 3 hrs tweeting at #RISE_Austin, it was dead!  I need to upgrade. Plugin stations at #SXSW.   \n",
       "1     @jessedee Know about @fludapp ? Awesome iPad/iPhone app that you'll likely appreciate for its design. Also, they're giving free Ts at #SXSW   \n",
       "2                                                                 @swonderlin Can not wait for #iPad 2 also. They should sale them down at #SXSW.   \n",
       "3                                                              @sxsw I hope this year's festival isn't as crashy as this year's iPhone app. #sxsw   \n",
       "4             @sxtxstate great stuff on Fri #SXSW: Marissa Mayer (Google), Tim O'Reilly (tech books/conferences) &amp; Matt Mullenweg (Wordpress)   \n",
       "...                                                                                                                                           ...   \n",
       "9076                                             @mention your PR guy just convinced me to switch back to iPhone. Great #sxsw coverage. #princess   \n",
       "9078                                                                       &quot;papyrus...sort of like the ipad&quot; - nice! Lol! #SXSW Lavelle   \n",
       "9079        Diller says Google TV &quot;might be run over by the PlayStation and the Xbox, which are essentially ready today.&quot; #sxsw #diller   \n",
       "9084    I've always used Camera+ for my iPhone b/c it has an image stabilizer mode. Suggestions for an iPad cam app w/ same feature? #SXSW #SXSWi   \n",
       "9087                                                                                                                Ipad everywhere. #SXSW {link}   \n",
       "\n",
       "                                                                                                                                          cleaned  \\\n",
       "0                    .@wesley83 I have a 3G iPhone. After hrs tweeting at #RISE_Austin, it was dead! I need to upgrade. Plugin stations at #SXSW.   \n",
       "1     @jessedee Know about @fludapp ? Awesome iPad/iPhone app that you'll likely appreciate for its design. Also, they're giving free Ts at #SXSW   \n",
       "2                                                                   @swonderlin Can not wait for #iPad also. They should sale them down at #SXSW.   \n",
       "3                                                              @sxsw I hope this year's festival isn't as crashy as this year's iPhone app. #sxsw   \n",
       "4                 @sxtxstate great stuff on Fri #SXSW: Marissa Mayer (Google), Tim O'Reilly (tech books/conferences) & Matt Mullenweg (Wordpress)   \n",
       "...                                                                                                                                           ...   \n",
       "9076                                             @mention your PR guy just convinced me to switch back to iPhone. Great #sxsw coverage. #princess   \n",
       "9078                                                                                 \"papyrus...sort of like the ipad\" - nice! Lol! #SXSW Lavelle   \n",
       "9079                  Diller says Google TV \"might be run over by the PlayStation and the Xbox, which are essentially ready today.\" #sxsw #diller   \n",
       "9084    I've always used Camera+ for my iPhone b/c it has an image stabilizer mode. Suggestions for an iPad cam app w/ same feature? #SXSW #SXSWi   \n",
       "9087                                                                                                                Ipad everywhere. #SXSW {link}   \n",
       "\n",
       "               emotion  \n",
       "0     Negative emotion  \n",
       "1     Positive emotion  \n",
       "2     Positive emotion  \n",
       "3     Negative emotion  \n",
       "4     Positive emotion  \n",
       "...                ...  \n",
       "9076  Positive emotion  \n",
       "9078  Positive emotion  \n",
       "9079  Negative emotion  \n",
       "9084  Positive emotion  \n",
       "9087  Positive emotion  \n",
       "\n",
       "[3548 rows x 3 columns]"
      ]
     },
     "execution_count": 481,
     "metadata": {},
     "output_type": "execute_result"
    }
   ],
   "source": [
    "# check to make sure the text is still aligned in the columns properly\n",
    "df.loc[df['emotion'].isin(['Positive emotion', 'Negative emotion']), \n",
    "           ['tweet_text', 'cleaned', 'emotion']]"
   ]
  },
  {
   "cell_type": "code",
   "execution_count": 482,
   "metadata": {
    "ExecuteTime": {
     "end_time": "2021-06-18T15:49:49.114829Z",
     "start_time": "2021-06-18T15:49:49.034074Z"
    },
    "scrolled": true
   },
   "outputs": [
    {
     "data": {
      "text/plain": [
       "No emotion toward brand or product    5388\n",
       "Positive emotion                      2978\n",
       "Negative emotion                       570\n",
       "I can't tell                           156\n",
       "Name: emotion, dtype: int64"
      ]
     },
     "execution_count": 482,
     "metadata": {},
     "output_type": "execute_result"
    }
   ],
   "source": [
    "df['emotion'].value_counts()"
   ]
  },
  {
   "cell_type": "code",
   "execution_count": 483,
   "metadata": {
    "ExecuteTime": {
     "end_time": "2021-06-18T15:50:04.870677Z",
     "start_time": "2021-06-18T15:50:04.775145Z"
    }
   },
   "outputs": [],
   "source": [
    "# create X and y based on just the positive and negative emotions\n",
    "X = df.loc[df['emotion'].isin(['Positive emotion', 'Negative emotion']), \n",
    "           'cleaned']\n",
    "y = df.loc[df['emotion'].isin(['Positive emotion', 'Negative emotion']), \n",
    "           'emotion']"
   ]
  },
  {
   "cell_type": "code",
   "execution_count": 484,
   "metadata": {
    "ExecuteTime": {
     "end_time": "2021-06-18T15:50:17.188674Z",
     "start_time": "2021-06-18T15:50:17.093746Z"
    },
    "scrolled": true
   },
   "outputs": [
    {
     "data": {
      "text/plain": [
       "0    2978\n",
       "1     570\n",
       "Name: emotion, dtype: int64"
      ]
     },
     "execution_count": 484,
     "metadata": {},
     "output_type": "execute_result"
    }
   ],
   "source": [
    "# convert class labels to binary\n",
    "y = y.map(lambda x: 1 if x==\"Negative emotion\" else 0)\n",
    "y.value_counts()"
   ]
  },
  {
   "cell_type": "code",
   "execution_count": 486,
   "metadata": {
    "ExecuteTime": {
     "end_time": "2021-06-18T15:50:33.433396Z",
     "start_time": "2021-06-18T15:50:33.361794Z"
    }
   },
   "outputs": [],
   "source": [
    "# Save label translation for later: 1 is negative, 0 is positive\n",
    "class_labels = ['Positive', 'Negative']"
   ]
  },
  {
   "cell_type": "code",
   "execution_count": 487,
   "metadata": {
    "ExecuteTime": {
     "end_time": "2021-06-18T15:50:44.164978Z",
     "start_time": "2021-06-18T15:50:44.045108Z"
    }
   },
   "outputs": [
    {
     "name": "stdout",
     "output_type": "stream",
     "text": [
      "2838\n",
      "2838\n",
      "710\n",
      "710\n"
     ]
    }
   ],
   "source": [
    "# train test split\n",
    "X_train, X_test, y_train, y_test = train_test_split(X, y, test_size=0.2,\n",
    "                                               stratify=y)\n",
    "print(len(X_train))\n",
    "print(len(y_train))\n",
    "print(len(X_test))\n",
    "print(len(y_test))"
   ]
  },
  {
   "cell_type": "code",
   "execution_count": 488,
   "metadata": {
    "ExecuteTime": {
     "end_time": "2021-06-18T15:50:50.097627Z",
     "start_time": "2021-06-18T15:50:49.975236Z"
    },
    "scrolled": true
   },
   "outputs": [
    {
     "data": {
      "text/plain": [
       "0    0.839323\n",
       "1    0.160677\n",
       "Name: emotion, dtype: float64"
      ]
     },
     "execution_count": 488,
     "metadata": {},
     "output_type": "execute_result"
    }
   ],
   "source": [
    "y_train.value_counts(normalize=True)"
   ]
  },
  {
   "cell_type": "code",
   "execution_count": 489,
   "metadata": {
    "ExecuteTime": {
     "end_time": "2021-06-18T15:50:51.176119Z",
     "start_time": "2021-06-18T15:50:51.110912Z"
    },
    "scrolled": true
   },
   "outputs": [
    {
     "data": {
      "text/plain": [
       "0    0.839437\n",
       "1    0.160563\n",
       "Name: emotion, dtype: float64"
      ]
     },
     "execution_count": 489,
     "metadata": {},
     "output_type": "execute_result"
    }
   ],
   "source": [
    "y_test.value_counts(normalize=True)"
   ]
  },
  {
   "cell_type": "code",
   "execution_count": 429,
   "metadata": {
    "ExecuteTime": {
     "end_time": "2021-06-17T20:29:27.503618Z",
     "start_time": "2021-06-17T20:29:27.299558Z"
    }
   },
   "outputs": [],
   "source": [
    "def eval_clf_model(clf, X_test, y_test, X_train, y_train, score='macro',\n",
    "               reports=True, labels=['Class 0', 'Class 1']):\n",
    "    \"\"\"Shows metrics and plots visualizations to interpret classifier model \n",
    "    performance.\n",
    "    \n",
    "    ***\n",
    "    Args\n",
    "    \n",
    "    clf: classifier model to evaluate (or fit pipeline with a clf model as\n",
    "    the last step)\n",
    "    \n",
    "    X_test: dataframe of test predictors\n",
    "    \n",
    "    y_test: dataframe of true target values\n",
    "    \n",
    "    X_train: dataframe (optional). Default is None. Provide training data if\n",
    "    you want to evaluate performance on train versus test; otherwise only \n",
    "    test performance is evaluated.\n",
    "    \n",
    "    y_train: dataframe (optional). Default is None. Provide training data if\n",
    "    you want to evaluate performance on train versus test; otherwise only \n",
    "    test performance is evaluated.\n",
    "    \n",
    "    score: string (optional). Default is `std` to return standard F1, accuracy, \n",
    "    and recall scores. Use `macro` to return macro F1 and recall, and balanced\n",
    "    accuracy. Scores are always returned, regardles of `reports` param.\n",
    "    \n",
    "    reports: boolean (optional). Default is True. Set to False to return only \n",
    "    scores, not actual classification reports.\n",
    "    \n",
    "    labels: list (optional). Provide a list of labels for the target class.\n",
    "    \"\"\"\n",
    "    multi = True if len(labels) > 2 else False\n",
    "    \n",
    "    spacer = '*'*30\n",
    "    \n",
    "    # Get predictions 1 time only, since they will be used in a few spots\n",
    "    test_preds = clf.predict(X_test)\n",
    "    train_preds = clf.predict(X_train)\n",
    "    \n",
    "    #if multi:\n",
    "    #    test_predict_proba = clf.predict_proba(X_test)\n",
    "    \n",
    "    # print classification reports\n",
    "    if reports:\n",
    "        print(spacer + ' Training Data ' + spacer)\n",
    "        print(metrics.classification_report(y_train, train_preds))\n",
    "        print()\n",
    "        print(spacer + ' Test Data ' + spacer)\n",
    "        print(metrics.classification_report(y_test, test_preds))\n",
    "        print()\n",
    "    \n",
    "    # print scores from train and test next to each other for easy comparison\n",
    "    print(spacer + ' Training Scores ' + spacer)\n",
    "\n",
    "    # Train\n",
    "    if score == 'std':\n",
    "        train_f1 = np.round(metrics.f1_score(y_train, train_preds), 4)\n",
    "        print(f\"                  Training F1 = {train_f1}\")\n",
    "        train_r = np.round(metrics.recall_score(y_train, train_preds), 4)\n",
    "        print(f\"              Training Recall = {train_r}\")\n",
    "        train_acc = np.round(metrics.accuracy_score(y_train, train_preds), 4)\n",
    "        print(f\"            Training Accuracy = {train_acc}\")\n",
    "    elif score == 'macro':\n",
    "        train_f1m = np.round(metrics.f1_score(y_train, train_preds, average='macro'), 4)\n",
    "        print(f\"            Training Macro F1 = {train_f1m}\")\n",
    "        train_rm = np.round(metrics.recall_score(y_train, train_preds, average='macro'), 4)\n",
    "        print(f\"        Training Macro Recall = {train_rm}\")\n",
    "        train_accbal = np.round(metrics.balanced_accuracy_score(y_train, train_preds), 4)\n",
    "        print(f\"   Training Balanced Accuracy = {train_accbal}\")\n",
    "    print()\n",
    "    print(spacer + ' Test Scores ' + spacer)\n",
    "    \n",
    "    #Test\n",
    "    if score == 'std':\n",
    "        test_f1 = np.round(metrics.f1_score(y_test, test_preds), 4)\n",
    "        print(f\"                      Test F1 = {test_f1}\")\n",
    "        test_r = np.round(metrics.recall_score(y_test, test_preds), 4)\n",
    "        print(f\"                  Test Recall = {test_r}\")\n",
    "        test_acc = np.round(metrics.accuracy_score(y_test, test_preds), 4)\n",
    "        print(f\"                Test Accuracy = {test_acc}\")\n",
    "        \n",
    "    elif score == 'macro':\n",
    "        test_f1m = np.round(metrics.f1_score(y_test, test_preds, average='macro'), 4)\n",
    "        print(f\"                Test Macro F1 = {test_f1m}\")\n",
    "        test_rm = np.round(metrics.recall_score(y_test, test_preds, average='macro'), 4)\n",
    "        print(f\"            Test Macro Recall = {test_rm}\")\n",
    "        test_accbal = np.round(metrics.balanced_accuracy_score(y_test, test_preds), 4)\n",
    "        print(f\"       Test Balanced Accuracy = {test_accbal}\")\n",
    "    print()\n",
    "    print(spacer + ' Differences ' + spacer)\n",
    "    \n",
    "    #Diffs\n",
    "    if score == 'std':\n",
    "        print(f\"               Train-Test F1 Diff = {test_f1 - train_f1}\")       \n",
    "        print(f\"           Train-Test Recall Diff = {test_r - train_r}\")       \n",
    "        print(f\"         Train-Test Accuracy Diff = {test_acc - train_acc}\")     \n",
    "    elif score == 'macro':  \n",
    "        print(f\"         Train-Test Macro F1 Diff = {test_f1m - train_f1m}\")      \n",
    "        print(f\"     Train-Test Macro Recall Diff = {test_rm - train_rm}\")       \n",
    "        print(f\"Train-Test Balanced Accuracy Diff = {test_accbal - train_accbal}\")\n",
    "    \n",
    "    print()\n",
    "    print(spacer + ' Graphs for Test ' + spacer)\n",
    "    \n",
    "    # plot graphs\n",
    "    \n",
    "    if not multi:\n",
    "        auc = np.round(metrics.roc_auc_score(y_test, test_preds), 2)\n",
    "        \n",
    "        ap = np.round(metrics.average_precision_score(y_test, test_preds), 2)\n",
    "\n",
    "        fig, [ax1, ax2, ax3] = plt.subplots(figsize=[10, 3], nrows=1, ncols=3)\n",
    "        plt.tight_layout(pad=2.5)\n",
    "        metrics.plot_confusion_matrix(clf, X_test, y_test, normalize='true', \n",
    "                                  display_labels=labels, cmap='Reds', ax=ax1)\n",
    "        metrics.plot_roc_curve(clf, X_test, y_test, ax=ax2)\n",
    "        ax2.legend(loc='best', fontsize='small', labels=[f'AUC: {auc}'])\n",
    "\n",
    "        metrics.plot_precision_recall_curve(clf, X_test, y_test, ax=ax3)\n",
    "        ax3.legend(loc='best', fontsize='small')\n",
    "        ax3.legend(loc='best', fontsize='small', labels=[f'AP: {ap}'])\n",
    "        plt.show();\n",
    "    \n",
    "    #if multi-class, just plot confusion matrix\n",
    "    else:\n",
    "        fig, ax1 = plt.subplots(figsize=[6, 4])\n",
    "        plt.tight_layout(pad=2.5)\n",
    "        metrics.plot_confusion_matrix(clf, X_test, y_test, normalize='true', \n",
    "                                  display_labels=labels, cmap='Reds', ax=ax1)\n",
    "        plt.show();\n",
    "        \n",
    "    \n",
    "    return None"
   ]
  },
  {
   "cell_type": "markdown",
   "metadata": {},
   "source": [
    "## Build modeling pipeline"
   ]
  },
  {
   "cell_type": "code",
   "execution_count": 498,
   "metadata": {
    "ExecuteTime": {
     "end_time": "2021-06-18T16:02:48.286510Z",
     "start_time": "2021-06-18T16:02:48.222314Z"
    },
    "scrolled": true
   },
   "outputs": [],
   "source": [
    "# Will use TweetTokenizer with strip_handles=True to tokenize and lowercase\n",
    "# for now, we're not going to be doing any stemming or lemmatization,\n",
    "# so I'll just use the class as-is\n",
    "tweettokenizer = TweetTokenizer(preserve_case=False, strip_handles=True)\n",
    "\n",
    "# pre-processing pipeline to transform into vectors\n",
    "prep_pipe = Pipeline([\n",
    "    ('vect', CountVectorizer(tokenizer=tweettokenizer.tokenize)),\n",
    "    ('trans', TfidfTransformer())\n",
    "])\n"
   ]
  },
  {
   "cell_type": "markdown",
   "metadata": {},
   "source": [
    "## Baseline Dummy Classifier"
   ]
  },
  {
   "cell_type": "code",
   "execution_count": 499,
   "metadata": {
    "ExecuteTime": {
     "end_time": "2021-06-18T16:02:52.181501Z",
     "start_time": "2021-06-18T16:02:50.082925Z"
    }
   },
   "outputs": [
    {
     "name": "stdout",
     "output_type": "stream",
     "text": [
      "****************************** Training Data ******************************\n",
      "              precision    recall  f1-score   support\n",
      "\n",
      "           0       0.84      0.84      0.84      2382\n",
      "           1       0.17      0.17      0.17       456\n",
      "\n",
      "    accuracy                           0.73      2838\n",
      "   macro avg       0.50      0.50      0.50      2838\n",
      "weighted avg       0.73      0.73      0.73      2838\n",
      "\n",
      "\n",
      "****************************** Test Data ******************************\n",
      "              precision    recall  f1-score   support\n",
      "\n",
      "           0       0.85      0.86      0.86       596\n",
      "           1       0.24      0.23      0.24       114\n",
      "\n",
      "    accuracy                           0.76       710\n",
      "   macro avg       0.55      0.55      0.55       710\n",
      "weighted avg       0.76      0.76      0.76       710\n",
      "\n",
      "\n",
      "****************************** Training Scores ******************************\n",
      "            Training Macro F1 = 0.5031\n",
      "        Training Macro Recall = 0.5031\n",
      "   Training Balanced Accuracy = 0.5031\n",
      "\n",
      "****************************** Test Scores ******************************\n",
      "                Test Macro F1 = 0.5472\n",
      "            Test Macro Recall = 0.5461\n",
      "       Test Balanced Accuracy = 0.5461\n",
      "\n",
      "****************************** Differences ******************************\n",
      "         Train-Test Macro F1 Diff = 0.04410000000000003\n",
      "     Train-Test Macro Recall Diff = 0.04300000000000004\n",
      "Train-Test Balanced Accuracy Diff = 0.04300000000000004\n",
      "\n",
      "****************************** Graphs for Test ******************************\n"
     ]
    },
    {
     "data": {
      "image/png": "[encoded data removed]",
      "text/plain": [
       "<Figure size 720x216 with 4 Axes>"
      ]
     },
     "metadata": {
      "needs_background": "light"
     },
     "output_type": "display_data"
    }
   ],
   "source": [
    "# Let's make a baseline classifier using the dummy model\n",
    "clf_pipe = Pipeline([\n",
    "    ('prep', prep_pipe),\n",
    "    ('clf', DummyClassifier(strategy='stratified'))\n",
    "])\n",
    "\n",
    "clf_pipe.fit(X_train, y_train)\n",
    "\n",
    "eval_clf_model(clf_pipe, X_test, y_test, X_train, y_train, \n",
    "               labels=class_labels)"
   ]
  },
  {
   "cell_type": "markdown",
   "metadata": {},
   "source": [
    "##  Testing Freq Options on Multinomial Bayes Models\n",
    "\n",
    "I'm going to run a few models using a Multinomial Bayes classifier, with minimal processing.\n",
    "\n",
    "All of the models below are using the preprocessed documents (non-ASCII characters and numbers removed), with Twitter handles removed and lowercasing performed by the TweetTokenizer. \n",
    "\n",
    "I'm not removing stopwords or punctuation yet for these baseline models.\n",
    "\n",
    "I'm also not experimenting with different sizes of n-grams.\n",
    "\n",
    "The main thing I do want to try to determine is which method of calculating the Document Term Matrix is best for this text. \n",
    "Regular `CountVectorizer` with the raw counts, binary count, or TF-IDF normalized. The [sklearn documentation mentions](https://scikit-learn.org/stable/modules/feature_extraction.html#text-feature-extraction):\n",
    ">\"...very short texts are likely to have noisy tf–idf values while the binary occurrence info is more stable.\"\n",
    "\n",
    "Rather than gridsearch through the different types of vectorizers, which will x3 my computational load and time, I'd prefer to settle on one of these vectorizing options up front and use gridsearch for other parameters and processing options such as n-grams and which stop-words to remove."
   ]
  },
  {
   "cell_type": "code",
   "execution_count": 500,
   "metadata": {
    "ExecuteTime": {
     "end_time": "2021-06-18T16:02:52.474161Z",
     "start_time": "2021-06-18T16:02:52.413731Z"
    }
   },
   "outputs": [],
   "source": [
    "# modling pipeline with preprocessing and model built in\n",
    "clf_pipe = Pipeline([\n",
    "    ('prep', prep_pipe),\n",
    "    ('clf', MultinomialNB())\n",
    "])"
   ]
  },
  {
   "cell_type": "markdown",
   "metadata": {},
   "source": [
    "### Tfidf Standardized Doc Term Matrix"
   ]
  },
  {
   "cell_type": "code",
   "execution_count": 501,
   "metadata": {
    "ExecuteTime": {
     "end_time": "2021-06-18T16:02:57.259939Z",
     "start_time": "2021-06-18T16:02:54.814813Z"
    },
    "scrolled": false
   },
   "outputs": [
    {
     "name": "stdout",
     "output_type": "stream",
     "text": [
      "****************************** Training Data ******************************\n",
      "              precision    recall  f1-score   support\n",
      "\n",
      "           0       0.85      1.00      0.92      2382\n",
      "           1       1.00      0.06      0.12       456\n",
      "\n",
      "    accuracy                           0.85      2838\n",
      "   macro avg       0.92      0.53      0.52      2838\n",
      "weighted avg       0.87      0.85      0.79      2838\n",
      "\n",
      "\n",
      "****************************** Test Data ******************************\n",
      "              precision    recall  f1-score   support\n",
      "\n",
      "           0       0.84      1.00      0.91       596\n",
      "           1       1.00      0.01      0.02       114\n",
      "\n",
      "    accuracy                           0.84       710\n",
      "   macro avg       0.92      0.50      0.47       710\n",
      "weighted avg       0.87      0.84      0.77       710\n",
      "\n",
      "\n",
      "****************************** Training Scores ******************************\n",
      "            Training Macro F1 = 0.5166\n",
      "        Training Macro Recall = 0.5307\n",
      "   Training Balanced Accuracy = 0.5307\n",
      "\n",
      "****************************** Test Scores ******************************\n",
      "                Test Macro F1 = 0.4654\n",
      "            Test Macro Recall = 0.5044\n",
      "       Test Balanced Accuracy = 0.5044\n",
      "\n",
      "****************************** Differences ******************************\n",
      "         Train-Test Macro F1 Diff = -0.05119999999999997\n",
      "     Train-Test Macro Recall Diff = -0.02629999999999999\n",
      "Train-Test Balanced Accuracy Diff = -0.02629999999999999\n",
      "\n",
      "****************************** Graphs for Test ******************************\n"
     ]
    },
    {
     "data": {
      "image/png": "[encoded data removed]",
      "text/plain": [
       "<Figure size 720x216 with 4 Axes>"
      ]
     },
     "metadata": {
      "needs_background": "light"
     },
     "output_type": "display_data"
    }
   ],
   "source": [
    "clf_pipe.fit(X_train, y_train)\n",
    "\n",
    "eval_clf_model(clf_pipe, X_test, y_test, X_train, y_train, labels=class_labels)"
   ]
  },
  {
   "cell_type": "markdown",
   "metadata": {},
   "source": [
    "These results are actually worse than the dummy classifier; it's just predicting positive for almost everything."
   ]
  },
  {
   "cell_type": "markdown",
   "metadata": {},
   "source": [
    "### Counted Doc Term Matrix"
   ]
  },
  {
   "cell_type": "code",
   "execution_count": 502,
   "metadata": {
    "ExecuteTime": {
     "end_time": "2021-06-18T16:03:54.589171Z",
     "start_time": "2021-06-18T16:03:52.314275Z"
    },
    "scrolled": false
   },
   "outputs": [
    {
     "name": "stdout",
     "output_type": "stream",
     "text": [
      "****************************** Training Data ******************************\n",
      "              precision    recall  f1-score   support\n",
      "\n",
      "           0       0.95      0.98      0.97      2382\n",
      "           1       0.90      0.74      0.81       456\n",
      "\n",
      "    accuracy                           0.95      2838\n",
      "   macro avg       0.93      0.86      0.89      2838\n",
      "weighted avg       0.94      0.95      0.94      2838\n",
      "\n",
      "\n",
      "****************************** Test Data ******************************\n",
      "              precision    recall  f1-score   support\n",
      "\n",
      "           0       0.88      0.98      0.93       596\n",
      "           1       0.74      0.32      0.45       114\n",
      "\n",
      "    accuracy                           0.87       710\n",
      "   macro avg       0.81      0.65      0.69       710\n",
      "weighted avg       0.86      0.87      0.85       710\n",
      "\n",
      "\n",
      "****************************** Training Scores ******************************\n",
      "            Training Macro F1 = 0.8907\n",
      "        Training Macro Recall = 0.8628\n",
      "   Training Balanced Accuracy = 0.8628\n",
      "\n",
      "****************************** Test Scores ******************************\n",
      "                Test Macro F1 = 0.6898\n",
      "            Test Macro Recall = 0.6514\n",
      "       Test Balanced Accuracy = 0.6514\n",
      "\n",
      "****************************** Differences ******************************\n",
      "         Train-Test Macro F1 Diff = -0.20090000000000008\n",
      "     Train-Test Macro Recall Diff = -0.21140000000000003\n",
      "Train-Test Balanced Accuracy Diff = -0.21140000000000003\n",
      "\n",
      "****************************** Graphs for Test ******************************\n"
     ]
    },
    {
     "data": {
      "image/png": "[encoded data removed]",
      "text/plain": [
       "<Figure size 720x216 with 4 Axes>"
      ]
     },
     "metadata": {
      "needs_background": "light"
     },
     "output_type": "display_data"
    }
   ],
   "source": [
    "# Since my pipeline includes the Tfidf transformer, I'm explicitly setting\n",
    "# that pipeline step to be passthrough here to remove it\n",
    "clf_pipe.set_params(prep__vect__binary=False)\n",
    "clf_pipe.set_params(prep__trans='passthrough')\n",
    "\n",
    "clf_pipe.fit(X_train, y_train)\n",
    "\n",
    "eval_clf_model(clf_pipe, X_test, y_test, X_train, y_train, labels=class_labels)"
   ]
  },
  {
   "cell_type": "markdown",
   "metadata": {},
   "source": [
    "Better than Tfidf, but still not great on test, with only 32% recall on my target class of Negative.\n",
    "\n",
    "It's also looking pretty overfit to the training data."
   ]
  },
  {
   "cell_type": "markdown",
   "metadata": {},
   "source": [
    "### Binary Doc Term Matrix"
   ]
  },
  {
   "cell_type": "code",
   "execution_count": 503,
   "metadata": {
    "ExecuteTime": {
     "end_time": "2021-06-18T16:08:17.323767Z",
     "start_time": "2021-06-18T16:08:14.856508Z"
    },
    "scrolled": false
   },
   "outputs": [
    {
     "name": "stdout",
     "output_type": "stream",
     "text": [
      "****************************** Training Data ******************************\n",
      "              precision    recall  f1-score   support\n",
      "\n",
      "           0       0.95      0.99      0.97      2382\n",
      "           1       0.92      0.74      0.82       456\n",
      "\n",
      "    accuracy                           0.95      2838\n",
      "   macro avg       0.94      0.86      0.89      2838\n",
      "weighted avg       0.95      0.95      0.95      2838\n",
      "\n",
      "\n",
      "****************************** Test Data ******************************\n",
      "              precision    recall  f1-score   support\n",
      "\n",
      "           0       0.88      0.98      0.92       596\n",
      "           1       0.72      0.27      0.39       114\n",
      "\n",
      "    accuracy                           0.87       710\n",
      "   macro avg       0.80      0.63      0.66       710\n",
      "weighted avg       0.85      0.87      0.84       710\n",
      "\n",
      "\n",
      "****************************** Training Scores ******************************\n",
      "            Training Macro F1 = 0.8947\n",
      "        Training Macro Recall = 0.8634\n",
      "   Training Balanced Accuracy = 0.8634\n",
      "\n",
      "****************************** Test Scores ******************************\n",
      "                Test Macro F1 = 0.6598\n",
      "            Test Macro Recall = 0.6259\n",
      "       Test Balanced Accuracy = 0.6259\n",
      "\n",
      "****************************** Differences ******************************\n",
      "         Train-Test Macro F1 Diff = -0.2349\n",
      "     Train-Test Macro Recall Diff = -0.23749999999999993\n",
      "Train-Test Balanced Accuracy Diff = -0.23749999999999993\n",
      "\n",
      "****************************** Graphs for Test ******************************\n"
     ]
    },
    {
     "data": {
      "image/png": "[encoded data removed]",
      "text/plain": [
       "<Figure size 720x216 with 4 Axes>"
      ]
     },
     "metadata": {
      "needs_background": "light"
     },
     "output_type": "display_data"
    }
   ],
   "source": [
    "# Let's try the binary representation instead of raw counts\n",
    "clf_pipe.set_params(prep__vect__binary=True)\n",
    "clf_pipe.set_params(prep__trans='passthrough')\n",
    "\n",
    "clf_pipe.fit(X_train, y_train)\n",
    "\n",
    "eval_clf_model(clf_pipe, X_test, y_test, X_train, y_train, labels=class_labels)"
   ]
  },
  {
   "cell_type": "markdown",
   "metadata": {},
   "source": [
    "So testing out the different ways I could calculate frequency in the document term matrix, Tfidf performed the poorest on this test where I've done minimal processing (no stopwords or punctuation removal, for instance).\n",
    "\n",
    "The performance difference between binary and count isn't much. Since I'm pretty sure I won't want Tfidf here, I'm going to exclude that option from gridsearching, and just test out binary versus raw counts."
   ]
  },
  {
   "cell_type": "markdown",
   "metadata": {},
   "source": [
    "## GridSearchCVs: no stemming or lemmatization\n",
    "\n",
    "First, I'm going to search through params without applying any stemming or lemmatization, but removing stop words and punctuation."
   ]
  },
  {
   "cell_type": "code",
   "execution_count": 463,
   "metadata": {
    "ExecuteTime": {
     "end_time": "2021-06-17T23:06:26.915233Z",
     "start_time": "2021-06-17T23:06:26.813536Z"
    }
   },
   "outputs": [],
   "source": [
    "# set this variable equal to True to re-run the gridsearches\n",
    "rerun_grid = True"
   ]
  },
  {
   "cell_type": "code",
   "execution_count": null,
   "metadata": {},
   "outputs": [],
   "source": [
    "# Params that will apply to the vectorizer regardless of how the\n",
    "# document term matrix is constructed\n",
    "common_params = {\"vect__stop_words\": [custom_stopwords + punc_custom,\n",
    "            nltk_stopwords + punc_custom,\n",
    "            product_stopwords + custom_stopwords + punc_custom,\n",
    "            punc_custom + product_stopwords + nltk_stopwords],\n",
    "    \"vect__ngram_range\": [(1,1), (1,2), (2,2)],\n",
    "    \"vect__max_features\": [None, 1000]}\n",
    "\n",
    "# Params for the binary frequency, where we don't want to bother with a Tfidf\n",
    "binary_params = {\n",
    "    \"vect__binary\": [True],\n",
    "    \"trans\": ['passthrough']}\n",
    "\n",
    "# params for non-binary frequency, where we want to test both with and without\n",
    "# Tfidf\n",
    "count_params = {\n",
    "    \"vect__binary\": [False],\n",
    "    \"trans\": [TfidfTransformer(), 'passthrough']}"
   ]
  },
  {
   "cell_type": "code",
   "execution_count": null,
   "metadata": {},
   "outputs": [],
   "source": [
    "# classifier-specific params\n",
    "clf_params = {\"clf__penalty\": ['l1', 'l2', 'elasticnet'],\n",
    "    \"clf__fit_intercept\": [True, False],\n",
    "    \"clf__solver\": ['newton-cg', 'lbfgs', 'saga'],\n",
    "    \"clf__C\": [1e6, 1, 0.1]}\n",
    "\n",
    "# combine into a list, where Tfidf transformer is only tried if binary is false\n",
    "grid_params = [{**common_params, **binary_params, **clf_params},\n",
    "               {**common_params, **count_params, **clf_params}]"
   ]
  },
  {
   "cell_type": "markdown",
   "metadata": {},
   "source": [
    "### Multinomial Bayes"
   ]
  },
  {
   "cell_type": "code",
   "execution_count": 465,
   "metadata": {
    "ExecuteTime": {
     "end_time": "2021-06-17T23:06:27.159280Z",
     "start_time": "2021-06-17T23:06:27.047516Z"
    },
    "scrolled": true
   },
   "outputs": [],
   "source": [
    "# Add Multinomial Bayes as the classifier model\n",
    "clf_pipe = Pipeline([\n",
    "    ('prep', prep_pipe),\n",
    "    ('clf', MultinomialNB())\n",
    "])\n",
    "\n",
    "# create a dict of params for MNB\n",
    "mnb_params = {\"clf__fit_prior\": [True, False]}\n",
    "\n",
    "# combine MNB params with the common vector ones\n",
    "grid_params = {**vector_params, **mnb_params}"
   ]
  },
  {
   "cell_type": "code",
   "execution_count": 466,
   "metadata": {
    "ExecuteTime": {
     "end_time": "2021-06-17T23:09:23.476838Z",
     "start_time": "2021-06-17T23:06:27.172007Z"
    },
    "scrolled": false
   },
   "outputs": [
    {
     "name": "stdout",
     "output_type": "stream",
     "text": [
      "Fitting 5 folds for each of 96 candidates, totalling 480 fits\n"
     ]
    },
    {
     "name": "stderr",
     "output_type": "stream",
     "text": [
      "[Parallel(n_jobs=-1)]: Using backend LokyBackend with 4 concurrent workers.\n",
      "[Parallel(n_jobs=-1)]: Done  42 tasks      | elapsed:   47.6s\n",
      "[Parallel(n_jobs=-1)]: Done 192 tasks      | elapsed:  1.5min\n",
      "[Parallel(n_jobs=-1)]: Done 442 tasks      | elapsed:  2.7min\n",
      "[Parallel(n_jobs=-1)]: Done 480 out of 480 | elapsed:  2.9min finished\n"
     ]
    },
    {
     "name": "stdout",
     "output_type": "stream",
     "text": [
      "Pipeline(steps=[('prep',\n",
      "                 Pipeline(steps=[('vect',\n",
      "                                  CountVectorizer(binary=True,\n",
      "                                                  max_features=1000,\n",
      "                                                  stop_words=['a', 'an', 'and',\n",
      "                                                              'am', 'are', 'as',\n",
      "                                                              'at', 'be', 'by',\n",
      "                                                              'for', 'from',\n",
      "                                                              'if', 'in', 'is',\n",
      "                                                              'into', 'it',\n",
      "                                                              \"it's\", 'its',\n",
      "                                                              'itself', 'of',\n",
      "                                                              'on', 'or',\n",
      "                                                              'than', 'that',\n",
      "                                                              'the', 'to',\n",
      "                                                              'austin', 'sxsw',\n",
      "                                                              '#sxsw', 'link', ...],\n",
      "                                                  tokenizer=<bound method TweetTokenizer.tokenize of <nltk.tokenize.casual.TweetTokenizer object at 0x7ff16c50d700>>)),\n",
      "                                 ('trans', 'passthrough')])),\n",
      "                ('clf', MultinomialNB(fit_prior=False))])\n",
      "0.741928251286211\n",
      "****************************** Training Data ******************************\n",
      "              precision    recall  f1-score   support\n",
      "\n",
      "           0       0.97      0.82      0.89      2382\n",
      "           1       0.49      0.87      0.63       456\n",
      "\n",
      "    accuracy                           0.83      2838\n",
      "   macro avg       0.73      0.85      0.76      2838\n",
      "weighted avg       0.89      0.83      0.85      2838\n",
      "\n",
      "\n",
      "****************************** Test Data ******************************\n",
      "              precision    recall  f1-score   support\n",
      "\n",
      "           0       0.94      0.81      0.87       596\n",
      "           1       0.42      0.73      0.54       114\n",
      "\n",
      "    accuracy                           0.80       710\n",
      "   macro avg       0.68      0.77      0.70       710\n",
      "weighted avg       0.86      0.80      0.82       710\n",
      "\n",
      "\n",
      "****************************** Training Scores ******************************\n",
      "            Training Macro F1 = 0.7585\n",
      "        Training Macro Recall = 0.8485\n",
      "   Training Balanced Accuracy = 0.8485\n",
      "\n",
      "****************************** Test Scores ******************************\n",
      "                Test Macro F1 = 0.7029\n",
      "            Test Macro Recall = 0.7692\n",
      "       Test Balanced Accuracy = 0.7692\n",
      "\n",
      "****************************** Differences ******************************\n",
      "         Train-Test Macro F1 Diff = -0.05559999999999998\n",
      "     Train-Test Macro Recall Diff = -0.07930000000000004\n",
      "Train-Test Balanced Accuracy Diff = -0.07930000000000004\n",
      "\n",
      "****************************** Graphs for Test ******************************\n"
     ]
    },
    {
     "data": {
      "image/png": "[encoded data removed]",
      "text/plain": [
       "<Figure size 720x216 with 4 Axes>"
      ]
     },
     "metadata": {
      "needs_background": "light"
     },
     "output_type": "display_data"
    }
   ],
   "source": [
    "if rerun_grid:\n",
    "    # gridsearch object for MNB classifier\n",
    "    # I like F1 macro as the score\n",
    "    gs_mnb = GridSearchCV(clf_pipe, grid_params, n_jobs=-1, verbose=True,\n",
    "                         scoring='recall_macro')\n",
    "\n",
    "    # run the gridsearch\n",
    "    gs_mnb.fit(X_train, y_train)\n",
    "\n",
    "    print(gs_mnb.best_estimator_)\n",
    "    print(gs_mnb.best_score_)\n",
    "\n",
    "    # print the classifier model report\n",
    "    eval_clf_model(gs_mnb, X_test, y_test, X_train, y_train, labels=class_labels)"
   ]
  },
  {
   "cell_type": "markdown",
   "metadata": {},
   "source": [
    "The best model params for Multinomial Bayes are:\n",
    "- Remove my custom stopwords and punctuation, but not product stopwords\n",
    "- Binary doc term matrix instead of count\n",
    "- Use unigrams (not bigrams)\n",
    "- No max features\n",
    "- Do not use the `fit_prior` option for the classifier\n",
    "\n",
    "Although these may be the best options out of the bunch, the model overall does not perform great. Cross-validated F1 macro score was only 0.7, although on my current TTS F1 macro was 0.74 on test. The model also performs much better on training than on test in my current split, so may be overfit."
   ]
  },
  {
   "cell_type": "markdown",
   "metadata": {},
   "source": [
    "### Random Forest"
   ]
  },
  {
   "cell_type": "code",
   "execution_count": 467,
   "metadata": {
    "ExecuteTime": {
     "end_time": "2021-06-17T23:09:23.732426Z",
     "start_time": "2021-06-17T23:09:23.490734Z"
    }
   },
   "outputs": [],
   "source": [
    "# Subbing Random Forest for the classifier\n",
    "clf_pipe = Pipeline([\n",
    "    ('prep', prep_pipe),\n",
    "    ('clf', RandomForestClassifier())\n",
    "])\n",
    "\n",
    "# create a dict of params for RF\n",
    "rf_params = {\"clf__criterion\": ['gini', 'entropy'],\n",
    "    \"clf__max_depth\": [None, 10, 50],\n",
    "    \"clf__class_weight\": [None, 'balanced']}\n",
    "\n",
    "# combine MNB params with the common vector ones\n",
    "grid_params = {**vector_params, **rf_params}"
   ]
  },
  {
   "cell_type": "code",
   "execution_count": 468,
   "metadata": {
    "ExecuteTime": {
     "end_time": "2021-06-17T23:39:59.259962Z",
     "start_time": "2021-06-17T23:09:23.735823Z"
    },
    "scrolled": false
   },
   "outputs": [
    {
     "name": "stdout",
     "output_type": "stream",
     "text": [
      "Fitting 5 folds for each of 576 candidates, totalling 2880 fits\n"
     ]
    },
    {
     "name": "stderr",
     "output_type": "stream",
     "text": [
      "[Parallel(n_jobs=-1)]: Using backend LokyBackend with 4 concurrent workers.\n",
      "[Parallel(n_jobs=-1)]: Done  42 tasks      | elapsed:   39.7s\n",
      "[Parallel(n_jobs=-1)]: Done 192 tasks      | elapsed:  2.7min\n",
      "[Parallel(n_jobs=-1)]: Done 442 tasks      | elapsed:  4.7min\n",
      "[Parallel(n_jobs=-1)]: Done 792 tasks      | elapsed:  8.3min\n",
      "[Parallel(n_jobs=-1)]: Done 1242 tasks      | elapsed: 12.7min\n",
      "[Parallel(n_jobs=-1)]: Done 1792 tasks      | elapsed: 19.0min\n",
      "[Parallel(n_jobs=-1)]: Done 2442 tasks      | elapsed: 26.6min\n",
      "[Parallel(n_jobs=-1)]: Done 2880 out of 2880 | elapsed: 30.5min finished\n",
      "/Users/jessicamiles/opt/anaconda3/envs/learn-env2/lib/python3.8/site-packages/sklearn/feature_extraction/text.py:383: UserWarning: Your stop_words may be inconsistent with your preprocessing. Tokenizing the stop words generated tokens ['2'] not in stop_words.\n",
      "  warnings.warn('Your stop_words may be inconsistent with '\n"
     ]
    },
    {
     "name": "stdout",
     "output_type": "stream",
     "text": [
      "Pipeline(steps=[('prep',\n",
      "                 Pipeline(steps=[('vect',\n",
      "                                  CountVectorizer(max_features=1000,\n",
      "                                                  stop_words=['google', 'apple',\n",
      "                                                              'ipad', 'iphone',\n",
      "                                                              'android',\n",
      "                                                              'ipad2',\n",
      "                                                              '#google',\n",
      "                                                              '#apple', '#ipad',\n",
      "                                                              '#iphone',\n",
      "                                                              '#android',\n",
      "                                                              '#ipad2', 'a',\n",
      "                                                              'an', 'and', 'am',\n",
      "                                                              'are', 'as', 'at',\n",
      "                                                              'be', 'by', 'for',\n",
      "                                                              'from', 'if',\n",
      "                                                              'in', 'is',\n",
      "                                                              'into', 'it',\n",
      "                                                              \"it's\", 'its', ...],\n",
      "                                                  tokenizer=<bound method TweetTokenizer.tokenize of <nltk.tokenize.casual.TweetTokenizer object at 0x7ff16cbdc520>>)),\n",
      "                                 ('trans', 'passthrough')])),\n",
      "                ('clf',\n",
      "                 RandomForestClassifier(class_weight='balanced',\n",
      "                                        criterion='entropy', max_depth=10))])\n",
      "0.7021573196704692\n",
      "****************************** Training Data ******************************\n",
      "              precision    recall  f1-score   support\n",
      "\n",
      "           0       0.96      0.88      0.92      2382\n",
      "           1       0.55      0.79      0.65       456\n",
      "\n",
      "    accuracy                           0.86      2838\n",
      "   macro avg       0.75      0.83      0.78      2838\n",
      "weighted avg       0.89      0.86      0.87      2838\n",
      "\n",
      "\n",
      "****************************** Test Data ******************************\n",
      "              precision    recall  f1-score   support\n",
      "\n",
      "           0       0.93      0.84      0.88       596\n",
      "           1       0.44      0.65      0.53       114\n",
      "\n",
      "    accuracy                           0.81       710\n",
      "   macro avg       0.68      0.75      0.70       710\n",
      "weighted avg       0.85      0.81      0.83       710\n",
      "\n",
      "\n",
      "****************************** Training Scores ******************************\n",
      "            Training Macro F1 = 0.7827\n",
      "        Training Macro Recall = 0.8343\n",
      "   Training Balanced Accuracy = 0.8343\n",
      "\n",
      "****************************** Test Scores ******************************\n",
      "                Test Macro F1 = 0.705\n",
      "            Test Macro Recall = 0.7465\n",
      "       Test Balanced Accuracy = 0.7465\n",
      "\n",
      "****************************** Differences ******************************\n",
      "         Train-Test Macro F1 Diff = -0.07769999999999999\n",
      "     Train-Test Macro Recall Diff = -0.08779999999999999\n",
      "Train-Test Balanced Accuracy Diff = -0.08779999999999999\n",
      "\n",
      "****************************** Graphs for Test ******************************\n"
     ]
    },
    {
     "data": {
      "image/png": "[encoded data removed]",
      "text/plain": [
       "<Figure size 720x216 with 4 Axes>"
      ]
     },
     "metadata": {
      "needs_background": "light"
     },
     "output_type": "display_data"
    }
   ],
   "source": [
    "if rerun_grid:\n",
    "    gs_rf = GridSearchCV(clf_pipe, grid_params, n_jobs=-1, verbose=True,\n",
    "                         scoring='recall_macro')\n",
    "\n",
    "\n",
    "    gs_rf.fit(X_train, y_train)\n",
    "\n",
    "    print(gs_rf.best_estimator_)\n",
    "    print(gs_rf.best_score_)\n",
    "\n",
    "    eval_clf_model(gs_rf, X_test, y_test, X_train, y_train, labels=class_labels)"
   ]
  },
  {
   "cell_type": "markdown",
   "metadata": {},
   "source": [
    "This didn't perform much better than Multinomial Bayes, and is still pretty bad at predicting negative emotions.\n",
    "\n",
    "However, it agrees with Multinomial Bayes that the best vectorizer parameters are the custom stopwords set without products, and unigrams."
   ]
  },
  {
   "cell_type": "markdown",
   "metadata": {},
   "source": [
    "### Logistic Regression"
   ]
  },
  {
   "cell_type": "code",
   "execution_count": 469,
   "metadata": {
    "ExecuteTime": {
     "end_time": "2021-06-17T23:39:59.525413Z",
     "start_time": "2021-06-17T23:39:59.268904Z"
    }
   },
   "outputs": [],
   "source": [
    "# Subbing in Logistic Regression for classifier in pipeline\n",
    "# adding class_weight=Balanced by default, and also upping the max_iter\n",
    "# since I'm testing different solvers and have a lot of features\n",
    "clf_pipe = Pipeline([\n",
    "    ('prep', prep_pipe),\n",
    "    ('clf', LogisticRegression(max_iter=500, class_weight='balanced'))\n",
    "])\n",
    "\n",
    "# create a dict of params for LR\n",
    "lr_params = {\"clf__penalty\": ['l1', 'l2', 'elasticnet'],\n",
    "    \"clf__fit_intercept\": [True, False],\n",
    "    \"clf__solver\": ['newton-cg', 'lbfgs', 'saga'],\n",
    "    \"clf__C\": [1e6, 1, 0.1]}\n",
    "\n",
    "# combine LR params with the common vector ones\n",
    "grid_params = {**vector_params, **lr_params}"
   ]
  },
  {
   "cell_type": "code",
   "execution_count": 470,
   "metadata": {
    "ExecuteTime": {
     "end_time": "2021-06-18T03:21:19.341026Z",
     "start_time": "2021-06-17T23:39:59.529780Z"
    },
    "scrolled": false
   },
   "outputs": [
    {
     "name": "stdout",
     "output_type": "stream",
     "text": [
      "Fitting 5 folds for each of 2592 candidates, totalling 12960 fits\n"
     ]
    },
    {
     "name": "stderr",
     "output_type": "stream",
     "text": [
      "[Parallel(n_jobs=-1)]: Using backend LokyBackend with 4 concurrent workers.\n",
      "[Parallel(n_jobs=-1)]: Done  42 tasks      | elapsed:   10.4s\n",
      "[Parallel(n_jobs=-1)]: Done 192 tasks      | elapsed:   44.7s\n",
      "[Parallel(n_jobs=-1)]: Done 442 tasks      | elapsed:  2.0min\n",
      "[Parallel(n_jobs=-1)]: Done 792 tasks      | elapsed: 77.5min\n",
      "[Parallel(n_jobs=-1)]: Done 1242 tasks      | elapsed: 82.1min\n",
      "[Parallel(n_jobs=-1)]: Done 1792 tasks      | elapsed: 84.9min\n",
      "[Parallel(n_jobs=-1)]: Done 2442 tasks      | elapsed: 87.4min\n",
      "[Parallel(n_jobs=-1)]: Done 3192 tasks      | elapsed: 165.0min\n",
      "[Parallel(n_jobs=-1)]: Done 4042 tasks      | elapsed: 170.3min\n",
      "[Parallel(n_jobs=-1)]: Done 4992 tasks      | elapsed: 179.4min\n",
      "[Parallel(n_jobs=-1)]: Done 6042 tasks      | elapsed: 185.6min\n",
      "[Parallel(n_jobs=-1)]: Done 7192 tasks      | elapsed: 195.6min\n",
      "[Parallel(n_jobs=-1)]: Done 8442 tasks      | elapsed: 201.5min\n",
      "[Parallel(n_jobs=-1)]: Done 9792 tasks      | elapsed: 207.6min\n",
      "[Parallel(n_jobs=-1)]: Done 11242 tasks      | elapsed: 213.6min\n",
      "[Parallel(n_jobs=-1)]: Done 12792 tasks      | elapsed: 220.6min\n",
      "[Parallel(n_jobs=-1)]: Done 12960 out of 12960 | elapsed: 221.3min finished\n",
      "/Users/jessicamiles/opt/anaconda3/envs/learn-env2/lib/python3.8/site-packages/sklearn/feature_extraction/text.py:383: UserWarning: Your stop_words may be inconsistent with your preprocessing. Tokenizing the stop words generated tokens ['2'] not in stop_words.\n",
      "  warnings.warn('Your stop_words may be inconsistent with '\n"
     ]
    },
    {
     "name": "stdout",
     "output_type": "stream",
     "text": [
      "Pipeline(steps=[('prep',\n",
      "                 Pipeline(steps=[('vect',\n",
      "                                  CountVectorizer(binary=True,\n",
      "                                                  stop_words=['google', 'apple',\n",
      "                                                              'ipad', 'iphone',\n",
      "                                                              'android',\n",
      "                                                              'ipad2',\n",
      "                                                              '#google',\n",
      "                                                              '#apple', '#ipad',\n",
      "                                                              '#iphone',\n",
      "                                                              '#android',\n",
      "                                                              '#ipad2', 'a',\n",
      "                                                              'an', 'and', 'am',\n",
      "                                                              'are', 'as', 'at',\n",
      "                                                              'be', 'by', 'for',\n",
      "                                                              'from', 'if',\n",
      "                                                              'in', 'is',\n",
      "                                                              'into', 'it',\n",
      "                                                              \"it's\", 'its', ...],\n",
      "                                                  tokenizer=<bound method TweetTokenizer.tokenize of <nltk.tokenize.casual.TweetTokenizer object at 0x7ff174cd63a0>>)),\n",
      "                                 ('trans', 'passthrough')])),\n",
      "                ('clf',\n",
      "                 LogisticRegression(C=0.1, class_weight='balanced',\n",
      "                                    fit_intercept=False, max_iter=500,\n",
      "                                    solver='newton-cg'))])\n",
      "0.7466581889481565\n",
      "****************************** Training Data ******************************\n",
      "              precision    recall  f1-score   support\n",
      "\n",
      "           0       0.99      0.88      0.93      2382\n",
      "           1       0.61      0.95      0.74       456\n",
      "\n",
      "    accuracy                           0.89      2838\n",
      "   macro avg       0.80      0.92      0.84      2838\n",
      "weighted avg       0.93      0.89      0.90      2838\n",
      "\n",
      "\n",
      "****************************** Test Data ******************************\n",
      "              precision    recall  f1-score   support\n",
      "\n",
      "           0       0.94      0.83      0.88       596\n",
      "           1       0.44      0.72      0.55       114\n",
      "\n",
      "    accuracy                           0.81       710\n",
      "   macro avg       0.69      0.77      0.71       710\n",
      "weighted avg       0.86      0.81      0.83       710\n",
      "\n",
      "\n",
      "****************************** Training Scores ******************************\n",
      "            Training Macro F1 = 0.837\n",
      "        Training Macro Recall = 0.9153\n",
      "   Training Balanced Accuracy = 0.9153\n",
      "\n",
      "****************************** Test Scores ******************************\n",
      "                Test Macro F1 = 0.7126\n",
      "            Test Macro Recall = 0.7724\n",
      "       Test Balanced Accuracy = 0.7724\n",
      "\n",
      "****************************** Differences ******************************\n",
      "         Train-Test Macro F1 Diff = -0.12439999999999996\n",
      "     Train-Test Macro Recall Diff = -0.14290000000000003\n",
      "Train-Test Balanced Accuracy Diff = -0.14290000000000003\n",
      "\n",
      "****************************** Graphs for Test ******************************\n"
     ]
    },
    {
     "data": {
      "image/png": "[encoded data removed]",
      "text/plain": [
       "<Figure size 720x216 with 4 Axes>"
      ]
     },
     "metadata": {
      "needs_background": "light"
     },
     "output_type": "display_data"
    }
   ],
   "source": [
    "if rerun_grid:\n",
    "    gs_lr = GridSearchCV(clf_pipe, grid_params, n_jobs=-1, verbose=True,\n",
    "                         scoring='recall_macro')\n",
    "\n",
    "\n",
    "    gs_lr.fit(X_train, y_train)\n",
    "\n",
    "    print(gs_lr.best_estimator_)\n",
    "    print(gs_lr.best_score_)\n",
    "\n",
    "    eval_clf_model(gs_lr, X_test, y_test, X_train, y_train, labels=class_labels)"
   ]
  },
  {
   "cell_type": "markdown",
   "metadata": {},
   "source": [
    "Slightly better than the previous two model types, with F1 macro of 0.73 on CV. The AUC and AP from Precision-Recall plot do look better than the previous models as well, with an AUC of 0.76 compared to 0.72 for RF and 0.65 for Multinomial Bayes.\n",
    "\n",
    "Interestingly, this model was the first to choose unigrams and bigrams as the parameter for the best model; the others all stuck with unigrams.\n",
    "\n",
    "This is the third model where the best model's `max_features` in the vectorizer step was `None`, and the stop words list for the best model was the minimal one I created, not including the product-related stop words. I interpret this to mean that when we're using regular word vectors with counts, the words that make a difference in terms of emotion are not among the most common; they are less commonly used, perhaps more varied words. \n",
    "\n",
    "This makes sense if we consider that the words we use to express frustration or describe things we don't like certainly vary a lot, so it would be unlikely for us to see a bunch of really common words. That being said, I'm wondering which words had the highest coefficients from this model."
   ]
  },
  {
   "cell_type": "code",
   "execution_count": 471,
   "metadata": {
    "ExecuteTime": {
     "end_time": "2021-06-18T03:21:19.816292Z",
     "start_time": "2021-06-18T03:21:19.379152Z"
    }
   },
   "outputs": [
    {
     "data": {
      "text/plain": [
       "['models/best_lr_model.joblib.gz']"
      ]
     },
     "execution_count": 471,
     "metadata": {},
     "output_type": "execute_result"
    }
   ],
   "source": [
    "# pull out the best model from the Logistic Regression gridsearch\n",
    "lr = gs_lr.best_estimator_.named_steps['clf']\n",
    "\n",
    "# save out best model for later, if needed\n",
    "model_path = 'models/'\n",
    "joblib.dump(lr, f\"{model_path}best_lr_model.joblib.gz\")"
   ]
  },
  {
   "cell_type": "markdown",
   "metadata": {},
   "source": [
    "## Try out some stemming and lemmatization"
   ]
  },
  {
   "cell_type": "code",
   "execution_count": 472,
   "metadata": {
    "ExecuteTime": {
     "end_time": "2021-06-18T03:21:19.915172Z",
     "start_time": "2021-06-18T03:21:19.829742Z"
    },
    "scrolled": false
   },
   "outputs": [],
   "source": [
    "#nltk.download('wordnet')"
   ]
  },
  {
   "cell_type": "code",
   "execution_count": 473,
   "metadata": {
    "ExecuteTime": {
     "end_time": "2021-06-18T03:21:20.013729Z",
     "start_time": "2021-06-18T03:21:19.924810Z"
    }
   },
   "outputs": [
    {
     "data": {
      "text/plain": [
       "'test'"
      ]
     },
     "execution_count": 473,
     "metadata": {},
     "output_type": "execute_result"
    }
   ],
   "source": [
    "stemmer = PorterStemmer()\n",
    "stemmer.stem('testing')"
   ]
  },
  {
   "cell_type": "code",
   "execution_count": 474,
   "metadata": {
    "ExecuteTime": {
     "end_time": "2021-06-18T03:21:20.146767Z",
     "start_time": "2021-06-18T03:21:20.025794Z"
    }
   },
   "outputs": [
    {
     "data": {
      "text/plain": [
       "'testing'"
      ]
     },
     "execution_count": 474,
     "metadata": {},
     "output_type": "execute_result"
    }
   ],
   "source": [
    "lemmatizer = WordNetLemmatizer()\n",
    "lemmatizer.lemmatize(\"testing\")"
   ]
  },
  {
   "cell_type": "code",
   "execution_count": 475,
   "metadata": {
    "ExecuteTime": {
     "end_time": "2021-06-18T03:21:20.243087Z",
     "start_time": "2021-06-18T03:21:20.163618Z"
    }
   },
   "outputs": [
    {
     "data": {
      "text/plain": [
       "'foot'"
      ]
     },
     "execution_count": 475,
     "metadata": {},
     "output_type": "execute_result"
    }
   ],
   "source": [
    "lemmatizer.lemmatize(\"feet\")"
   ]
  },
  {
   "cell_type": "markdown",
   "metadata": {},
   "source": [
    "Hmm, so the lemmatizer is not doing the best job here even with a simple word like `testing`. Stemming did much better with that.\n",
    "\n",
    "Maybe I'll try passing through lemmatizer first (which will leave words it can't do anything with alone, but change what it can) and then do stemming separately."
   ]
  },
  {
   "cell_type": "code",
   "execution_count": 476,
   "metadata": {
    "ExecuteTime": {
     "end_time": "2021-06-18T03:21:20.326590Z",
     "start_time": "2021-06-18T03:21:20.254005Z"
    }
   },
   "outputs": [],
   "source": [
    "def tokenize_lemma_stem(doc):\n",
    "    \"\"\"\n",
    "    Applies TweetTokenization, then lemmatization and stemming in one shot.\n",
    "    \n",
    "    Uses NLTK, so assumes the appropriate NLTK classes have been imported.\n",
    "    \n",
    "    Uses TweetTokenizer to tokenize documents first, and remove handles.\n",
    "    Then uses NLTK lemmatization on each token.\n",
    "    Finally, applies stemming to each token.\n",
    "    \"\"\"\n",
    "    tweettokenizer = TweetTokenizer(preserve_case=False, strip_handles=True)\n",
    "    lemmatizer = WordNetLemmatizer()\n",
    "    stemmer = PorterStemmer()\n",
    "    \n",
    "    # tokenize using TweetTokenizer\n",
    "    tokens = tweettokenizer.tokenize(doc)\n",
    "    \n",
    "    # lemmatize using NLTK\n",
    "    tokens = [lemmatizer.lemmatize(token) for token in tokens]\n",
    "    \n",
    "    # stem using NLTK\n",
    "    tokens = [stemmer.stem(token, ) for token in tokens]\n",
    "    \n",
    "    return tokens"
   ]
  },
  {
   "cell_type": "markdown",
   "metadata": {},
   "source": [
    "Let's test it out!"
   ]
  },
  {
   "cell_type": "code",
   "execution_count": 477,
   "metadata": {
    "ExecuteTime": {
     "end_time": "2021-06-18T03:21:20.448211Z",
     "start_time": "2021-06-18T03:21:20.329609Z"
    }
   },
   "outputs": [
    {
     "data": {
      "text/plain": [
       "['thi',\n",
       " \"isn't\",\n",
       " 'what',\n",
       " 'i',\n",
       " 'wa',\n",
       " 'hope',\n",
       " 'for',\n",
       " '.',\n",
       " \"i'm\",\n",
       " 'test',\n",
       " '.',\n",
       " 'foot',\n",
       " 'and',\n",
       " 'hand',\n",
       " '.',\n",
       " 'what',\n",
       " 'do',\n",
       " 'you',\n",
       " 'think',\n",
       " '?',\n",
       " 'think',\n",
       " '?']"
      ]
     },
     "execution_count": 477,
     "metadata": {},
     "output_type": "execute_result"
    }
   ],
   "source": [
    "tokenize_lemma_stem(\"This isn't what I was hoping for. I'm testing. Feet and hands. What do you think? Thinking?\")"
   ]
  },
  {
   "cell_type": "code",
   "execution_count": 478,
   "metadata": {
    "ExecuteTime": {
     "end_time": "2021-06-18T03:21:20.530329Z",
     "start_time": "2021-06-18T03:21:20.452952Z"
    }
   },
   "outputs": [],
   "source": [
    "# Create a new pipeline using a custom TweetTokenizer that also applies\n",
    "# both stemming and lemmatization\n",
    "\n",
    "stem_pipe = Pipeline([\n",
    "    ('vect', CountVectorizer(tokenizer=tokenize_lemma_stem)),\n",
    "    ('trans', TfidfTransformer()),\n",
    "    ('clf', LogisticRegression(max_iter=500, class_weight='balanced'))\n",
    "])"
   ]
  },
  {
   "cell_type": "code",
   "execution_count": 479,
   "metadata": {
    "ExecuteTime": {
     "end_time": "2021-06-18T03:21:20.616266Z",
     "start_time": "2021-06-18T03:21:20.532873Z"
    }
   },
   "outputs": [],
   "source": [
    "# Params that will apply to the vectorizer and clf regardless of how the\n",
    "# document term matrix is constructed\n",
    "common_params = {\"vect__stop_words\": [custom_stopwords + punc_custom,\n",
    "            nltk_stopwords + punc_custom,\n",
    "            product_stopwords + custom_stopwords + punc_custom,\n",
    "            punc_custom + product_stopwords + nltk_stopwords],\n",
    "    \"vect__ngram_range\": [(1,1), (1,2)],\n",
    "    \"clf__penalty\": ['l1', 'l2', 'elasticnet'],\n",
    "    \"clf__fit_intercept\": [True, False],\n",
    "    \"clf__solver\": ['newton-cg', 'lbfgs', 'saga'],\n",
    "    \"clf__C\": [1e6, 1, 0.1]}\n",
    "\n",
    "binary_params = {\n",
    "    \"vect__binary\": [True],\n",
    "    \"trans\": ['passthrough']}\n",
    "\n",
    "count_params = {\n",
    "    \"vect__binary\": [False],\n",
    "    \"trans\": [TfidfTransformer(), 'passthrough']}\n",
    "\n",
    "# combine into a list, where Tfidf transformer is only tried if binary is false\n",
    "grid_params = [{**common_params, **binary_params},\n",
    "               {**common_params, **count_params}]"
   ]
  },
  {
   "cell_type": "code",
   "execution_count": 480,
   "metadata": {
    "ExecuteTime": {
     "end_time": "2021-06-18T06:52:14.125949Z",
     "start_time": "2021-06-18T03:21:20.619243Z"
    },
    "scrolled": false
   },
   "outputs": [
    {
     "name": "stdout",
     "output_type": "stream",
     "text": [
      "Fitting 5 folds for each of 1296 candidates, totalling 6480 fits\n"
     ]
    },
    {
     "name": "stderr",
     "output_type": "stream",
     "text": [
      "[Parallel(n_jobs=-1)]: Using backend LokyBackend with 4 concurrent workers.\n",
      "[Parallel(n_jobs=-1)]: Done  42 tasks      | elapsed:   42.5s\n",
      "[Parallel(n_jobs=-1)]: Done 192 tasks      | elapsed: 23.0min\n",
      "[Parallel(n_jobs=-1)]: Done 442 tasks      | elapsed: 27.7min\n",
      "[Parallel(n_jobs=-1)]: Done 792 tasks      | elapsed: 52.8min\n",
      "[Parallel(n_jobs=-1)]: Done 1242 tasks      | elapsed: 62.3min\n",
      "[Parallel(n_jobs=-1)]: Done 1792 tasks      | elapsed: 71.3min\n",
      "[Parallel(n_jobs=-1)]: Done 2442 tasks      | elapsed: 115.9min\n",
      "[Parallel(n_jobs=-1)]: Done 3192 tasks      | elapsed: 160.9min\n",
      "[Parallel(n_jobs=-1)]: Done 4042 tasks      | elapsed: 174.9min\n",
      "[Parallel(n_jobs=-1)]: Done 4992 tasks      | elapsed: 189.8min\n",
      "[Parallel(n_jobs=-1)]: Done 6042 tasks      | elapsed: 204.5min\n",
      "[Parallel(n_jobs=-1)]: Done 6480 out of 6480 | elapsed: 210.8min finished\n",
      "/Users/jessicamiles/opt/anaconda3/envs/learn-env2/lib/python3.8/site-packages/sklearn/feature_extraction/text.py:383: UserWarning: Your stop_words may be inconsistent with your preprocessing. Tokenizing the stop words generated tokens [\"it'\"] not in stop_words.\n",
      "  warnings.warn('Your stop_words may be inconsistent with '\n"
     ]
    },
    {
     "name": "stdout",
     "output_type": "stream",
     "text": [
      "Pipeline(steps=[('vect',\n",
      "                 CountVectorizer(ngram_range=(1, 2),\n",
      "                                 stop_words=['a', 'an', 'and', 'am', 'are',\n",
      "                                             'as', 'at', 'be', 'by', 'for',\n",
      "                                             'from', 'if', 'in', 'is', 'into',\n",
      "                                             'it', \"it's\", 'its', 'itself',\n",
      "                                             'of', 'on', 'or', 'than', 'that',\n",
      "                                             'the', 'to', 'austin', 'sxsw',\n",
      "                                             '#sxsw', 'link', ...],\n",
      "                                 tokenizer=<function tokenize_lemma_stem at 0x7ff175280670>)),\n",
      "                ('trans', TfidfTransformer()),\n",
      "                ('clf',\n",
      "                 LogisticRegression(C=0.1, class_weight='balanced',\n",
      "                                    fit_intercept=False, max_iter=500,\n",
      "                                    solver='newton-cg'))])\n",
      "0.7579163557894919\n",
      "****************************** Training Data ******************************\n",
      "              precision    recall  f1-score   support\n",
      "\n",
      "           0       0.99      0.87      0.93      2382\n",
      "           1       0.58      0.95      0.72       456\n",
      "\n",
      "    accuracy                           0.88      2838\n",
      "   macro avg       0.79      0.91      0.82      2838\n",
      "weighted avg       0.92      0.88      0.89      2838\n",
      "\n",
      "\n",
      "****************************** Test Data ******************************\n",
      "              precision    recall  f1-score   support\n",
      "\n",
      "           0       0.94      0.81      0.87       596\n",
      "           1       0.43      0.75      0.54       114\n",
      "\n",
      "    accuracy                           0.80       710\n",
      "   macro avg       0.69      0.78      0.71       710\n",
      "weighted avg       0.86      0.80      0.82       710\n",
      "\n",
      "\n",
      "****************************** Training Scores ******************************\n",
      "            Training Macro F1 = 0.8246\n",
      "        Training Macro Recall = 0.9092\n",
      "   Training Balanced Accuracy = 0.9092\n",
      "\n",
      "****************************** Test Scores ******************************\n",
      "                Test Macro F1 = 0.7084\n",
      "            Test Macro Recall = 0.778\n",
      "       Test Balanced Accuracy = 0.778\n",
      "\n",
      "****************************** Differences ******************************\n",
      "         Train-Test Macro F1 Diff = -0.11619999999999997\n",
      "     Train-Test Macro Recall Diff = -0.13119999999999998\n",
      "Train-Test Balanced Accuracy Diff = -0.13119999999999998\n",
      "\n",
      "****************************** Graphs for Test ******************************\n"
     ]
    },
    {
     "data": {
      "image/png": "[encoded data removed]",
      "text/plain": [
       "<Figure size 720x216 with 4 Axes>"
      ]
     },
     "metadata": {
      "needs_background": "light"
     },
     "output_type": "display_data"
    }
   ],
   "source": [
    "gs_lr2 = GridSearchCV(stem_pipe, grid_params, n_jobs=-1, verbose=True,\n",
    "                     scoring='recall_macro')\n",
    "\n",
    "\n",
    "gs_lr2.fit(X_train, y_train)\n",
    "\n",
    "print(gs_lr2.best_estimator_)\n",
    "print(gs_lr2.best_score_)\n",
    "\n",
    "eval_clf_model(gs_lr2, X_test, y_test, X_train, y_train, labels=class_labels)"
   ]
  },
  {
   "cell_type": "markdown",
   "metadata": {},
   "source": [
    "## Deeper dive into Logistic Regression\n",
    "\n",
    "Of the simpler models I've tried so far, Logistic Regression has performed the best. I'd also like to try a Support Vector Machine, but I know it will be less easy to interpret. \n",
    "\n",
    "I'm going to take a look at the coefficients from the best LR model so far first, and see how it looks. I'll also probably try a few more tweaks for LR, including trying stemming, lemmatization, and maybe testing Tfidf there just to see if it makes a difference."
   ]
  },
  {
   "cell_type": "code",
   "execution_count": null,
   "metadata": {
    "ExecuteTime": {
     "end_time": "2021-06-17T23:05:06.779574Z",
     "start_time": "2021-06-17T23:05:05.200Z"
    }
   },
   "outputs": [],
   "source": [
    "# get the feature names representing the words from the best estimator\n",
    "# had to dig back through the named features in the pipelines\n",
    "feature_names = gs_lr.best_estimator_.named_steps['prep'].named_steps['vect']\\\n",
    "    .get_feature_names()\n",
    "feature_names[:5]"
   ]
  },
  {
   "cell_type": "code",
   "execution_count": null,
   "metadata": {
    "ExecuteTime": {
     "end_time": "2021-06-17T23:05:06.782555Z",
     "start_time": "2021-06-17T23:05:05.207Z"
    },
    "scrolled": false
   },
   "outputs": [],
   "source": [
    "# convert logit coefficients from log odds to odds ratios\n",
    "lr_odds = np.exp(lr.coef_[0])\n",
    "lr_odds_s = pd.Series(lr_odds, index=feature_names)\n",
    "lr_odds_s.sort_values(ascending=False)[:10]"
   ]
  },
  {
   "cell_type": "code",
   "execution_count": null,
   "metadata": {
    "ExecuteTime": {
     "end_time": "2021-06-17T23:05:06.787299Z",
     "start_time": "2021-06-17T23:05:05.214Z"
    },
    "scrolled": true
   },
   "outputs": [],
   "source": [
    "lr_odds_s.describe()"
   ]
  },
  {
   "cell_type": "markdown",
   "metadata": {},
   "source": [
    "The descriptive statistics for the odds ratios of negative/positive are within the realm of what I would expect.\n",
    "\n",
    "The mean is around 1, so the odds of negative versus positive are about equal for the majority of n-grams. \n",
    "\n",
    "It makes sense to me that even up to the 75th percentile of odds ratios are slightly less than 1 (odds of negative are slightly less than positive); this model is definitely better at predicting positive than negative, and mostly leans that way."
   ]
  },
  {
   "cell_type": "code",
   "execution_count": null,
   "metadata": {
    "ExecuteTime": {
     "end_time": "2021-06-17T23:05:06.791662Z",
     "start_time": "2021-06-17T23:05:05.223Z"
    },
    "scrolled": false
   },
   "outputs": [],
   "source": [
    "# Odds greater than 1. Higher values represent greater odds of being negative\n",
    "np.round(lr_odds_s.loc[lr_odds_s >= 1]\\\n",
    "         .sort_values(ascending=False).head(40),2)"
   ]
  },
  {
   "cell_type": "code",
   "execution_count": null,
   "metadata": {
    "ExecuteTime": {
     "end_time": "2021-06-17T23:05:06.795181Z",
     "start_time": "2021-06-17T23:05:05.231Z"
    },
    "scrolled": false
   },
   "outputs": [],
   "source": [
    "# Odds less than 1. All odds here are related to being in the target class,\n",
    "# so odds less than 1 are more likely to be in the 0 class.\n",
    "\n",
    "# Using 1 / odds to convert to odds that respondent is in 0 class, or\n",
    "# positive\n",
    "np.round(1 / (lr_odds_s.loc[lr_odds_s < 1])\\\n",
    "         .sort_values(ascending=True).head(40), 2)"
   ]
  },
  {
   "cell_type": "markdown",
   "metadata": {},
   "source": [
    "# Modeling Multi-class\n",
    "\n",
    "Initially, I built models to parse out the positive or negative product sentiment, to understand what people said that contributed to each one.\n",
    "\n",
    "To really make this useful though, we would want to be able to pull tweets from another year, for example, and classify which were actually about these products and which weren't."
   ]
  },
  {
   "cell_type": "code",
   "execution_count": null,
   "metadata": {
    "ExecuteTime": {
     "end_time": "2021-06-17T23:05:06.798045Z",
     "start_time": "2021-06-17T23:05:05.238Z"
    },
    "scrolled": true
   },
   "outputs": [],
   "source": [
    "df['emotion'].value_counts()"
   ]
  },
  {
   "cell_type": "code",
   "execution_count": null,
   "metadata": {
    "ExecuteTime": {
     "end_time": "2021-06-17T23:05:06.800793Z",
     "start_time": "2021-06-17T23:05:05.245Z"
    }
   },
   "outputs": [],
   "source": [
    "Xm = df.loc[df['emotion'].isin(['Positive emotion', 'Negative emotion',\n",
    "                              'No emotion toward brand or product']), \n",
    "           'cleaned']\n",
    "ym = df.loc[df['emotion'].isin(['Positive emotion', 'Negative emotion',\n",
    "                              'No emotion toward brand or product']), \n",
    "           'emotion']\n",
    "\n",
    "print(len(Xm))\n",
    "print(len(ym))"
   ]
  },
  {
   "cell_type": "code",
   "execution_count": null,
   "metadata": {
    "ExecuteTime": {
     "end_time": "2021-06-17T23:05:06.804125Z",
     "start_time": "2021-06-17T23:05:05.252Z"
    },
    "scrolled": true
   },
   "outputs": [],
   "source": [
    "ym = ym.map(lambda x: 0 if x==\"Negative emotion\" else \\\n",
    "            (1 if x==\"No emotion toward brand or product\" else 2))\n",
    "ym.value_counts()"
   ]
  },
  {
   "cell_type": "code",
   "execution_count": null,
   "metadata": {
    "ExecuteTime": {
     "end_time": "2021-06-17T23:05:06.807433Z",
     "start_time": "2021-06-17T23:05:05.277Z"
    }
   },
   "outputs": [],
   "source": [
    "# 0 is negative, 1 is none, 2 is positive\n",
    "mclass_labels = ['Negative', 'None', 'Positive']"
   ]
  },
  {
   "cell_type": "code",
   "execution_count": null,
   "metadata": {
    "ExecuteTime": {
     "end_time": "2021-06-17T23:05:06.809826Z",
     "start_time": "2021-06-17T23:05:05.295Z"
    }
   },
   "outputs": [],
   "source": [
    "# train test split\n",
    "Xm_train, Xm_test, ym_train, ym_test = train_test_split(Xm, ym, test_size=0.2,\n",
    "                                               stratify=ym)\n",
    "print(len(Xm_train))\n",
    "print(len(ym_train))\n",
    "print(len(Xm_test))\n",
    "print(len(ym_test))"
   ]
  },
  {
   "cell_type": "code",
   "execution_count": null,
   "metadata": {
    "ExecuteTime": {
     "end_time": "2021-06-17T23:05:06.812719Z",
     "start_time": "2021-06-17T23:05:05.318Z"
    },
    "scrolled": true
   },
   "outputs": [],
   "source": [
    "ym_train.value_counts(normalize=True)"
   ]
  },
  {
   "cell_type": "code",
   "execution_count": null,
   "metadata": {
    "ExecuteTime": {
     "end_time": "2021-06-17T23:05:06.815748Z",
     "start_time": "2021-06-17T23:05:05.330Z"
    },
    "scrolled": true
   },
   "outputs": [],
   "source": [
    "ym_test.value_counts(normalize=True)"
   ]
  },
  {
   "cell_type": "markdown",
   "metadata": {},
   "source": [
    "## Dummy Classifier for Multiclass\n"
   ]
  },
  {
   "cell_type": "code",
   "execution_count": null,
   "metadata": {
    "ExecuteTime": {
     "end_time": "2021-06-17T23:05:06.818910Z",
     "start_time": "2021-06-17T23:05:05.349Z"
    }
   },
   "outputs": [],
   "source": [
    "prep_pipe = Pipeline([\n",
    "    ('vect', CountVectorizer(tokenizer=tweettokenizer.tokenize)),\n",
    "    ('trans', TfidfTransformer())\n",
    "])\n",
    "\n",
    "# modling pipeline with preprocessing and model built in\n",
    "clf_pipe = Pipeline([\n",
    "    ('prep', prep_pipe),\n",
    "    ('clf', DummyClassifier(strategy='stratified'))\n",
    "])\n",
    "\n",
    "clf_pipe.fit(Xm_train, ym_train)\n",
    "\n",
    "eval_clf_model(clf_pipe, Xm_test, ym_test, Xm_train, ym_train, \n",
    "               labels=mclass_labels)"
   ]
  },
  {
   "cell_type": "markdown",
   "metadata": {},
   "source": [
    "## Baseline Multinomial Bayes Models"
   ]
  },
  {
   "cell_type": "code",
   "execution_count": null,
   "metadata": {
    "ExecuteTime": {
     "end_time": "2021-06-17T23:05:06.821291Z",
     "start_time": "2021-06-17T23:05:05.366Z"
    }
   },
   "outputs": [],
   "source": [
    "clf_pipe = Pipeline([\n",
    "    ('prep', prep_pipe),\n",
    "    ('clf', MultinomialNB())\n",
    "])"
   ]
  },
  {
   "cell_type": "markdown",
   "metadata": {},
   "source": [
    "### Tfidf Standardized Doc Term Matrix"
   ]
  },
  {
   "cell_type": "code",
   "execution_count": null,
   "metadata": {
    "ExecuteTime": {
     "end_time": "2021-06-17T23:05:06.823578Z",
     "start_time": "2021-06-17T23:05:05.377Z"
    },
    "scrolled": false
   },
   "outputs": [],
   "source": [
    "clf_pipe.fit(Xm_train, ym_train)\n",
    "\n",
    "eval_clf_model(clf_pipe, Xm_test, ym_test, Xm_train, ym_train, \n",
    "               labels=mclass_labels)"
   ]
  },
  {
   "cell_type": "markdown",
   "metadata": {},
   "source": [
    "Well that's definitely worse than the dummy."
   ]
  },
  {
   "cell_type": "markdown",
   "metadata": {},
   "source": [
    "### Counted Doc Term Matrix"
   ]
  },
  {
   "cell_type": "code",
   "execution_count": null,
   "metadata": {
    "ExecuteTime": {
     "end_time": "2021-06-17T23:05:06.827612Z",
     "start_time": "2021-06-17T23:05:05.396Z"
    },
    "scrolled": false
   },
   "outputs": [],
   "source": [
    "# Since my pipeline includes the Tfidf transformer, I'm explicitly setting\n",
    "# that pipeline step to be passthrough here to remove it\n",
    "clf_pipe.set_params(prep__vect__binary=False)\n",
    "clf_pipe.set_params(prep__trans='passthrough')\n",
    "\n",
    "clf_pipe.fit(Xm_train, ym_train)\n",
    "\n",
    "eval_clf_model(clf_pipe, Xm_test, ym_test, Xm_train, ym_train, \n",
    "               labels=mclass_labels)"
   ]
  },
  {
   "cell_type": "markdown",
   "metadata": {},
   "source": [
    "Not bad on the None class, but we're only classifying 19% of Negatives correctly and 56% of positives correctly."
   ]
  },
  {
   "cell_type": "markdown",
   "metadata": {},
   "source": [
    "### Binary Doc Term Matrix"
   ]
  },
  {
   "cell_type": "code",
   "execution_count": null,
   "metadata": {
    "ExecuteTime": {
     "end_time": "2021-06-17T23:05:06.830589Z",
     "start_time": "2021-06-17T23:05:05.414Z"
    },
    "scrolled": false
   },
   "outputs": [],
   "source": [
    "# Let's try the binary representation instead of raw counts\n",
    "clf_pipe.set_params(prep__vect__binary=True)\n",
    "clf_pipe.set_params(prep__trans='passthrough')\n",
    "\n",
    "clf_pipe.fit(Xm_train, ym_train)\n",
    "\n",
    "eval_clf_model(clf_pipe, Xm_test, ym_test, Xm_train, ym_train, \n",
    "               labels=mclass_labels)"
   ]
  },
  {
   "cell_type": "markdown",
   "metadata": {},
   "source": [
    "Pretty similar performance in terms of which method of creating the term document matrix is best. Tfidf is worst."
   ]
  },
  {
   "cell_type": "markdown",
   "metadata": {},
   "source": [
    "## GridSearchCVs for best params for various models"
   ]
  },
  {
   "cell_type": "code",
   "execution_count": null,
   "metadata": {
    "ExecuteTime": {
     "end_time": "2021-06-17T23:05:06.833098Z",
     "start_time": "2021-06-17T23:05:05.430Z"
    }
   },
   "outputs": [],
   "source": [
    "# set this variable equal to True to re-run the gridsearches\n",
    "rerun_grid = True"
   ]
  },
  {
   "cell_type": "code",
   "execution_count": null,
   "metadata": {
    "ExecuteTime": {
     "end_time": "2021-06-17T23:05:06.836242Z",
     "start_time": "2021-06-17T23:05:05.438Z"
    }
   },
   "outputs": [],
   "source": [
    "# I'm not going to run the versions of stopwords with the full nltk set,\n",
    "# just my pared down version and the version with product stopwords added\n",
    "vector_params = {\"prep__vect__stop_words\": [custom_stopwords + punc_custom,\n",
    "            nltk_stopwords + punc_custom,\n",
    "            product_stopwords + custom_stopwords + punc_custom,\n",
    "            punc_custom + product_stopwords + nltk_stopwords],\n",
    "    \"prep__vect__ngram_range\": [(1,1), (1,2), (2, 2)],\n",
    "    \"prep__vect__max_features\": [None, 1000],\n",
    "    \"prep__vect__binary\": [True, False],\n",
    "    \"prep__trans\": ['passthrough']}"
   ]
  },
  {
   "cell_type": "markdown",
   "metadata": {},
   "source": [
    "### Multinomial Bayes"
   ]
  },
  {
   "cell_type": "code",
   "execution_count": null,
   "metadata": {
    "ExecuteTime": {
     "end_time": "2021-06-17T23:05:06.839726Z",
     "start_time": "2021-06-17T23:05:05.446Z"
    },
    "scrolled": true
   },
   "outputs": [],
   "source": [
    "# Add Multinomial Bayes as the classifier model\n",
    "clf_pipe = Pipeline([\n",
    "    ('prep', prep_pipe),\n",
    "    ('clf', MultinomialNB())\n",
    "])\n",
    "\n",
    "# create a dict of params for MNB\n",
    "mnb_params = {\"clf__fit_prior\": [True, False]}\n",
    "\n",
    "# combine MNB params with the common vector ones\n",
    "grid_params = {**vector_params, **mnb_params}"
   ]
  },
  {
   "cell_type": "code",
   "execution_count": null,
   "metadata": {
    "ExecuteTime": {
     "end_time": "2021-06-17T23:05:06.842877Z",
     "start_time": "2021-06-17T23:05:05.453Z"
    },
    "scrolled": false
   },
   "outputs": [],
   "source": [
    "if rerun_grid:\n",
    "    # gridsearch object for MNB classifier\n",
    "    # I like F1 macro as the score\n",
    "    gs_mnbm = GridSearchCV(clf_pipe, grid_params, n_jobs=-1, verbose=True,\n",
    "                         scoring='recall_macro')\n",
    "\n",
    "    # run the gridsearch\n",
    "    gs_mnbm.fit(Xm_train, ym_train)\n",
    "\n",
    "    print(gs_mnbm.best_estimator_)\n",
    "    print(gs_mnbm.best_score_)\n",
    "\n",
    "    # print the classifier model report\n",
    "    eval_clf_model(gs_mnbm, Xm_test, ym_test, Xm_train, ym_train, \n",
    "                   labels=mclass_labels)"
   ]
  },
  {
   "cell_type": "markdown",
   "metadata": {},
   "source": [
    "Positive and Negative results are slightly better than the best baseline MNB model with the stopwords and some other model params tweaked. However, still not very good.\n",
    "\n",
    "The best multi-class model params for Multinomial Bayes are:\n",
    "- Remove my the longer list of nltk stopwords, plus product stopwords and punctuation\n",
    "- Count doc term matrix instead of coubinarynt\n",
    "- Use unigrams AND bigrams\n",
    "- Do not use the `fit_prior` option for the classifier\n",
    "\n",
    "Although these may be the best options out of the bunch, the model overall does not perform great. Cross-validated F1 macro score was only 0.7, although on my current TTS F1 macro was 0.74 on test. The model also performs much better on training than on test in my current split, so may be overfit."
   ]
  },
  {
   "cell_type": "markdown",
   "metadata": {},
   "source": [
    "### Logistic Regression"
   ]
  },
  {
   "cell_type": "code",
   "execution_count": null,
   "metadata": {
    "ExecuteTime": {
     "end_time": "2021-06-17T23:05:06.847206Z",
     "start_time": "2021-06-17T23:05:05.462Z"
    }
   },
   "outputs": [],
   "source": [
    "# Subbing in Logistic Regression for classifier in pipeline\n",
    "# adding class_weight=Balanced by default, and also upping the max_iter\n",
    "# since I'm testing different solvers and have a lot of features\n",
    "clf_pipe = Pipeline([\n",
    "    ('prep', prep_pipe),\n",
    "    ('clf', LogisticRegression(max_iter=500, class_weight='balanced'))\n",
    "])\n",
    "\n",
    "# took out the shorter stopword list options\n",
    "vector_params = {\"prep__vect__stop_words\": [nltk_stopwords + punc_custom,\n",
    "            punc_custom + product_stopwords + nltk_stopwords],\n",
    "    \"prep__vect__ngram_range\": [(1,1), (1,2), (2, 2)],\n",
    "    \"prep__vect__max_features\": [None, 1000],\n",
    "    \"prep__vect__binary\": [True, False],\n",
    "    \"prep__trans\": ['passthrough']}\n",
    "\n",
    "# create a dict of params for LR\n",
    "lr_params = {\"clf__penalty\": ['l2', 'elasticnet'],\n",
    "    \"clf__fit_intercept\": [True, False],\n",
    "    \"clf__solver\": ['newton-cg', 'lbfgs', 'saga'],\n",
    "    \"clf__C\": [1, 0.1]}\n",
    "\n",
    "# combine LR params with the common vector ones\n",
    "grid_params = {**vector_params, **lr_params}"
   ]
  },
  {
   "cell_type": "code",
   "execution_count": null,
   "metadata": {
    "ExecuteTime": {
     "end_time": "2021-06-17T23:05:06.850197Z",
     "start_time": "2021-06-17T23:05:05.469Z"
    },
    "scrolled": false
   },
   "outputs": [],
   "source": [
    "if rerun_grid:\n",
    "    gsm_lr = GridSearchCV(clf_pipe, grid_params, n_jobs=-1, verbose=True,\n",
    "                         scoring='f1_macro')\n",
    "\n",
    "    gsm_lr.fit(Xm_train, ym_train)\n",
    "\n",
    "    print(gsm_lr.best_estimator_)\n",
    "    print(gsm_lr.best_score_)\n",
    "\n",
    "    eval_clf_model(gsm_lr, Xm_test, ym_test, Xm_train, ym_train, \n",
    "                   labels=mclass_labels)"
   ]
  },
  {
   "cell_type": "code",
   "execution_count": 460,
   "metadata": {
    "ExecuteTime": {
     "end_time": "2021-06-17T23:01:45.629359Z",
     "start_time": "2021-06-17T22:15:43.713988Z"
    }
   },
   "outputs": [
    {
     "name": "stdout",
     "output_type": "stream",
     "text": [
      "Fitting 5 folds for each of 576 candidates, totalling 2880 fits\n"
     ]
    },
    {
     "name": "stderr",
     "output_type": "stream",
     "text": [
      "[Parallel(n_jobs=-1)]: Using backend LokyBackend with 4 concurrent workers.\n",
      "[Parallel(n_jobs=-1)]: Done  42 tasks      | elapsed:   49.9s\n",
      "[Parallel(n_jobs=-1)]: Done 192 tasks      | elapsed:  3.7min\n",
      "[Parallel(n_jobs=-1)]: Done 442 tasks      | elapsed:  9.3min\n",
      "[Parallel(n_jobs=-1)]: Done 792 tasks      | elapsed: 13.5min\n",
      "[Parallel(n_jobs=-1)]: Done 1242 tasks      | elapsed: 22.9min\n",
      "[Parallel(n_jobs=-1)]: Done 1792 tasks      | elapsed: 32.8min\n",
      "[Parallel(n_jobs=-1)]: Done 2442 tasks      | elapsed: 41.2min\n",
      "[Parallel(n_jobs=-1)]: Done 2880 out of 2880 | elapsed: 45.9min finished\n",
      "/Users/jessicamiles/opt/anaconda3/envs/learn-env2/lib/python3.8/site-packages/sklearn/linear_model/_sag.py:329: ConvergenceWarning: The max_iter was reached which means the coef_ did not converge\n",
      "  warnings.warn(\"The max_iter was reached which means \"\n"
     ]
    },
    {
     "name": "stdout",
     "output_type": "stream",
     "text": [
      "Pipeline(steps=[('prep',\n",
      "                 Pipeline(steps=[('vect',\n",
      "                                  CountVectorizer(binary=True,\n",
      "                                                  stop_words=['a', 'about',\n",
      "                                                              'above', 'after',\n",
      "                                                              'again',\n",
      "                                                              'against', 'ain',\n",
      "                                                              'all', 'am', 'an',\n",
      "                                                              'and', 'any',\n",
      "                                                              'are', 'aren',\n",
      "                                                              \"aren't\", 'as',\n",
      "                                                              'at', 'be',\n",
      "                                                              'because', 'been',\n",
      "                                                              'before', 'being',\n",
      "                                                              'below',\n",
      "                                                              'between', 'both',\n",
      "                                                              'but', 'by',\n",
      "                                                              'can', 'couldn',\n",
      "                                                              \"couldn't\", ...],\n",
      "                                                  tokenizer=<bound method TweetTokenizer.tokenize of <nltk.tokenize.casual.TweetTokenizer object at 0x7ff16b6fa820>>)),\n",
      "                                 ('trans', 'passthrough')])),\n",
      "                ('clf',\n",
      "                 LogisticRegression(C=0.1, class_weight='balanced',\n",
      "                                    fit_intercept=False, max_iter=500,\n",
      "                                    solver='saga'))])\n",
      "0.5879526332749956\n",
      "****************************** Training Data ******************************\n",
      "              precision    recall  f1-score   support\n",
      "\n",
      "           0       0.34      0.93      0.50       456\n",
      "           1       0.89      0.68      0.77      4310\n",
      "           2       0.70      0.76      0.72      2382\n",
      "\n",
      "    accuracy                           0.72      7148\n",
      "   macro avg       0.64      0.79      0.66      7148\n",
      "weighted avg       0.79      0.72      0.74      7148\n",
      "\n",
      "\n",
      "****************************** Test Data ******************************\n",
      "              precision    recall  f1-score   support\n",
      "\n",
      "           0       0.21      0.62      0.31       114\n",
      "           1       0.79      0.57      0.66      1078\n",
      "           2       0.54      0.61      0.57       596\n",
      "\n",
      "    accuracy                           0.59      1788\n",
      "   macro avg       0.51      0.60      0.51      1788\n",
      "weighted avg       0.67      0.59      0.61      1788\n",
      "\n",
      "\n",
      "****************************** Training Scores ******************************\n",
      "            Training Macro F1 = 0.6641\n",
      "        Training Macro Recall = 0.7904\n",
      "   Training Balanced Accuracy = 0.7904\n",
      "\n",
      "****************************** Test Scores ******************************\n",
      "                Test Macro F1 = 0.5146\n",
      "            Test Macro Recall = 0.5999\n",
      "       Test Balanced Accuracy = 0.5999\n",
      "\n",
      "****************************** Differences ******************************\n",
      "         Train-Test Macro F1 Diff = -0.14950000000000008\n",
      "     Train-Test Macro Recall Diff = -0.1905\n",
      "Train-Test Balanced Accuracy Diff = -0.1905\n",
      "\n",
      "****************************** Graphs for Test ******************************\n"
     ]
    },
    {
     "data": {
      "image/png": "[encoded data removed]",
      "text/plain": [
       "<Figure size 432x288 with 2 Axes>"
      ]
     },
     "metadata": {
      "needs_background": "light"
     },
     "output_type": "display_data"
    }
   ],
   "source": [
    "# Let's try optimizing for recall and see if we get any better results?\n",
    "if rerun_grid:\n",
    "    gsm_lr = GridSearchCV(clf_pipe, grid_params, n_jobs=-1, verbose=True,\n",
    "                         scoring='recall_macro')\n",
    "\n",
    "    gsm_lr.fit(Xm_train, ym_train)\n",
    "\n",
    "    print(gsm_lr.best_estimator_)\n",
    "    print(gsm_lr.best_score_)\n",
    "\n",
    "    eval_clf_model(gsm_lr, Xm_test, ym_test, Xm_train, ym_train, \n",
    "                   labels=mclass_labels)"
   ]
  },
  {
   "cell_type": "markdown",
   "metadata": {},
   "source": [
    "Slightly better than the previous two model types, with F1 macro of 0.73 on CV. The AUC and AP from Precision-Recall plot do look better than the previous models as well, with an AUC of 0.76 compared to 0.72 for RF and 0.65 for Multinomial Bayes.\n",
    "\n",
    "Interestingly, this model was the first to choose unigrams and bigrams as the parameter for the best model; the others all stuck with unigrams.\n",
    "\n",
    "This is the third model where the best model's `max_features` in the vectorizer step was `None`, and the stop words list for the best model was the minimal one I created, not including the product-related stop words. I interpret this to mean that when we're using regular word vectors with counts, the words that make a difference in terms of emotion are not among the most common; they are less commonly used, perhaps more varied words. \n",
    "\n",
    "This makes sense if we consider that the words we use to express frustration or describe things we don't like certainly vary a lot, so it would be unlikely for us to see a bunch of really common words. That being said, I'm wondering which words had the highest coefficients from this model."
   ]
  },
  {
   "cell_type": "code",
   "execution_count": 341,
   "metadata": {
    "ExecuteTime": {
     "end_time": "2021-06-17T12:57:05.038633Z",
     "start_time": "2021-06-17T12:57:04.918440Z"
    }
   },
   "outputs": [
    {
     "data": {
      "text/plain": [
       "['models/best_lr_model.joblib.gz']"
      ]
     },
     "execution_count": 341,
     "metadata": {},
     "output_type": "execute_result"
    }
   ],
   "source": [
    "# pull out the best model from the Logistic Regression gridsearch\n",
    "lr = gs_lr.best_estimator_.named_steps['clf']\n",
    "\n",
    "# save out best model for later, if needed\n",
    "model_path = 'models/'\n",
    "joblib.dump(lr, f\"{model_path}best_lr_model.joblib.gz\")"
   ]
  },
  {
   "cell_type": "markdown",
   "metadata": {},
   "source": [
    "# iNTERPRET"
   ]
  },
  {
   "cell_type": "markdown",
   "metadata": {},
   "source": [
    "Evaluate how well your work solves the stated business problem.\n",
    "\n",
    "***\n",
    "Questions to consider:\n",
    "* How do you interpret the results?\n",
    "* How well does your model fit your data? How much better is this than your baseline model?\n",
    "* How confident are you that your results would generalize beyond the data you have?\n",
    "* How confident are you that this model would benefit the business if put into use?\n",
    "***"
   ]
  },
  {
   "cell_type": "markdown",
   "metadata": {},
   "source": [
    "An important factor in interpreting these results is how the data was initially labeled.\n",
    "\n",
    "First, it was labeled by CrowdFlower (now called Figure Eight), meaning a diverse group of human beings did the labeling. I was not able to determine what, if any, steps were taken after the labeling to perform quality control checks or standardization on the accuracy and consistency of the labels applied.\n",
    "\n",
    "Although human beings are certainly better at detecting sentiment and emotion than computer systems, there are no objective standards for deciding sentiment and emotion. In other words, the ground truth represented by these labels is still fairly subjective, adding an additional layer of noise to the data on top of the existing noise related to general differences in how people use words.\n",
    "\n",
    "It is not only the interpretation of sentiment which is subjective and thus prone to noisy labeling by the humans who classify the data. Sentiment is also inherently noisy in general because it is not a black or white concept; highly positive or highly negative. Both positive and negative sentiments may be expressed on gradient scales, with a very muddy neutral center in which it may not only be difficult to determine positive form negative, but also both may be true."
   ]
  },
  {
   "cell_type": "code",
   "execution_count": 361,
   "metadata": {
    "ExecuteTime": {
     "end_time": "2021-06-17T15:09:52.980218Z",
     "start_time": "2021-06-17T15:09:52.612812Z"
    },
    "scrolled": false
   },
   "outputs": [
    {
     "data": {
      "text/html": [
       "<div>\n",
       "<style scoped>\n",
       "    .dataframe tbody tr th:only-of-type {\n",
       "        vertical-align: middle;\n",
       "    }\n",
       "\n",
       "    .dataframe tbody tr th {\n",
       "        vertical-align: top;\n",
       "    }\n",
       "\n",
       "    .dataframe thead th {\n",
       "        text-align: right;\n",
       "    }\n",
       "</style>\n",
       "<table border=\"1\" class=\"dataframe\">\n",
       "  <thead>\n",
       "    <tr style=\"text-align: right;\">\n",
       "      <th></th>\n",
       "      <th>tweet_text</th>\n",
       "      <th>emotion</th>\n",
       "      <th>product</th>\n",
       "    </tr>\n",
       "  </thead>\n",
       "  <tbody>\n",
       "    <tr>\n",
       "      <th>75</th>\n",
       "      <td>I love my @mention iPhone case from #Sxsw but I can't get my phone out of it #fail</td>\n",
       "      <td>Positive emotion</td>\n",
       "      <td>iPhone</td>\n",
       "    </tr>\n",
       "    <tr>\n",
       "      <th>2297</th>\n",
       "      <td>I'm late but finally here at #gsdm #google #SXSW great surprise to b greeted by the lovely Lindsay stillman. Gonna b a good night.</td>\n",
       "      <td>Positive emotion</td>\n",
       "      <td>Google</td>\n",
       "    </tr>\n",
       "    <tr>\n",
       "      <th>2302</th>\n",
       "      <td>The walk by Lady Bird Lake was lovely, but Google Maps travel times are not to be trusted. #SXSW</td>\n",
       "      <td>Negative emotion</td>\n",
       "      <td>Other Google product or service</td>\n",
       "    </tr>\n",
       "    <tr>\n",
       "      <th>2440</th>\n",
       "      <td>Google and Bing meet at #SXSW after their lovers tiff last month but it seems to have been disappointingly friendly {link}</td>\n",
       "      <td>Negative emotion</td>\n",
       "      <td>Google</td>\n",
       "    </tr>\n",
       "    <tr>\n",
       "      <th>3553</th>\n",
       "      <td>@mention i know this is a premature tweet, but i'd love to see pics of the apple pop up store at #sxsw :)</td>\n",
       "      <td>Positive emotion</td>\n",
       "      <td>Apple</td>\n",
       "    </tr>\n",
       "    <tr>\n",
       "      <th>3572</th>\n",
       "      <td>@mention I would love to chk out #ie9 at #sxsw but @mention has no handsets and the 1 thats upcoming will not seduce me away from @mention</td>\n",
       "      <td>No emotion toward brand or product</td>\n",
       "      <td>NaN</td>\n",
       "    </tr>\n",
       "    <tr>\n",
       "      <th>4399</th>\n",
       "      <td>I was on my way here for the android party but hewlitt packard has a badass thing goiing with free food and booze and music. I love #sxsw</td>\n",
       "      <td>No emotion toward brand or product</td>\n",
       "      <td>NaN</td>\n",
       "    </tr>\n",
       "    <tr>\n",
       "      <th>5803</th>\n",
       "      <td>RT @mention Google and Bing meet at #SXSW after their lovers tiff last month but it seems to have been disappointingly friendly {link}</td>\n",
       "      <td>No emotion toward brand or product</td>\n",
       "      <td>NaN</td>\n",
       "    </tr>\n",
       "    <tr>\n",
       "      <th>5940</th>\n",
       "      <td>RT @mention Got good content, but no Google/Bing love? on SEO, ranking #SXSW {link}</td>\n",
       "      <td>No emotion toward brand or product</td>\n",
       "      <td>NaN</td>\n",
       "    </tr>\n",
       "    <tr>\n",
       "      <th>8356</th>\n",
       "      <td>3G is sketchy in Austin for #sxsw, yet @mention still works on my iPhone. Don't know why, not sure if I need to, but I love it.</td>\n",
       "      <td>Positive emotion</td>\n",
       "      <td>iPhone</td>\n",
       "    </tr>\n",
       "    <tr>\n",
       "      <th>8543</th>\n",
       "      <td>I'd love to get my #ipad2 at the #apple store that's popping up downtown tomorrow, but lack the patience for #SXSW douchebaggery.</td>\n",
       "      <td>Positive emotion</td>\n",
       "      <td>iPad</td>\n",
       "    </tr>\n",
       "  </tbody>\n",
       "</table>\n",
       "</div>"
      ],
      "text/plain": [
       "                                                                                                                                      tweet_text  \\\n",
       "75                                                            I love my @mention iPhone case from #Sxsw but I can't get my phone out of it #fail   \n",
       "2297          I'm late but finally here at #gsdm #google #SXSW great surprise to b greeted by the lovely Lindsay stillman. Gonna b a good night.   \n",
       "2302                                            The walk by Lady Bird Lake was lovely, but Google Maps travel times are not to be trusted. #SXSW   \n",
       "2440                  Google and Bing meet at #SXSW after their lovers tiff last month but it seems to have been disappointingly friendly {link}   \n",
       "3553                                   @mention i know this is a premature tweet, but i'd love to see pics of the apple pop up store at #sxsw :)   \n",
       "3572  @mention I would love to chk out #ie9 at #sxsw but @mention has no handsets and the 1 thats upcoming will not seduce me away from @mention   \n",
       "4399   I was on my way here for the android party but hewlitt packard has a badass thing goiing with free food and booze and music. I love #sxsw   \n",
       "5803      RT @mention Google and Bing meet at #SXSW after their lovers tiff last month but it seems to have been disappointingly friendly {link}   \n",
       "5940                                                         RT @mention Got good content, but no Google/Bing love? on SEO, ranking #SXSW {link}   \n",
       "8356             3G is sketchy in Austin for #sxsw, yet @mention still works on my iPhone. Don't know why, not sure if I need to, but I love it.   \n",
       "8543           I'd love to get my #ipad2 at the #apple store that's popping up downtown tomorrow, but lack the patience for #SXSW douchebaggery.   \n",
       "\n",
       "                                 emotion                          product  \n",
       "75                      Positive emotion                           iPhone  \n",
       "2297                    Positive emotion                           Google  \n",
       "2302                    Negative emotion  Other Google product or service  \n",
       "2440                    Negative emotion                           Google  \n",
       "3553                    Positive emotion                            Apple  \n",
       "3572  No emotion toward brand or product                              NaN  \n",
       "4399  No emotion toward brand or product                              NaN  \n",
       "5803  No emotion toward brand or product                              NaN  \n",
       "5940  No emotion toward brand or product                              NaN  \n",
       "8356                    Positive emotion                           iPhone  \n",
       "8543                    Positive emotion                             iPad  "
      ]
     },
     "execution_count": 361,
     "metadata": {},
     "output_type": "execute_result"
    }
   ],
   "source": [
    "df.loc[(df['tweet_text'].str.contains(\"love\", regex=False)) & \n",
    "       (df['tweet_text'].str.contains(\"but\", regex=False))\n",
    "       , ['tweet_text', 'emotion', 'product']]"
   ]
  },
  {
   "cell_type": "code",
   "execution_count": 363,
   "metadata": {
    "ExecuteTime": {
     "end_time": "2021-06-17T15:14:03.960566Z",
     "start_time": "2021-06-17T15:14:03.804994Z"
    }
   },
   "outputs": [
    {
     "data": {
      "text/html": [
       "<div>\n",
       "<style scoped>\n",
       "    .dataframe tbody tr th:only-of-type {\n",
       "        vertical-align: middle;\n",
       "    }\n",
       "\n",
       "    .dataframe tbody tr th {\n",
       "        vertical-align: top;\n",
       "    }\n",
       "\n",
       "    .dataframe thead th {\n",
       "        text-align: right;\n",
       "    }\n",
       "</style>\n",
       "<table border=\"1\" class=\"dataframe\">\n",
       "  <thead>\n",
       "    <tr style=\"text-align: right;\">\n",
       "      <th></th>\n",
       "      <th>tweet_text</th>\n",
       "      <th>emotion</th>\n",
       "      <th>product</th>\n",
       "    </tr>\n",
       "  </thead>\n",
       "  <tbody>\n",
       "    <tr>\n",
       "      <th>113</th>\n",
       "      <td>#SXSW and #Apple iPad 2's are great, but thoughts are w/ Japan and APAC regions dealing w/ earthquake &amp;amp; tsunami trauma. #sxswi</td>\n",
       "      <td>Positive emotion</td>\n",
       "      <td>iPad</td>\n",
       "    </tr>\n",
       "    <tr>\n",
       "      <th>1575</th>\n",
       "      <td>I agree, @mention but they're all so great!  &amp;quot;iPhone Apps For Mealtime&amp;quot; {link} (via @mention #bizzy #sxsw</td>\n",
       "      <td>Positive emotion</td>\n",
       "      <td>iPad or iPhone App</td>\n",
       "    </tr>\n",
       "    <tr>\n",
       "      <th>2297</th>\n",
       "      <td>I'm late but finally here at #gsdm #google #SXSW great surprise to b greeted by the lovely Lindsay stillman. Gonna b a good night.</td>\n",
       "      <td>Positive emotion</td>\n",
       "      <td>Google</td>\n",
       "    </tr>\n",
       "    <tr>\n",
       "      <th>3314</th>\n",
       "      <td>IPad design talk was great, but ran late, had to haul ass to get to Ballroom A Innovative Design through Biomimicry #sxsw</td>\n",
       "      <td>Positive emotion</td>\n",
       "      <td>iPad</td>\n",
       "    </tr>\n",
       "    <tr>\n",
       "      <th>3672</th>\n",
       "      <td>standing in back of rm, iPhone plugged in, laptop won't connect but ready for if everything's so great why's no one happy #gsdm #SXSW</td>\n",
       "      <td>No emotion toward brand or product</td>\n",
       "      <td>NaN</td>\n",
       "    </tr>\n",
       "    <tr>\n",
       "      <th>4387</th>\n",
       "      <td>Just got my hand on the ipad 2 at #sxsw. Mixed feelings on the magnetic cover, but overall, a great improvemnt.</td>\n",
       "      <td>Positive emotion</td>\n",
       "      <td>iPad</td>\n",
       "    </tr>\n",
       "    <tr>\n",
       "      <th>7650</th>\n",
       "      <td>Another great review of Super Kaiju Hero Force: &amp;quot;The jokes are a little childish but who am I to judge since I'm 13.&amp;quot; LOL! #iphone #sxsw</td>\n",
       "      <td>No emotion toward brand or product</td>\n",
       "      <td>NaN</td>\n",
       "    </tr>\n",
       "    <tr>\n",
       "      <th>8644</th>\n",
       "      <td>Highly doubt @mention will announce new social effort at #sxsw today...does not seem their style, but I greatly look forward to seeing it.</td>\n",
       "      <td>No emotion toward brand or product</td>\n",
       "      <td>NaN</td>\n",
       "    </tr>\n",
       "    <tr>\n",
       "      <th>8657</th>\n",
       "      <td>Google would be a great partner for us, says @mention Looking for more distribution and better products. #sxsw</td>\n",
       "      <td>Positive emotion</td>\n",
       "      <td>Google</td>\n",
       "    </tr>\n",
       "    <tr>\n",
       "      <th>8682</th>\n",
       "      <td>I picked up a &amp;quot;mophie&amp;quot; iPhone charge case at the #sxsw tradeshow. Doubt I'll use it all the time but it's great for long days out.</td>\n",
       "      <td>Positive emotion</td>\n",
       "      <td>Other Apple product or service</td>\n",
       "    </tr>\n",
       "    <tr>\n",
       "      <th>8821</th>\n",
       "      <td>Dear #sxsw iPhone app: you suck again this year! (sitby.us is great but doesn't include film sessions)</td>\n",
       "      <td>Negative emotion</td>\n",
       "      <td>iPad or iPhone App</td>\n",
       "    </tr>\n",
       "  </tbody>\n",
       "</table>\n",
       "</div>"
      ],
      "text/plain": [
       "                                                                                                                                              tweet_text  \\\n",
       "113                   #SXSW and #Apple iPad 2's are great, but thoughts are w/ Japan and APAC regions dealing w/ earthquake &amp; tsunami trauma. #sxswi   \n",
       "1575                                 I agree, @mention but they're all so great!  &quot;iPhone Apps For Mealtime&quot; {link} (via @mention #bizzy #sxsw   \n",
       "2297                  I'm late but finally here at #gsdm #google #SXSW great surprise to b greeted by the lovely Lindsay stillman. Gonna b a good night.   \n",
       "3314                           IPad design talk was great, but ran late, had to haul ass to get to Ballroom A Innovative Design through Biomimicry #sxsw   \n",
       "3672               standing in back of rm, iPhone plugged in, laptop won't connect but ready for if everything's so great why's no one happy #gsdm #SXSW   \n",
       "4387                                     Just got my hand on the ipad 2 at #sxsw. Mixed feelings on the magnetic cover, but overall, a great improvemnt.   \n",
       "7650  Another great review of Super Kaiju Hero Force: &quot;The jokes are a little childish but who am I to judge since I'm 13.&quot; LOL! #iphone #sxsw   \n",
       "8644          Highly doubt @mention will announce new social effort at #sxsw today...does not seem their style, but I greatly look forward to seeing it.   \n",
       "8657                                      Google would be a great partner for us, says @mention Looking for more distribution and better products. #sxsw   \n",
       "8682        I picked up a &quot;mophie&quot; iPhone charge case at the #sxsw tradeshow. Doubt I'll use it all the time but it's great for long days out.   \n",
       "8821                                              Dear #sxsw iPhone app: you suck again this year! (sitby.us is great but doesn't include film sessions)   \n",
       "\n",
       "                                 emotion                         product  \n",
       "113                     Positive emotion                            iPad  \n",
       "1575                    Positive emotion              iPad or iPhone App  \n",
       "2297                    Positive emotion                          Google  \n",
       "3314                    Positive emotion                            iPad  \n",
       "3672  No emotion toward brand or product                             NaN  \n",
       "4387                    Positive emotion                            iPad  \n",
       "7650  No emotion toward brand or product                             NaN  \n",
       "8644  No emotion toward brand or product                             NaN  \n",
       "8657                    Positive emotion                          Google  \n",
       "8682                    Positive emotion  Other Apple product or service  \n",
       "8821                    Negative emotion              iPad or iPhone App  "
      ]
     },
     "execution_count": 363,
     "metadata": {},
     "output_type": "execute_result"
    }
   ],
   "source": [
    "df.loc[(df['tweet_text'].str.contains(\"great\", regex=False)) & \n",
    "       (df['tweet_text'].str.contains(\"but\", regex=False))\n",
    "       , ['tweet_text', 'emotion', 'product']]"
   ]
  },
  {
   "cell_type": "markdown",
   "metadata": {},
   "source": [
    "# CONCLUSIONS & RECOMMENDATIONS"
   ]
  },
  {
   "cell_type": "markdown",
   "metadata": {},
   "source": [
    "Provide your conclusions about the work you've done, including any limitations or next steps.\n",
    "\n",
    "***\n",
    "Questions to consider:\n",
    "* What would you recommend the business do as a result of this work?\n",
    "* What are some reasons why your analysis might not fully solve the business problem?\n",
    "* What else could you do in the future to improve this project?\n",
    "***"
   ]
  },
  {
   "cell_type": "markdown",
   "metadata": {},
   "source": [
    "One big challenge with this dataset is how applicable it would be to other products, and also to different situations. I believe all of these tweets were tagged to the SWSW festival in Austin, so the content is specific to the activities and such that were there.\n",
    "\n",
    "It's also pretty specific to Apple and Google products."
   ]
  },
  {
   "cell_type": "code",
   "execution_count": null,
   "metadata": {},
   "outputs": [],
   "source": []
  }
 ],
 "metadata": {
  "kernelspec": {
   "display_name": "learn-env2",
   "language": "python",
   "name": "learn-env2"
  },
  "language_info": {
   "codemirror_mode": {
    "name": "ipython",
    "version": 3
   },
   "file_extension": ".py",
   "mimetype": "text/x-python",
   "name": "python",
   "nbconvert_exporter": "python",
   "pygments_lexer": "ipython3",
   "version": "3.8.5"
  },
  "toc": {
   "base_numbering": 1,
   "nav_menu": {},
   "number_sections": false,
   "sideBar": true,
   "skip_h1_title": false,
   "title_cell": "Table of Contents",
   "title_sidebar": "Contents",
   "toc_cell": false,
   "toc_position": {
    "height": "calc(100% - 180px)",
    "left": "10px",
    "top": "150px",
    "width": "227.188px"
   },
   "toc_section_display": true,
   "toc_window_display": true
  },
  "varInspector": {
   "cols": {
    "lenName": 16,
    "lenType": 16,
    "lenVar": 40
   },
   "kernels_config": {
    "python": {
     "delete_cmd_postfix": "",
     "delete_cmd_prefix": "del ",
     "library": "var_list.py",
     "varRefreshCmd": "print(var_dic_list())"
    },
    "r": {
     "delete_cmd_postfix": ") ",
     "delete_cmd_prefix": "rm(",
     "library": "var_list.r",
     "varRefreshCmd": "cat(var_dic_list()) "
    }
   },
   "types_to_exclude": [
    "module",
    "function",
    "builtin_function_or_method",
    "instance",
    "_Feature"
   ],
   "window_display": false
  }
 },
 "nbformat": 4,
 "nbformat_minor": 2
}
